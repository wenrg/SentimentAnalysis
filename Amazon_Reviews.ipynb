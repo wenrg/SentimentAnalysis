{
 "cells": [
  {
   "cell_type": "markdown",
   "metadata": {},
   "source": [
    "## JSON to CSV"
   ]
  },
  {
   "cell_type": "code",
   "execution_count": 6,
   "metadata": {},
   "outputs": [],
   "source": [
    "import json\n",
    "import gzip\n",
    "import csv\n",
    "\n",
    "\n",
    "def curr_time():\n",
    "    import datetime, pytz\n",
    "    nyc_curr = datetime.datetime.now(pytz.timezone('US/Eastern'))\n",
    "    return nyc_curr.strftime('%Y-%m-%d %H:%M:%S')\n",
    "\n",
    "\n",
    "def safe_read(line,col):\n",
    "    try:\n",
    "        return line[col]\n",
    "    except:\n",
    "        return None\n",
    "        \n",
    "        \n",
    "def json2csv(table_name):\n",
    "    input_file = './data/{0}.json.gz'.format(table_name)\n",
    "    output_file = './data/{0}.csv'.format(table_name)\n",
    "\n",
    "    print('Processing {0}.json.gz: {1}'.format(table_name,curr_time()))\n",
    "    with gzip.open(input_file, 'r') as file_in:\n",
    "        with open(output_file, 'w', encoding='utf-8') as file_out:\n",
    "            writer = csv.writer(file_out, delimiter=',', escapechar='\\\\')\n",
    "            writer.writerow(['reviewerID','asin','helpful','reviewText',\n",
    "                             'overall','summary','unixReviewTime','reviewTime'])\n",
    "            for line in file_in:\n",
    "                review = eval(line)\n",
    "                reviewerID = safe_read(review,'reviewerID')\n",
    "                asin = safe_read(review,'asin')\n",
    "                reviewerName = safe_read(review,'reviewerName')\n",
    "                helpful = safe_read(review,'helpful')\n",
    "                # it can work over a CSV, but does not respect escaped commas which produces a bad result\n",
    "                reviewText = safe_read(review,'reviewText')\n",
    "                if reviewText is not None:\n",
    "                    reviewText = reviewText.replace('\"', '\\\"').strip()\n",
    "                overall = safe_read(review,'overall')\n",
    "                summary = safe_read(review,'summary')\n",
    "                unixReviewTime = safe_read(review,'unixReviewTime')\n",
    "                reviewTime = safe_read(review,'reviewTime')\n",
    "                writer.writerow([reviewerID,asin,helpful,reviewText,\n",
    "                                 overall,summary,unixReviewTime,reviewTime])\n",
    "    print('Done!',curr_time())"
   ]
  },
  {
   "cell_type": "code",
   "execution_count": 12,
   "metadata": {},
   "outputs": [
    {
     "name": "stdout",
     "output_type": "stream",
     "text": [
      "Processing reviews_Baby_5.json.gz: 2019-06-27 20:10:06\n",
      "Done! 2019-06-27 20:10:18\n"
     ]
    }
   ],
   "source": [
    "json2csv('reviews_Baby_5')"
   ]
  },
  {
   "cell_type": "code",
   "execution_count": 13,
   "metadata": {},
   "outputs": [
    {
     "name": "stdout",
     "output_type": "stream",
     "text": [
      "Processing reviews_Books_5.json.gz: 2019-06-27 20:10:18\n",
      "Done! 2019-06-27 20:24:47\n",
      "Processing reviews_Electronics_5.json.gz: 2019-06-27 20:24:47\n",
      "Done! 2019-06-27 20:27:16\n",
      "Processing reviews_Sports_and_Outdoors_5.json.gz: 2019-06-27 20:27:16\n",
      "Done! 2019-06-27 20:27:40\n",
      "Processing reviews_Video_Games_5.json.gz: 2019-06-27 20:27:40\n",
      "Done! 2019-06-27 20:28:06\n"
     ]
    }
   ],
   "source": [
    "for table in ['reviews_Books_5', 'reviews_Electronics_5', 'reviews_Sports_and_Outdoors_5', 'reviews_Video_Games_5']:\n",
    "    json2csv(table)"
   ]
  },
  {
   "cell_type": "markdown",
   "metadata": {},
   "source": [
    "## Feature Extraction\n",
    "\n",
    "### Entity and Sentiment Detection"
   ]
  },
  {
   "cell_type": "code",
   "execution_count": 1,
   "metadata": {},
   "outputs": [],
   "source": [
    "import pandas as pd"
   ]
  },
  {
   "cell_type": "code",
   "execution_count": 2,
   "metadata": {},
   "outputs": [
    {
     "data": {
      "text/html": [
       "<div>\n",
       "<style scoped>\n",
       "    .dataframe tbody tr th:only-of-type {\n",
       "        vertical-align: middle;\n",
       "    }\n",
       "\n",
       "    .dataframe tbody tr th {\n",
       "        vertical-align: top;\n",
       "    }\n",
       "\n",
       "    .dataframe thead th {\n",
       "        text-align: right;\n",
       "    }\n",
       "</style>\n",
       "<table border=\"1\" class=\"dataframe\">\n",
       "  <thead>\n",
       "    <tr style=\"text-align: right;\">\n",
       "      <th></th>\n",
       "      <th>reviewerID</th>\n",
       "      <th>asin</th>\n",
       "      <th>helpful</th>\n",
       "      <th>reviewText</th>\n",
       "      <th>overall</th>\n",
       "      <th>summary</th>\n",
       "      <th>unixReviewTime</th>\n",
       "      <th>reviewTime</th>\n",
       "    </tr>\n",
       "  </thead>\n",
       "  <tbody>\n",
       "    <tr>\n",
       "      <th>72000</th>\n",
       "      <td>AMUT3CJD53M7N</td>\n",
       "      <td>B002GUHWV2</td>\n",
       "      <td>[0, 0]</td>\n",
       "      <td>I bought it in conjunction with a munchie mug ...</td>\n",
       "      <td>5.0</td>\n",
       "      <td>works perfect</td>\n",
       "      <td>1365292800</td>\n",
       "      <td>04 7, 2013</td>\n",
       "    </tr>\n",
       "    <tr>\n",
       "      <th>35262</th>\n",
       "      <td>A5RQIPJ3UWLJH</td>\n",
       "      <td>B000O7SR18</td>\n",
       "      <td>[0, 0]</td>\n",
       "      <td>This sheet is a good fabric, but is too small ...</td>\n",
       "      <td>3.0</td>\n",
       "      <td>Good fabric, doesn't fit a graco</td>\n",
       "      <td>1373760000</td>\n",
       "      <td>07 14, 2013</td>\n",
       "    </tr>\n",
       "    <tr>\n",
       "      <th>103901</th>\n",
       "      <td>A2EXX1OF08ALOT</td>\n",
       "      <td>B0043D28AU</td>\n",
       "      <td>[0, 0]</td>\n",
       "      <td>may my baby is too young at 9 months, but she ...</td>\n",
       "      <td>3.0</td>\n",
       "      <td>baby got tired of it</td>\n",
       "      <td>1377302400</td>\n",
       "      <td>08 24, 2013</td>\n",
       "    </tr>\n",
       "  </tbody>\n",
       "</table>\n",
       "</div>"
      ],
      "text/plain": [
       "            reviewerID        asin helpful  \\\n",
       "72000    AMUT3CJD53M7N  B002GUHWV2  [0, 0]   \n",
       "35262    A5RQIPJ3UWLJH  B000O7SR18  [0, 0]   \n",
       "103901  A2EXX1OF08ALOT  B0043D28AU  [0, 0]   \n",
       "\n",
       "                                               reviewText  overall  \\\n",
       "72000   I bought it in conjunction with a munchie mug ...      5.0   \n",
       "35262   This sheet is a good fabric, but is too small ...      3.0   \n",
       "103901  may my baby is too young at 9 months, but she ...      3.0   \n",
       "\n",
       "                                 summary  unixReviewTime   reviewTime  \n",
       "72000                      works perfect      1365292800   04 7, 2013  \n",
       "35262   Good fabric, doesn't fit a graco      1373760000  07 14, 2013  \n",
       "103901              baby got tired of it      1377302400  08 24, 2013  "
      ]
     },
     "execution_count": 2,
     "metadata": {},
     "output_type": "execute_result"
    }
   ],
   "source": [
    "# read data\n",
    "review_df = pd.read_csv('./data/reviews_Baby_5')\n",
    "review_df.sample(3)"
   ]
  },
  {
   "cell_type": "code",
   "execution_count": 3,
   "metadata": {},
   "outputs": [
    {
     "data": {
      "text/plain": [
       "reviewerID         0\n",
       "asin               0\n",
       "helpful            0\n",
       "reviewText        60\n",
       "overall            0\n",
       "summary            0\n",
       "unixReviewTime     0\n",
       "reviewTime         0\n",
       "dtype: int64"
      ]
     },
     "execution_count": 3,
     "metadata": {},
     "output_type": "execute_result"
    }
   ],
   "source": [
    "# check null values\n",
    "review_df.isnull().sum()"
   ]
  },
  {
   "cell_type": "code",
   "execution_count": 4,
   "metadata": {},
   "outputs": [
    {
     "data": {
      "text/plain": [
       "0"
      ]
     },
     "execution_count": 4,
     "metadata": {},
     "output_type": "execute_result"
    }
   ],
   "source": [
    "# fill null with empty string\n",
    "review_df = review_df.fillna('')\n",
    "review_df.isnull().sum().sum()"
   ]
  },
  {
   "cell_type": "markdown",
   "metadata": {},
   "source": [
    "- Split reviewText to Paragragh List"
   ]
  },
  {
   "cell_type": "code",
   "execution_count": 5,
   "metadata": {},
   "outputs": [
    {
     "data": {
      "text/plain": [
       "<class 'str'>    160732\n",
       "Name: reviewText, dtype: int64"
      ]
     },
     "execution_count": 5,
     "metadata": {},
     "output_type": "execute_result"
    }
   ],
   "source": [
    "review_df['reviewText'].map(type).value_counts()"
   ]
  },
  {
   "cell_type": "code",
   "execution_count": 6,
   "metadata": {},
   "outputs": [],
   "source": [
    "def paragraph_split(x):\n",
    "    p = x.strip().replace('.  ','.|||').replace('!  ','!|||').replace('?  ','?|||')\n",
    "    return p.split('|||')"
   ]
  },
  {
   "cell_type": "code",
   "execution_count": 7,
   "metadata": {},
   "outputs": [
    {
     "name": "stdout",
     "output_type": "stream",
     "text": [
      "CPU times: user 1.52 s, sys: 87.3 ms, total: 1.61 s\n",
      "Wall time: 1.68 s\n"
     ]
    }
   ],
   "source": [
    "%%time\n",
    "review_df['reviewParagraphs'] = review_df['reviewText'].map(paragraph_split)\n",
    "review_df['paragraph_num'] = review_df['reviewParagraphs'].map(len)"
   ]
  },
  {
   "cell_type": "code",
   "execution_count": 8,
   "metadata": {},
   "outputs": [
    {
     "data": {
      "text/html": [
       "<div>\n",
       "<style scoped>\n",
       "    .dataframe tbody tr th:only-of-type {\n",
       "        vertical-align: middle;\n",
       "    }\n",
       "\n",
       "    .dataframe tbody tr th {\n",
       "        vertical-align: top;\n",
       "    }\n",
       "\n",
       "    .dataframe thead th {\n",
       "        text-align: right;\n",
       "    }\n",
       "</style>\n",
       "<table border=\"1\" class=\"dataframe\">\n",
       "  <thead>\n",
       "    <tr style=\"text-align: right;\">\n",
       "      <th></th>\n",
       "      <th>reviewerID</th>\n",
       "      <th>asin</th>\n",
       "      <th>helpful</th>\n",
       "      <th>reviewText</th>\n",
       "      <th>overall</th>\n",
       "      <th>summary</th>\n",
       "      <th>unixReviewTime</th>\n",
       "      <th>reviewTime</th>\n",
       "      <th>reviewParagraphs</th>\n",
       "      <th>paragraph_num</th>\n",
       "    </tr>\n",
       "  </thead>\n",
       "  <tbody>\n",
       "    <tr>\n",
       "      <th>62310</th>\n",
       "      <td>A2ZEXKFLKF3TSK</td>\n",
       "      <td>B001OC62U0</td>\n",
       "      <td>[0, 0]</td>\n",
       "      <td>The mirror serves its purpose- could be a litt...</td>\n",
       "      <td>3.0</td>\n",
       "      <td>still needs some tweaking</td>\n",
       "      <td>1313020800</td>\n",
       "      <td>08 11, 2011</td>\n",
       "      <td>[The mirror serves its purpose- could be a lit...</td>\n",
       "      <td>1</td>\n",
       "    </tr>\n",
       "    <tr>\n",
       "      <th>132753</th>\n",
       "      <td>A3OZ39B0BKTP3Z</td>\n",
       "      <td>B006OJIJVI</td>\n",
       "      <td>[1, 1]</td>\n",
       "      <td>This was the only gate that worked for my bani...</td>\n",
       "      <td>4.0</td>\n",
       "      <td>Hard to install, but needed.</td>\n",
       "      <td>1382659200</td>\n",
       "      <td>10 25, 2013</td>\n",
       "      <td>[This was the only gate that worked for my ban...</td>\n",
       "      <td>4</td>\n",
       "    </tr>\n",
       "    <tr>\n",
       "      <th>9546</th>\n",
       "      <td>A1Q011AJ259PCY</td>\n",
       "      <td>B000134XZE</td>\n",
       "      <td>[0, 0]</td>\n",
       "      <td>Does a good job of keeping the odour down.I us...</td>\n",
       "      <td>4.0</td>\n",
       "      <td>does the job</td>\n",
       "      <td>1380412800</td>\n",
       "      <td>09 29, 2013</td>\n",
       "      <td>[Does a good job of keeping the odour down.I u...</td>\n",
       "      <td>1</td>\n",
       "    </tr>\n",
       "  </tbody>\n",
       "</table>\n",
       "</div>"
      ],
      "text/plain": [
       "            reviewerID        asin helpful  \\\n",
       "62310   A2ZEXKFLKF3TSK  B001OC62U0  [0, 0]   \n",
       "132753  A3OZ39B0BKTP3Z  B006OJIJVI  [1, 1]   \n",
       "9546    A1Q011AJ259PCY  B000134XZE  [0, 0]   \n",
       "\n",
       "                                               reviewText  overall  \\\n",
       "62310   The mirror serves its purpose- could be a litt...      3.0   \n",
       "132753  This was the only gate that worked for my bani...      4.0   \n",
       "9546    Does a good job of keeping the odour down.I us...      4.0   \n",
       "\n",
       "                             summary  unixReviewTime   reviewTime  \\\n",
       "62310      still needs some tweaking      1313020800  08 11, 2011   \n",
       "132753  Hard to install, but needed.      1382659200  10 25, 2013   \n",
       "9546                    does the job      1380412800  09 29, 2013   \n",
       "\n",
       "                                         reviewParagraphs  paragraph_num  \n",
       "62310   [The mirror serves its purpose- could be a lit...              1  \n",
       "132753  [This was the only gate that worked for my ban...              4  \n",
       "9546    [Does a good job of keeping the odour down.I u...              1  "
      ]
     },
     "execution_count": 8,
     "metadata": {},
     "output_type": "execute_result"
    }
   ],
   "source": [
    "review_df.sample(3)"
   ]
  },
  {
   "cell_type": "markdown",
   "metadata": {},
   "source": [
    "- POS Tagging & Sentiment Detection"
   ]
  },
  {
   "cell_type": "code",
   "execution_count": 9,
   "metadata": {},
   "outputs": [],
   "source": [
    "import nltk\n",
    "from nltk import sent_tokenize, word_tokenize, pos_tag\n",
    "from nltk.stem import PorterStemmer, WordNetLemmatizer\n",
    "from nltk.corpus import wordnet as wn\n",
    "from nltk.corpus import sentiwordnet as swn\n",
    "from collections import Counter\n",
    "\n",
    "\n",
    "from ast import literal_eval\n",
    "flatten = lambda l: [item for sublist in l for item in sublist]\n",
    "str_eval = lambda inp: literal_eval(inp) if type(inp)==str else inp\n",
    "\n",
    "\n",
    "# regexp = RegexpTokenizer(r'\\w+')\n",
    "PS = PorterStemmer()\n",
    "WNL = WordNetLemmatizer()\n",
    "\n",
    "\n",
    "# nltk.help.upenn_tagset()\n",
    "entity_tags = ['NN','NNS','NNP','NNPS']\n",
    "senti_tags = ['JJ','JJR','JJS','RB','RBR','RBS']\n",
    "\n",
    "\n",
    "def review_pos_tag(review_paragraphs):\n",
    "    results = []\n",
    "    for review_text in review_paragraphs:\n",
    "        sentences = sent_tokenize(review_text)\n",
    "        tokens = flatten([word_tokenize(s) for s in sentences])\n",
    "        stemmed_words = [PS.stem(w.lower()) for w in tokens if w.isalpha()]\n",
    "        results.append(dict(Counter(pos_tag(stemmed_words))))\n",
    "    return results\n",
    "\n",
    "\n",
    "def penn_to_wn(tag):\n",
    "    # Convert between the PennTreebank tags to simple Wordnet tags\n",
    "    if tag.startswith('J'):\n",
    "        return wn.ADJ\n",
    "    elif tag.startswith('N'):\n",
    "        return wn.NOUN\n",
    "    elif tag.startswith('R'):\n",
    "        return wn.ADV\n",
    "    elif tag.startswith('V'):\n",
    "        return wn.VERB\n",
    "    return None\n",
    "\n",
    "\n",
    "def get_sentiment(word,tag):\n",
    "    # returns list of pos neg and objective score. \n",
    "    # But returns empty list if not present in senti wordnet.\n",
    "    wn_tag = penn_to_wn(tag)\n",
    "    if wn_tag not in (wn.NOUN, wn.ADJ, wn.ADV):\n",
    "        return ()\n",
    "    lemma = WNL.lemmatize(word, pos=wn_tag)\n",
    "    if not lemma:\n",
    "        return ()\n",
    "    synsets = wn.synsets(word, pos=wn_tag)\n",
    "    if not synsets:\n",
    "        return ()\n",
    "    # Take the first sense, the most common\n",
    "    synset = synsets[0]\n",
    "    swn_synset = swn.senti_synset(synset.name())\n",
    "    if swn_synset.pos_score() >= swn_synset.neg_score() and swn_synset.pos_score() >= swn_synset.obj_score():\n",
    "        swn_type = swn_synset.pos_score()\n",
    "    elif swn_synset.neg_score() >= swn_synset.pos_score() and swn_synset.neg_score() >= swn_synset.obj_score():\n",
    "        swn_type = -swn_synset.neg_score()\n",
    "    else:\n",
    "        swn_type = 0\n",
    "    return (word, swn_type)\n",
    "\n",
    "\n",
    "def map_sentiment(pos_tag_data):\n",
    "    pos_tag_data = str_eval(pos_tag_data)\n",
    "    results = []\n",
    "    for pt in pos_tag_data:\n",
    "        senti_val = {}\n",
    "        for w,t in pt.items():\n",
    "            senti = get_sentiment(w[0],w[1]) \n",
    "            if len(senti) > 0 and senti[1] != 0:\n",
    "                senti_val[senti] = t\n",
    "        results.append(senti_val)\n",
    "    return results"
   ]
  },
  {
   "cell_type": "code",
   "execution_count": 19,
   "metadata": {},
   "outputs": [
    {
     "name": "stdout",
     "output_type": "stream",
     "text": [
      "CPU times: user 22min 31s, sys: 11.6 s, total: 22min 42s\n",
      "Wall time: 22min 42s\n"
     ]
    }
   ],
   "source": [
    "%%time\n",
    "review_df['pos_tag'] = review_df['reviewParagraphs'].map(review_pos_tag)"
   ]
  },
  {
   "cell_type": "code",
   "execution_count": 21,
   "metadata": {},
   "outputs": [],
   "source": [
    "review_df.to_csv('./data/reviews_Baby_5_step_0.csv',\n",
    "                 encoding='utf-8',\n",
    "                 index=False)"
   ]
  },
  {
   "cell_type": "code",
   "execution_count": 22,
   "metadata": {},
   "outputs": [
    {
     "name": "stdout",
     "output_type": "stream",
     "text": [
      "CPU times: user 1min 53s, sys: 605 ms, total: 1min 54s\n",
      "Wall time: 1min 55s\n"
     ]
    }
   ],
   "source": [
    "%%time\n",
    "review_df['wn_senti'] = review_df['pos_tag'].map(map_sentiment)"
   ]
  },
  {
   "cell_type": "code",
   "execution_count": 24,
   "metadata": {},
   "outputs": [],
   "source": [
    "def entity_split(pos_tag):\n",
    "    pos_tag = str_eval(pos_tag)\n",
    "    return [{w[0]:t} for pt in pos_tag for w,t in pt.items() if w[1] in entity_tags]\n",
    "\n",
    "\n",
    "def neutral_senti_split(pos_tag, wn_senti):\n",
    "    pos_tag, wn_senti = str_eval(pos_tag), str_eval(wn_senti)\n",
    "    results = []\n",
    "    for pt,wn in zip(pos_tag, wn_senti):\n",
    "        wn = {w[0]:c for w,c in wn.items() if w[1] != 0}\n",
    "        netural_dt = {w[0]:c for w,c in pt.items() \n",
    "                      if w[0] not in wn.keys() and w[1] in senti_tags}\n",
    "        results.append(netural_dt)\n",
    "    return results\n",
    "\n",
    "\n",
    "def senti_senti_split(wn_senti,entity,neutral_senti):\n",
    "    wn_senti, entity, netrual_senti = str_eval(wn_senti), str_eval(entity), str_eval(neutral_senti)\n",
    "    results = []\n",
    "    for w,e,n in zip(wn_senti, entity, neutral_senti):\n",
    "        results.append({w[0]:c for w,c in w.items() if w[0] not in e.keys() and w[0] not in n.keys()})\n",
    "    return results"
   ]
  },
  {
   "cell_type": "code",
   "execution_count": 25,
   "metadata": {},
   "outputs": [
    {
     "name": "stdout",
     "output_type": "stream",
     "text": [
      "CPU times: user 17.5 s, sys: 904 ms, total: 18.4 s\n",
      "Wall time: 18.4 s\n"
     ]
    }
   ],
   "source": [
    "%%time\n",
    "review_df['entity'] = review_df['pos_tag'].map(entity_split)\n",
    "review_df['neutral_senti'] = review_df[['pos_tag','wn_senti']].apply(lambda x: neutral_senti_split(*x), axis=1)\n",
    "review_df['senti_senti'] = review_df[['wn_senti','entity', 'neutral_senti']].apply(lambda x: senti_senti_split(*x), axis=1)"
   ]
  },
  {
   "cell_type": "code",
   "execution_count": 28,
   "metadata": {},
   "outputs": [
    {
     "data": {
      "text/html": [
       "<div>\n",
       "<style scoped>\n",
       "    .dataframe tbody tr th:only-of-type {\n",
       "        vertical-align: middle;\n",
       "    }\n",
       "\n",
       "    .dataframe tbody tr th {\n",
       "        vertical-align: top;\n",
       "    }\n",
       "\n",
       "    .dataframe thead th {\n",
       "        text-align: right;\n",
       "    }\n",
       "</style>\n",
       "<table border=\"1\" class=\"dataframe\">\n",
       "  <thead>\n",
       "    <tr style=\"text-align: right;\">\n",
       "      <th></th>\n",
       "      <th>reviewerID</th>\n",
       "      <th>asin</th>\n",
       "      <th>helpful</th>\n",
       "      <th>reviewText</th>\n",
       "      <th>overall</th>\n",
       "      <th>summary</th>\n",
       "      <th>unixReviewTime</th>\n",
       "      <th>reviewTime</th>\n",
       "      <th>reviewParagraphs</th>\n",
       "      <th>paragraph_num</th>\n",
       "      <th>pos_tag</th>\n",
       "      <th>wn_senti</th>\n",
       "      <th>entity</th>\n",
       "      <th>neutral_senti</th>\n",
       "      <th>senti_senti</th>\n",
       "    </tr>\n",
       "  </thead>\n",
       "  <tbody>\n",
       "    <tr>\n",
       "      <th>34932</th>\n",
       "      <td>A38PT5535A55EY</td>\n",
       "      <td>B000O3GCFU</td>\n",
       "      <td>[0, 0]</td>\n",
       "      <td>Thermos Foogo Leak Proof Stainless Steel Food ...</td>\n",
       "      <td>5.0</td>\n",
       "      <td>Good to keep temprature</td>\n",
       "      <td>1386460800</td>\n",
       "      <td>12 8, 2013</td>\n",
       "      <td>[Thermos Foogo Leak Proof Stainless Steel Food...</td>\n",
       "      <td>1</td>\n",
       "      <td>[{('thermo', 'NN'): 1, ('foogo', 'NN'): 1, ('l...</td>\n",
       "      <td>[{('good', 0.75): 1, ('help', 0.5): 1}]</td>\n",
       "      <td>[{'thermo': 1}, {'foogo': 1}, {'leak': 1}, {'p...</td>\n",
       "      <td>[{}]</td>\n",
       "      <td>[{'good': 1, 'help': 1}]</td>\n",
       "    </tr>\n",
       "    <tr>\n",
       "      <th>8289</th>\n",
       "      <td>AQACASMVSDOVR</td>\n",
       "      <td>B00009ZIKH</td>\n",
       "      <td>[3, 3]</td>\n",
       "      <td>I like the idea of this mobile and would have ...</td>\n",
       "      <td>2.0</td>\n",
       "      <td>Good idea, bad implementation</td>\n",
       "      <td>1312848000</td>\n",
       "      <td>08 9, 2011</td>\n",
       "      <td>[I like the idea of this mobile and would have...</td>\n",
       "      <td>1</td>\n",
       "      <td>[{('i', 'NN'): 1, ('like', 'IN'): 2, ('the', '...</td>\n",
       "      <td>[{('better', 0.875): 1, ('poor', -0.875): 1, (...</td>\n",
       "      <td>[{'i': 1}, {'idea': 1}, {'mobil': 2}, {'thing'...</td>\n",
       "      <td>[{'thi': 1, 'littl': 1, 'whole': 1, 'straight'...</td>\n",
       "      <td>[{'better': 1, 'poor': 1, 'higher': 1}]</td>\n",
       "    </tr>\n",
       "    <tr>\n",
       "      <th>119659</th>\n",
       "      <td>A3AKUEMQGMPTA9</td>\n",
       "      <td>B004W93MFK</td>\n",
       "      <td>[0, 0]</td>\n",
       "      <td>Give a little two year old a step stool &amp; this...</td>\n",
       "      <td>5.0</td>\n",
       "      <td>works like a charm!</td>\n",
       "      <td>1390176000</td>\n",
       "      <td>01 20, 2014</td>\n",
       "      <td>[Give a little two year old a step stool &amp; thi...</td>\n",
       "      <td>3</td>\n",
       "      <td>[{('give', 'VB'): 1, ('a', 'DT'): 3, ('littl',...</td>\n",
       "      <td>[{('stool', -0.5): 1, ('hand', 0.5): 1}, {('no...</td>\n",
       "      <td>[{'littl': 1}, {'year': 1}, {'step': 1}, {'sto...</td>\n",
       "      <td>[{'old': 1, 'big': 1}, {'faucet': 1, 'too': 1,...</td>\n",
       "      <td>[{'stool': 1, 'hand': 1}, {'not': 1}, {}]</td>\n",
       "    </tr>\n",
       "  </tbody>\n",
       "</table>\n",
       "</div>"
      ],
      "text/plain": [
       "            reviewerID        asin helpful  \\\n",
       "34932   A38PT5535A55EY  B000O3GCFU  [0, 0]   \n",
       "8289     AQACASMVSDOVR  B00009ZIKH  [3, 3]   \n",
       "119659  A3AKUEMQGMPTA9  B004W93MFK  [0, 0]   \n",
       "\n",
       "                                               reviewText  overall  \\\n",
       "34932   Thermos Foogo Leak Proof Stainless Steel Food ...      5.0   \n",
       "8289    I like the idea of this mobile and would have ...      2.0   \n",
       "119659  Give a little two year old a step stool & this...      5.0   \n",
       "\n",
       "                              summary  unixReviewTime   reviewTime  \\\n",
       "34932         Good to keep temprature      1386460800   12 8, 2013   \n",
       "8289    Good idea, bad implementation      1312848000   08 9, 2011   \n",
       "119659            works like a charm!      1390176000  01 20, 2014   \n",
       "\n",
       "                                         reviewParagraphs  paragraph_num  \\\n",
       "34932   [Thermos Foogo Leak Proof Stainless Steel Food...              1   \n",
       "8289    [I like the idea of this mobile and would have...              1   \n",
       "119659  [Give a little two year old a step stool & thi...              3   \n",
       "\n",
       "                                                  pos_tag  \\\n",
       "34932   [{('thermo', 'NN'): 1, ('foogo', 'NN'): 1, ('l...   \n",
       "8289    [{('i', 'NN'): 1, ('like', 'IN'): 2, ('the', '...   \n",
       "119659  [{('give', 'VB'): 1, ('a', 'DT'): 3, ('littl',...   \n",
       "\n",
       "                                                 wn_senti  \\\n",
       "34932             [{('good', 0.75): 1, ('help', 0.5): 1}]   \n",
       "8289    [{('better', 0.875): 1, ('poor', -0.875): 1, (...   \n",
       "119659  [{('stool', -0.5): 1, ('hand', 0.5): 1}, {('no...   \n",
       "\n",
       "                                                   entity  \\\n",
       "34932   [{'thermo': 1}, {'foogo': 1}, {'leak': 1}, {'p...   \n",
       "8289    [{'i': 1}, {'idea': 1}, {'mobil': 2}, {'thing'...   \n",
       "119659  [{'littl': 1}, {'year': 1}, {'step': 1}, {'sto...   \n",
       "\n",
       "                                            neutral_senti  \\\n",
       "34932                                                [{}]   \n",
       "8289    [{'thi': 1, 'littl': 1, 'whole': 1, 'straight'...   \n",
       "119659  [{'old': 1, 'big': 1}, {'faucet': 1, 'too': 1,...   \n",
       "\n",
       "                                      senti_senti  \n",
       "34932                    [{'good': 1, 'help': 1}]  \n",
       "8289      [{'better': 1, 'poor': 1, 'higher': 1}]  \n",
       "119659  [{'stool': 1, 'hand': 1}, {'not': 1}, {}]  "
      ]
     },
     "execution_count": 28,
     "metadata": {},
     "output_type": "execute_result"
    }
   ],
   "source": [
    "review_df.sample(3)"
   ]
  },
  {
   "cell_type": "code",
   "execution_count": 29,
   "metadata": {},
   "outputs": [
    {
     "data": {
      "text/plain": [
       "reviewerID          0\n",
       "asin                0\n",
       "helpful             0\n",
       "reviewText          0\n",
       "overall             0\n",
       "summary             0\n",
       "unixReviewTime      0\n",
       "reviewTime          0\n",
       "reviewParagraphs    0\n",
       "paragraph_num       0\n",
       "pos_tag             0\n",
       "wn_senti            0\n",
       "entity              0\n",
       "neutral_senti       0\n",
       "senti_senti         0\n",
       "dtype: int64"
      ]
     },
     "execution_count": 29,
     "metadata": {},
     "output_type": "execute_result"
    }
   ],
   "source": [
    "# check null values\n",
    "review_df.isnull().sum()"
   ]
  },
  {
   "cell_type": "code",
   "execution_count": 30,
   "metadata": {},
   "outputs": [],
   "source": [
    "review_df.to_csv('./data/reviews_Baby_5_step_1.csv',encoding='utf-8',index=False)"
   ]
  },
  {
   "cell_type": "markdown",
   "metadata": {},
   "source": [
    "### Mutual Information: Entity-Sentiment Pairs"
   ]
  },
  {
   "cell_type": "code",
   "execution_count": 31,
   "metadata": {},
   "outputs": [
    {
     "data": {
      "text/plain": [
       "15094"
      ]
     },
     "execution_count": 31,
     "metadata": {},
     "output_type": "execute_result"
    }
   ],
   "source": [
    "import itertools \n",
    "from collections import Counter\n",
    "import pandas as pd\n",
    "from ast import literal_eval\n",
    "flatten = lambda l: [item for sublist in l for item in sublist]\n",
    "str_eval = lambda inp: literal_eval(inp) if type(inp)==str else inp\n",
    "\n",
    "\n",
    "review_df = pd.read_csv('./data/reviews_Baby_5_step_1.csv')\n",
    "\n",
    "\n",
    "def word_extract(pos_tag):\n",
    "    pos_tag = str_eval(pos_tag)\n",
    "    return [w[0] for pt in pos_tag for w,c in pt.items()]\n",
    "\n",
    "\n",
    "all_words = review_df['pos_tag'].map(word_extract).tolist()\n",
    "all_words_freq = Counter(itertools.chain.from_iterable(all_words))\n",
    "all_words_freq['perfect']"
   ]
  },
  {
   "cell_type": "code",
   "execution_count": 32,
   "metadata": {},
   "outputs": [
    {
     "data": {
      "text/plain": [
       "11964893"
      ]
     },
     "execution_count": 32,
     "metadata": {},
     "output_type": "execute_result"
    }
   ],
   "source": [
    "all_words_cnt = sum(all_words_freq.values())\n",
    "all_words_cnt"
   ]
  },
  {
   "cell_type": "code",
   "execution_count": 33,
   "metadata": {},
   "outputs": [],
   "source": [
    "def es_pair_detection(entity,senti_senti,neutral_senti):\n",
    "    entity, senti_senti, neutral_senti = str_eval(entity), str_eval(senti_senti), str_eval(neutral_senti)\n",
    "    results = []\n",
    "    for en, se, ne in zip(entity, senti_senti, neutral_senti):\n",
    "        entity_words = list(en.keys())\n",
    "        se.update(ne)\n",
    "        senti_words = list(se.keys())\n",
    "        es_pairs = {}\n",
    "        for e,s in itertools.product(entity_words, senti_words):\n",
    "            es_pairs[(e,s)] = min([en[e],se[s]])\n",
    "        results.append(es_pairs)\n",
    "    return results"
   ]
  },
  {
   "cell_type": "code",
   "execution_count": 34,
   "metadata": {},
   "outputs": [
    {
     "name": "stdout",
     "output_type": "stream",
     "text": [
      "CPU times: user 9.1 s, sys: 316 ms, total: 9.41 s\n",
      "Wall time: 9.41 s\n"
     ]
    }
   ],
   "source": [
    "%%time\n",
    "review_df['es_pairs'] = review_df[['entity','senti_senti','neutral_senti']].apply(lambda x: es_pair_detection(*x), axis=1)"
   ]
  },
  {
   "cell_type": "code",
   "execution_count": 38,
   "metadata": {},
   "outputs": [
    {
     "name": "stdout",
     "output_type": "stream",
     "text": [
      "159497    [{('product', 'sturdier'): 1, ('product', 'mos...\n",
      "Name: es_pairs, dtype: object\n"
     ]
    }
   ],
   "source": [
    "print(review_df[review_df['paragraph_num']>1].sample(1)['es_pairs'])"
   ]
  },
  {
   "cell_type": "code",
   "execution_count": 40,
   "metadata": {},
   "outputs": [],
   "source": [
    "review_df.to_csv('./data/reviews_Baby_5_step_2.csv', encoding='utf-8', index=False)"
   ]
  },
  {
   "cell_type": "code",
   "execution_count": 41,
   "metadata": {},
   "outputs": [],
   "source": [
    "def es_pair_freq(es_pairs):\n",
    "    results_dict = {}\n",
    "    for es, c in [(es,es_dict[es]) for es_dict in es_pairs for es in es_dict]:\n",
    "        if es not in results_dict:\n",
    "            results_dict[es] = c\n",
    "        else:\n",
    "            results_dict[es] = results_dict[es] + c\n",
    "    return results_dict"
   ]
  },
  {
   "cell_type": "code",
   "execution_count": 43,
   "metadata": {},
   "outputs": [
    {
     "name": "stdout",
     "output_type": "stream",
     "text": [
      "CPU times: user 3.88 s, sys: 328 ms, total: 4.21 s\n",
      "Wall time: 4.2 s\n"
     ]
    }
   ],
   "source": [
    "%%time\n",
    "temp_es_all = review_df['es_pairs'].map(es_pair_freq).tolist()\n",
    "es_pairs_all = es_pair_freq(temp_es_all)"
   ]
  },
  {
   "cell_type": "code",
   "execution_count": 46,
   "metadata": {},
   "outputs": [],
   "source": [
    "pd.DataFrame(es_pairs_all.items()).to_csv('./data/Baby_5_es_pairs_all.csv', index=False)"
   ]
  },
  {
   "cell_type": "code",
   "execution_count": 51,
   "metadata": {},
   "outputs": [],
   "source": [
    "import math\n",
    "\n",
    "def es_mi_calc(entity, senti):\n",
    "    p_e = all_words_freq[entity]/all_words_cnt\n",
    "    p_s = all_words_freq[senti]/all_words_cnt\n",
    "    p_es = es_pairs_all[(entity, senti)]/all_words_cnt\n",
    "    if p_e*p_s == 0:\n",
    "        print(entity, senti)\n",
    "    else:\n",
    "        return p_es * math.log(p_es/(p_e*p_s))"
   ]
  },
  {
   "cell_type": "code",
   "execution_count": 52,
   "metadata": {},
   "outputs": [
    {
     "name": "stdout",
     "output_type": "stream",
     "text": [
      "CPU times: user 942 ms, sys: 32 ms, total: 974 ms\n",
      "Wall time: 971 ms\n"
     ]
    }
   ],
   "source": [
    "%%time\n",
    "es_pairs_mi = {k:es_mi_calc(k[0],k[1]) for k,v in es_pairs_all.items()}"
   ]
  },
  {
   "cell_type": "code",
   "execution_count": 53,
   "metadata": {},
   "outputs": [],
   "source": [
    "pd.DataFrame(es_pairs_mi.items()).to_csv('./data/Baby_5_es_pairs_mi.csv', index=False)"
   ]
  },
  {
   "cell_type": "markdown",
   "metadata": {},
   "source": [
    "### Adjusted Weights' Calculation\n",
    "\n",
    "- adjusted_weights = (the number of es pair in a review / the number of sentiment word in the common paragraphs in a review) * log(the number of paragraphs in a review/the number of paragraphs the word appears) * (1 + log(1 + express_degress * the number of sentiment words/the number of paragraphs in a review))"
   ]
  },
  {
   "cell_type": "code",
   "execution_count": 54,
   "metadata": {},
   "outputs": [
    {
     "data": {
      "text/html": [
       "<div>\n",
       "<style scoped>\n",
       "    .dataframe tbody tr th:only-of-type {\n",
       "        vertical-align: middle;\n",
       "    }\n",
       "\n",
       "    .dataframe tbody tr th {\n",
       "        vertical-align: top;\n",
       "    }\n",
       "\n",
       "    .dataframe thead th {\n",
       "        text-align: right;\n",
       "    }\n",
       "</style>\n",
       "<table border=\"1\" class=\"dataframe\">\n",
       "  <thead>\n",
       "    <tr style=\"text-align: right;\">\n",
       "      <th></th>\n",
       "      <th>reviewerID</th>\n",
       "      <th>asin</th>\n",
       "      <th>helpful</th>\n",
       "      <th>reviewText</th>\n",
       "      <th>overall</th>\n",
       "      <th>summary</th>\n",
       "      <th>unixReviewTime</th>\n",
       "      <th>reviewTime</th>\n",
       "      <th>reviewParagraphs</th>\n",
       "      <th>paragraph_num</th>\n",
       "      <th>pos_tag</th>\n",
       "      <th>wn_senti</th>\n",
       "      <th>entity</th>\n",
       "      <th>neutral_senti</th>\n",
       "      <th>senti_senti</th>\n",
       "      <th>es_pairs</th>\n",
       "    </tr>\n",
       "  </thead>\n",
       "  <tbody>\n",
       "    <tr>\n",
       "      <th>0</th>\n",
       "      <td>A1HK2FQW6KXQB2</td>\n",
       "      <td>097293751X</td>\n",
       "      <td>[0, 0]</td>\n",
       "      <td>Perfect for new parents. We were able to keep ...</td>\n",
       "      <td>5.0</td>\n",
       "      <td>Awesine</td>\n",
       "      <td>1373932800</td>\n",
       "      <td>07 16, 2013</td>\n",
       "      <td>[Perfect for new parents. We were able to keep...</td>\n",
       "      <td>1</td>\n",
       "      <td>[{('perfect', 'NN'): 1, ('for', 'IN'): 2, ('ne...</td>\n",
       "      <td>[{('all', 0.5): 1}]</td>\n",
       "      <td>[{'perfect': 1}, {'parent': 1}, {'track': 1}, ...</td>\n",
       "      <td>[{'new': 1, 'first': 1, 'half': 1, 'right': 1}]</td>\n",
       "      <td>[{'all': 1, 'new': 1, 'first': 1, 'half': 1, '...</td>\n",
       "      <td>[{('perfect', 'all'): 1, ('perfect', 'new'): 1...</td>\n",
       "    </tr>\n",
       "  </tbody>\n",
       "</table>\n",
       "</div>"
      ],
      "text/plain": [
       "       reviewerID        asin helpful  \\\n",
       "0  A1HK2FQW6KXQB2  097293751X  [0, 0]   \n",
       "\n",
       "                                          reviewText  overall  summary  \\\n",
       "0  Perfect for new parents. We were able to keep ...      5.0  Awesine   \n",
       "\n",
       "   unixReviewTime   reviewTime  \\\n",
       "0      1373932800  07 16, 2013   \n",
       "\n",
       "                                    reviewParagraphs  paragraph_num  \\\n",
       "0  [Perfect for new parents. We were able to keep...              1   \n",
       "\n",
       "                                             pos_tag             wn_senti  \\\n",
       "0  [{('perfect', 'NN'): 1, ('for', 'IN'): 2, ('ne...  [{('all', 0.5): 1}]   \n",
       "\n",
       "                                              entity  \\\n",
       "0  [{'perfect': 1}, {'parent': 1}, {'track': 1}, ...   \n",
       "\n",
       "                                     neutral_senti  \\\n",
       "0  [{'new': 1, 'first': 1, 'half': 1, 'right': 1}]   \n",
       "\n",
       "                                         senti_senti  \\\n",
       "0  [{'all': 1, 'new': 1, 'first': 1, 'half': 1, '...   \n",
       "\n",
       "                                            es_pairs  \n",
       "0  [{('perfect', 'all'): 1, ('perfect', 'new'): 1...  "
      ]
     },
     "execution_count": 54,
     "metadata": {},
     "output_type": "execute_result"
    }
   ],
   "source": [
    "review_df.head(1)"
   ]
  },
  {
   "cell_type": "code",
   "execution_count": 67,
   "metadata": {},
   "outputs": [],
   "source": [
    "def weight_calc(es_pairs, paragraph_num, entity, neutral_senti, senti_senti):\n",
    "    es_pairs, entity, neutral_senti, senti_senti = str_eval(es_pairs), str_eval(entity), str_eval(neutral_senti), str_eval(senti_senti)\n",
    "    \n",
    "    # ni,j dict\n",
    "    review_es_pairs = es_pair_freq(es_pairs) \n",
    "    \n",
    "    # nj dict, sj dict\n",
    "    senti_words = set([es[1] for es in review_es_pairs])\n",
    "    express_degree = es_pair_freq(senti_senti)\n",
    "    all_express_degree = es_pair_freq(neutral_senti)\n",
    "    all_express_degree.update(express_degree)\n",
    "    nj_dict, sj_dict = {}, {}\n",
    "    for s in senti_words:\n",
    "        sj = 1 if s in express_degree else 0\n",
    "        nj = all_express_degree[s]\n",
    "        nj_dict[s], sj_dict[s] = nj, sj\n",
    "    \n",
    "    # nk dict, nkj dict\n",
    "    es_weights = {}\n",
    "    for es in review_es_pairs:\n",
    "        nk, nkj = 0, 0\n",
    "        for p, e, n, s in zip(es_pairs, entity, neutral_senti, senti_senti):\n",
    "            if es in p:\n",
    "                nk += 1\n",
    "                if es[1] in n or es[1] in s:\n",
    "                    nkj += 1\n",
    "        # adjusted weights calc\n",
    "        es_weights[es] = (review_es_pairs[es]/nkj)*math.log(paragraph_num/nk)*(1+math.log(1+sj_dict[es[1]]*nj_dict[es[1]]/paragraph_num)) \n",
    "    return es_weights"
   ]
  },
  {
   "cell_type": "code",
   "execution_count": 68,
   "metadata": {},
   "outputs": [
    {
     "name": "stdout",
     "output_type": "stream",
     "text": [
      "CPU times: user 15.8 s, sys: 244 ms, total: 16 s\n",
      "Wall time: 16 s\n"
     ]
    }
   ],
   "source": [
    "%%time\n",
    "review_df['es_weights'] = review_df[['es_pairs', 'paragraph_num', 'entity', 'neutral_senti', 'senti_senti']].apply(\n",
    "    lambda x: weight_calc(*x), axis=1)"
   ]
  },
  {
   "cell_type": "code",
   "execution_count": 73,
   "metadata": {},
   "outputs": [
    {
     "data": {
      "text/html": [
       "<div>\n",
       "<style scoped>\n",
       "    .dataframe tbody tr th:only-of-type {\n",
       "        vertical-align: middle;\n",
       "    }\n",
       "\n",
       "    .dataframe tbody tr th {\n",
       "        vertical-align: top;\n",
       "    }\n",
       "\n",
       "    .dataframe thead th {\n",
       "        text-align: right;\n",
       "    }\n",
       "</style>\n",
       "<table border=\"1\" class=\"dataframe\">\n",
       "  <thead>\n",
       "    <tr style=\"text-align: right;\">\n",
       "      <th></th>\n",
       "      <th>reviewerID</th>\n",
       "      <th>asin</th>\n",
       "      <th>helpful</th>\n",
       "      <th>reviewText</th>\n",
       "      <th>overall</th>\n",
       "      <th>summary</th>\n",
       "      <th>unixReviewTime</th>\n",
       "      <th>reviewTime</th>\n",
       "      <th>reviewParagraphs</th>\n",
       "      <th>paragraph_num</th>\n",
       "      <th>pos_tag</th>\n",
       "      <th>wn_senti</th>\n",
       "      <th>entity</th>\n",
       "      <th>neutral_senti</th>\n",
       "      <th>senti_senti</th>\n",
       "      <th>es_pairs</th>\n",
       "      <th>es_weights</th>\n",
       "    </tr>\n",
       "  </thead>\n",
       "  <tbody>\n",
       "    <tr>\n",
       "      <th>37958</th>\n",
       "      <td>A2H4PK6CPR99Q9</td>\n",
       "      <td>B000S9RF4M</td>\n",
       "      <td>[0, 0]</td>\n",
       "      <td>Attaches to everything and our little one LOVE...</td>\n",
       "      <td>5.0</td>\n",
       "      <td>Best thing ever!</td>\n",
       "      <td>1394496000</td>\n",
       "      <td>03 11, 2014</td>\n",
       "      <td>[Attaches to everything and our little one LOV...</td>\n",
       "      <td>2</td>\n",
       "      <td>[{('attach', 'NN'): 1, ('to', 'TO'): 1, ('ever...</td>\n",
       "      <td>[{('love', 0.625): 1}, {('wish', 0.5): 1, ('pl...</td>\n",
       "      <td>[{'attach': 1}, {'littl': 1}, {'love': 1}, {'l...</td>\n",
       "      <td>[{}, {'i': 1, 'earlier': 1, 'more': 1}]</td>\n",
       "      <td>[{'love': 1}, {'wish': 1, 'pleasant': 1, 'i': ...</td>\n",
       "      <td>[{('attach', 'love'): 1}, {('littl', 'wish'): ...</td>\n",
       "      <td>{('attach', 'love'): 0.9741941770605529, ('lit...</td>\n",
       "    </tr>\n",
       "    <tr>\n",
       "      <th>48017</th>\n",
       "      <td>A2H4PK6CPR99Q9</td>\n",
       "      <td>B0015R2AWI</td>\n",
       "      <td>[0, 0]</td>\n",
       "      <td>Soooooo soft and quite lovely. Held up well in...</td>\n",
       "      <td>5.0</td>\n",
       "      <td>So soft!</td>\n",
       "      <td>1384214400</td>\n",
       "      <td>11 12, 2013</td>\n",
       "      <td>[Soooooo soft and quite lovely. Held up well i...</td>\n",
       "      <td>1</td>\n",
       "      <td>[{('soooooo', 'NN'): 1, ('soft', 'JJ'): 1, ('a...</td>\n",
       "      <td>[{('love', 0.625): 1, ('good', 0.75): 1}]</td>\n",
       "      <td>[{'soooooo': 1}, {'love': 1}, {'wash': 1}, {'l...</td>\n",
       "      <td>[{'soft': 1, 'quit': 1, 'well': 1}]</td>\n",
       "      <td>[{'love': 1, 'good': 1, 'soft': 1, 'quit': 1, ...</td>\n",
       "      <td>[{('soooooo', 'love'): 1, ('soooooo', 'good'):...</td>\n",
       "      <td>{('soooooo', 'love'): 0.0, ('soooooo', 'good')...</td>\n",
       "    </tr>\n",
       "    <tr>\n",
       "      <th>97092</th>\n",
       "      <td>A2H4PK6CPR99Q9</td>\n",
       "      <td>B003LVYHKE</td>\n",
       "      <td>[0, 0]</td>\n",
       "      <td>Didn't suck, poor seal, totally useless compar...</td>\n",
       "      <td>2.0</td>\n",
       "      <td>Pretty much useless</td>\n",
       "      <td>1388188800</td>\n",
       "      <td>12 28, 2013</td>\n",
       "      <td>[Didn't suck, poor seal, totally useless compa...</td>\n",
       "      <td>1</td>\n",
       "      <td>[{('did', 'VBD'): 1, ('suck', 'VB'): 1, ('poor...</td>\n",
       "      <td>[{('poor', -0.875): 1, ('useless', -0.625): 1}]</td>\n",
       "      <td>[{'compar': 1}, {'blue': 1}, {'aspir': 1}, {'h...</td>\n",
       "      <td>[{'seal': 1, 'total': 1, 'cheap': 1, 'away': 1...</td>\n",
       "      <td>[{'poor': 1, 'useless': 1, 'seal': 1, 'total':...</td>\n",
       "      <td>[{('compar', 'poor'): 1, ('compar', 'useless')...</td>\n",
       "      <td>{('compar', 'poor'): 0.0, ('compar', 'useless'...</td>\n",
       "    </tr>\n",
       "    <tr>\n",
       "      <th>98134</th>\n",
       "      <td>A2H4PK6CPR99Q9</td>\n",
       "      <td>B003PU31AS</td>\n",
       "      <td>[0, 0]</td>\n",
       "      <td>Bought these for my newborn's nails; they didn...</td>\n",
       "      <td>1.0</td>\n",
       "      <td>Doesn't work, save your money</td>\n",
       "      <td>1388188800</td>\n",
       "      <td>12 28, 2013</td>\n",
       "      <td>[Bought these for my newborn's nails; they did...</td>\n",
       "      <td>1</td>\n",
       "      <td>[{('bought', 'VBN'): 1, ('these', 'DT'): 1, ('...</td>\n",
       "      <td>[{}]</td>\n",
       "      <td>[{'nail': 1}, {'work': 1}, {'purpos': 1}, {'di...</td>\n",
       "      <td>[{'newborn': 1, 'i': 1, 'everi': 1, 'safeti': 1}]</td>\n",
       "      <td>[{'newborn': 1, 'i': 1, 'everi': 1, 'safeti': 1}]</td>\n",
       "      <td>[{('nail', 'newborn'): 1, ('nail', 'i'): 1, ('...</td>\n",
       "      <td>{('nail', 'newborn'): 0.0, ('nail', 'i'): 0.0,...</td>\n",
       "    </tr>\n",
       "    <tr>\n",
       "      <th>124278</th>\n",
       "      <td>A2H4PK6CPR99Q9</td>\n",
       "      <td>B0058YYUFO</td>\n",
       "      <td>[1, 1]</td>\n",
       "      <td>This thermometer doesn't tell you when it is d...</td>\n",
       "      <td>1.0</td>\n",
       "      <td>Doesn't beep when finished</td>\n",
       "      <td>1388188800</td>\n",
       "      <td>12 28, 2013</td>\n",
       "      <td>[This thermometer doesn't tell you when it is ...</td>\n",
       "      <td>2</td>\n",
       "      <td>[{('thi', 'NN'): 1, ('thermomet', 'VBD'): 1, (...</td>\n",
       "      <td>[{}, {('not', -0.625): 2}]</td>\n",
       "      <td>[{'thi': 1}, {'tell': 1}, {'beep': 1}, {'heck'...</td>\n",
       "      <td>[{'doe': 1, 'newborn': 1}, {'onli': 1, 'i': 1,...</td>\n",
       "      <td>[{'doe': 1, 'newborn': 1}, {'not': 2, 'onli': ...</td>\n",
       "      <td>[{('thi', 'doe'): 1, ('thi', 'newborn'): 1}, {...</td>\n",
       "      <td>{('thi', 'doe'): 0.9741941770605529, ('thi', '...</td>\n",
       "    </tr>\n",
       "  </tbody>\n",
       "</table>\n",
       "</div>"
      ],
      "text/plain": [
       "            reviewerID        asin helpful  \\\n",
       "37958   A2H4PK6CPR99Q9  B000S9RF4M  [0, 0]   \n",
       "48017   A2H4PK6CPR99Q9  B0015R2AWI  [0, 0]   \n",
       "97092   A2H4PK6CPR99Q9  B003LVYHKE  [0, 0]   \n",
       "98134   A2H4PK6CPR99Q9  B003PU31AS  [0, 0]   \n",
       "124278  A2H4PK6CPR99Q9  B0058YYUFO  [1, 1]   \n",
       "\n",
       "                                               reviewText  overall  \\\n",
       "37958   Attaches to everything and our little one LOVE...      5.0   \n",
       "48017   Soooooo soft and quite lovely. Held up well in...      5.0   \n",
       "97092   Didn't suck, poor seal, totally useless compar...      2.0   \n",
       "98134   Bought these for my newborn's nails; they didn...      1.0   \n",
       "124278  This thermometer doesn't tell you when it is d...      1.0   \n",
       "\n",
       "                              summary  unixReviewTime   reviewTime  \\\n",
       "37958                Best thing ever!      1394496000  03 11, 2014   \n",
       "48017                        So soft!      1384214400  11 12, 2013   \n",
       "97092             Pretty much useless      1388188800  12 28, 2013   \n",
       "98134   Doesn't work, save your money      1388188800  12 28, 2013   \n",
       "124278     Doesn't beep when finished      1388188800  12 28, 2013   \n",
       "\n",
       "                                         reviewParagraphs  paragraph_num  \\\n",
       "37958   [Attaches to everything and our little one LOV...              2   \n",
       "48017   [Soooooo soft and quite lovely. Held up well i...              1   \n",
       "97092   [Didn't suck, poor seal, totally useless compa...              1   \n",
       "98134   [Bought these for my newborn's nails; they did...              1   \n",
       "124278  [This thermometer doesn't tell you when it is ...              2   \n",
       "\n",
       "                                                  pos_tag  \\\n",
       "37958   [{('attach', 'NN'): 1, ('to', 'TO'): 1, ('ever...   \n",
       "48017   [{('soooooo', 'NN'): 1, ('soft', 'JJ'): 1, ('a...   \n",
       "97092   [{('did', 'VBD'): 1, ('suck', 'VB'): 1, ('poor...   \n",
       "98134   [{('bought', 'VBN'): 1, ('these', 'DT'): 1, ('...   \n",
       "124278  [{('thi', 'NN'): 1, ('thermomet', 'VBD'): 1, (...   \n",
       "\n",
       "                                                 wn_senti  \\\n",
       "37958   [{('love', 0.625): 1}, {('wish', 0.5): 1, ('pl...   \n",
       "48017           [{('love', 0.625): 1, ('good', 0.75): 1}]   \n",
       "97092     [{('poor', -0.875): 1, ('useless', -0.625): 1}]   \n",
       "98134                                                [{}]   \n",
       "124278                         [{}, {('not', -0.625): 2}]   \n",
       "\n",
       "                                                   entity  \\\n",
       "37958   [{'attach': 1}, {'littl': 1}, {'love': 1}, {'l...   \n",
       "48017   [{'soooooo': 1}, {'love': 1}, {'wash': 1}, {'l...   \n",
       "97092   [{'compar': 1}, {'blue': 1}, {'aspir': 1}, {'h...   \n",
       "98134   [{'nail': 1}, {'work': 1}, {'purpos': 1}, {'di...   \n",
       "124278  [{'thi': 1}, {'tell': 1}, {'beep': 1}, {'heck'...   \n",
       "\n",
       "                                            neutral_senti  \\\n",
       "37958             [{}, {'i': 1, 'earlier': 1, 'more': 1}]   \n",
       "48017                 [{'soft': 1, 'quit': 1, 'well': 1}]   \n",
       "97092   [{'seal': 1, 'total': 1, 'cheap': 1, 'away': 1...   \n",
       "98134   [{'newborn': 1, 'i': 1, 'everi': 1, 'safeti': 1}]   \n",
       "124278  [{'doe': 1, 'newborn': 1}, {'onli': 1, 'i': 1,...   \n",
       "\n",
       "                                              senti_senti  \\\n",
       "37958   [{'love': 1}, {'wish': 1, 'pleasant': 1, 'i': ...   \n",
       "48017   [{'love': 1, 'good': 1, 'soft': 1, 'quit': 1, ...   \n",
       "97092   [{'poor': 1, 'useless': 1, 'seal': 1, 'total':...   \n",
       "98134   [{'newborn': 1, 'i': 1, 'everi': 1, 'safeti': 1}]   \n",
       "124278  [{'doe': 1, 'newborn': 1}, {'not': 2, 'onli': ...   \n",
       "\n",
       "                                                 es_pairs  \\\n",
       "37958   [{('attach', 'love'): 1}, {('littl', 'wish'): ...   \n",
       "48017   [{('soooooo', 'love'): 1, ('soooooo', 'good'):...   \n",
       "97092   [{('compar', 'poor'): 1, ('compar', 'useless')...   \n",
       "98134   [{('nail', 'newborn'): 1, ('nail', 'i'): 1, ('...   \n",
       "124278  [{('thi', 'doe'): 1, ('thi', 'newborn'): 1}, {...   \n",
       "\n",
       "                                               es_weights  \n",
       "37958   {('attach', 'love'): 0.9741941770605529, ('lit...  \n",
       "48017   {('soooooo', 'love'): 0.0, ('soooooo', 'good')...  \n",
       "97092   {('compar', 'poor'): 0.0, ('compar', 'useless'...  \n",
       "98134   {('nail', 'newborn'): 0.0, ('nail', 'i'): 0.0,...  \n",
       "124278  {('thi', 'doe'): 0.9741941770605529, ('thi', '...  "
      ]
     },
     "execution_count": 73,
     "metadata": {},
     "output_type": "execute_result"
    }
   ],
   "source": [
    "review_df.loc[review_df['reviewerID']=='A2H4PK6CPR99Q9',[['reviewerID', 'es_weights']]]"
   ]
  },
  {
   "cell_type": "markdown",
   "metadata": {},
   "source": [
    "### Review Similarity Calculation"
   ]
  },
  {
   "cell_type": "code",
   "execution_count": 127,
   "metadata": {},
   "outputs": [],
   "source": [
    "def similarity_calc(asin, es_weights):\n",
    "    results = {}\n",
    "    es_weights = str_eval(es_weights)\n",
    "    es_len = len(es_weights)\n",
    "    if es_len > 0:\n",
    "        es_mean = sum(es_weights.values())/es_len\n",
    "        compare_df = review_df[review_df['asin']==asin][['reviewerID','es_weights']]\n",
    "    \n",
    "        for ri, rc in compare_df.iterrows():\n",
    "            compare_ID, rc_weights = rc['reviewerID'], str_eval(rc['es_weights'])\n",
    "            rc_len = len(rc_weights)\n",
    "            if rc_len > 0:\n",
    "                min_v = min(es_len, rc_len)\n",
    "                rc_mean = sum(rc_weights.values())/rc_len\n",
    "                es_r, rc_r = sorted(es_weights.values())[::-1][:min_v], sorted(rc_weights.values())[::-1][:min_v]\n",
    "                numerator = sum([(i-es_mean)*(j-rc_mean) for i, j in zip(es_r, rc_r)])\n",
    "                denominator = math.sqrt(sum([math.pow(i-es_mean,2) for i in es_r])*sum([math.pow(j-rc_mean,2) for j in rc_r]))\n",
    "                if denominator != 0:\n",
    "                    results[compare_ID] = numerator/denominator\n",
    "    return results"
   ]
  },
  {
   "cell_type": "code",
   "execution_count": 128,
   "metadata": {},
   "outputs": [
    {
     "name": "stdout",
     "output_type": "stream",
     "text": [
      "CPU times: user 1h 6min 26s, sys: 4.66 s, total: 1h 6min 31s\n",
      "Wall time: 1h 6min 31s\n"
     ]
    }
   ],
   "source": [
    "%%time\n",
    "review_df['sim_score'] = review_df[['asin', 'es_weights']].apply(lambda x: similarity_calc(*x), axis=1)"
   ]
  },
  {
   "cell_type": "code",
   "execution_count": 129,
   "metadata": {},
   "outputs": [
    {
     "data": {
      "text/html": [
       "<div>\n",
       "<style scoped>\n",
       "    .dataframe tbody tr th:only-of-type {\n",
       "        vertical-align: middle;\n",
       "    }\n",
       "\n",
       "    .dataframe tbody tr th {\n",
       "        vertical-align: top;\n",
       "    }\n",
       "\n",
       "    .dataframe thead th {\n",
       "        text-align: right;\n",
       "    }\n",
       "</style>\n",
       "<table border=\"1\" class=\"dataframe\">\n",
       "  <thead>\n",
       "    <tr style=\"text-align: right;\">\n",
       "      <th></th>\n",
       "      <th>reviewerID</th>\n",
       "      <th>asin</th>\n",
       "      <th>helpful</th>\n",
       "      <th>reviewText</th>\n",
       "      <th>overall</th>\n",
       "      <th>summary</th>\n",
       "      <th>unixReviewTime</th>\n",
       "      <th>reviewTime</th>\n",
       "      <th>reviewParagraphs</th>\n",
       "      <th>paragraph_num</th>\n",
       "      <th>pos_tag</th>\n",
       "      <th>wn_senti</th>\n",
       "      <th>entity</th>\n",
       "      <th>neutral_senti</th>\n",
       "      <th>senti_senti</th>\n",
       "      <th>es_pairs</th>\n",
       "      <th>es_weights</th>\n",
       "      <th>sim_score</th>\n",
       "    </tr>\n",
       "  </thead>\n",
       "  <tbody>\n",
       "    <tr>\n",
       "      <th>37391</th>\n",
       "      <td>A2KU03VFQC2KLI</td>\n",
       "      <td>B000RI90U6</td>\n",
       "      <td>[0, 1]</td>\n",
       "      <td>They're not wonderful, but they do work as exp...</td>\n",
       "      <td>3.0</td>\n",
       "      <td>It's OK</td>\n",
       "      <td>1294012800</td>\n",
       "      <td>01 3, 2011</td>\n",
       "      <td>[They're not wonderful, but they do work as ex...</td>\n",
       "      <td>4</td>\n",
       "      <td>[{('they', 'PRP'): 2, ('not', 'RB'): 1, ('wond...</td>\n",
       "      <td>[{('not', -0.625): 1}, {('problem', -0.625): 1...</td>\n",
       "      <td>[{'valv': 1}, {'dd': 1}, {'problem': 1}, {'spo...</td>\n",
       "      <td>[{'expect': 1}, {}, {'so': 1, 'chew': 1, 'also...</td>\n",
       "      <td>[{'not': 1, 'expect': 1}, {'problem': 1}, {'ha...</td>\n",
       "      <td>[{('valv', 'not'): 1, ('valv', 'expect'): 1}, ...</td>\n",
       "      <td>{('valv', 'not'): 1.6956370080270464, ('valv',...</td>\n",
       "      <td>{'A1O5O6VFS57VFI': -1.0, 'A3F3MSF219W015': -1....</td>\n",
       "    </tr>\n",
       "    <tr>\n",
       "      <th>142370</th>\n",
       "      <td>A191RVG1AG6WYO</td>\n",
       "      <td>B0082I1IA8</td>\n",
       "      <td>[0, 0]</td>\n",
       "      <td>My 17 month old has been able to find these MA...</td>\n",
       "      <td>5.0</td>\n",
       "      <td>Let me count the ways.</td>\n",
       "      <td>1385424000</td>\n",
       "      <td>11 26, 2013</td>\n",
       "      <td>[My 17 month old has been able to find these M...</td>\n",
       "      <td>8</td>\n",
       "      <td>[{('my', 'PRP$'): 1, ('month', 'NN'): 3, ('old...</td>\n",
       "      <td>[{('dark', -0.5): 1, ('crib', 0.5): 1}, {('cri...</td>\n",
       "      <td>[{'month': 3}, {'ha': 1}, {'mam': 1}, {'comple...</td>\n",
       "      <td>[{'old': 2, 'abl': 1}, {'few': 1, 'glow': 1}, ...</td>\n",
       "      <td>[{'dark': 1, 'crib': 1, 'old': 2, 'abl': 1}, {...</td>\n",
       "      <td>[{('month', 'dark'): 1, ('month', 'crib'): 1, ...</td>\n",
       "      <td>{('month', 'dark'): 2.5434555120405697, ('mont...</td>\n",
       "      <td>{'A3FFRZEPR4MQA': -0.6724810184098898, 'A3GA0P...</td>\n",
       "    </tr>\n",
       "    <tr>\n",
       "      <th>84340</th>\n",
       "      <td>A315UKOVTHRALY</td>\n",
       "      <td>B002ZB81LC</td>\n",
       "      <td>[0, 0]</td>\n",
       "      <td>Good quality crib sheet, very soft.  Have wash...</td>\n",
       "      <td>5.0</td>\n",
       "      <td>good quality, good price</td>\n",
       "      <td>1321574400</td>\n",
       "      <td>11 18, 2011</td>\n",
       "      <td>[Good quality crib sheet, very soft., Have was...</td>\n",
       "      <td>3</td>\n",
       "      <td>[{('good', 'JJ'): 1, ('qualiti', 'NN'): 1, ('c...</td>\n",
       "      <td>[{('good', 0.75): 1, ('crib', 0.5): 1}, {}, {(...</td>\n",
       "      <td>[{'qualiti': 1}, {'crib': 1}, {'sheet': 1}, {'...</td>\n",
       "      <td>[{'soft': 1}, {'so': 1, 'far': 1, 'well': 1}, ...</td>\n",
       "      <td>[{'good': 1, 'crib': 1, 'soft': 1}, {'so': 1, ...</td>\n",
       "      <td>[{('qualiti', 'good'): 1, ('qualiti', 'crib'):...</td>\n",
       "      <td>{('qualiti', 'good'): 1.4146633486931457, ('qu...</td>\n",
       "      <td>{'A2HDMQXSSL8TE8': 0.4210205118204248, 'A315UK...</td>\n",
       "    </tr>\n",
       "  </tbody>\n",
       "</table>\n",
       "</div>"
      ],
      "text/plain": [
       "            reviewerID        asin helpful  \\\n",
       "37391   A2KU03VFQC2KLI  B000RI90U6  [0, 1]   \n",
       "142370  A191RVG1AG6WYO  B0082I1IA8  [0, 0]   \n",
       "84340   A315UKOVTHRALY  B002ZB81LC  [0, 0]   \n",
       "\n",
       "                                               reviewText  overall  \\\n",
       "37391   They're not wonderful, but they do work as exp...      3.0   \n",
       "142370  My 17 month old has been able to find these MA...      5.0   \n",
       "84340   Good quality crib sheet, very soft.  Have wash...      5.0   \n",
       "\n",
       "                         summary  unixReviewTime   reviewTime  \\\n",
       "37391                    It's OK      1294012800   01 3, 2011   \n",
       "142370    Let me count the ways.      1385424000  11 26, 2013   \n",
       "84340   good quality, good price      1321574400  11 18, 2011   \n",
       "\n",
       "                                         reviewParagraphs  paragraph_num  \\\n",
       "37391   [They're not wonderful, but they do work as ex...              4   \n",
       "142370  [My 17 month old has been able to find these M...              8   \n",
       "84340   [Good quality crib sheet, very soft., Have was...              3   \n",
       "\n",
       "                                                  pos_tag  \\\n",
       "37391   [{('they', 'PRP'): 2, ('not', 'RB'): 1, ('wond...   \n",
       "142370  [{('my', 'PRP$'): 1, ('month', 'NN'): 3, ('old...   \n",
       "84340   [{('good', 'JJ'): 1, ('qualiti', 'NN'): 1, ('c...   \n",
       "\n",
       "                                                 wn_senti  \\\n",
       "37391   [{('not', -0.625): 1}, {('problem', -0.625): 1...   \n",
       "142370  [{('dark', -0.5): 1, ('crib', 0.5): 1}, {('cri...   \n",
       "84340   [{('good', 0.75): 1, ('crib', 0.5): 1}, {}, {(...   \n",
       "\n",
       "                                                   entity  \\\n",
       "37391   [{'valv': 1}, {'dd': 1}, {'problem': 1}, {'spo...   \n",
       "142370  [{'month': 3}, {'ha': 1}, {'mam': 1}, {'comple...   \n",
       "84340   [{'qualiti': 1}, {'crib': 1}, {'sheet': 1}, {'...   \n",
       "\n",
       "                                            neutral_senti  \\\n",
       "37391   [{'expect': 1}, {}, {'so': 1, 'chew': 1, 'also...   \n",
       "142370  [{'old': 2, 'abl': 1}, {'few': 1, 'glow': 1}, ...   \n",
       "84340   [{'soft': 1}, {'so': 1, 'far': 1, 'well': 1}, ...   \n",
       "\n",
       "                                              senti_senti  \\\n",
       "37391   [{'not': 1, 'expect': 1}, {'problem': 1}, {'ha...   \n",
       "142370  [{'dark': 1, 'crib': 1, 'old': 2, 'abl': 1}, {...   \n",
       "84340   [{'good': 1, 'crib': 1, 'soft': 1}, {'so': 1, ...   \n",
       "\n",
       "                                                 es_pairs  \\\n",
       "37391   [{('valv', 'not'): 1, ('valv', 'expect'): 1}, ...   \n",
       "142370  [{('month', 'dark'): 1, ('month', 'crib'): 1, ...   \n",
       "84340   [{('qualiti', 'good'): 1, ('qualiti', 'crib'):...   \n",
       "\n",
       "                                               es_weights  \\\n",
       "37391   {('valv', 'not'): 1.6956370080270464, ('valv',...   \n",
       "142370  {('month', 'dark'): 2.5434555120405697, ('mont...   \n",
       "84340   {('qualiti', 'good'): 1.4146633486931457, ('qu...   \n",
       "\n",
       "                                                sim_score  \n",
       "37391   {'A1O5O6VFS57VFI': -1.0, 'A3F3MSF219W015': -1....  \n",
       "142370  {'A3FFRZEPR4MQA': -0.6724810184098898, 'A3GA0P...  \n",
       "84340   {'A2HDMQXSSL8TE8': 0.4210205118204248, 'A315UK...  "
      ]
     },
     "execution_count": 129,
     "metadata": {},
     "output_type": "execute_result"
    }
   ],
   "source": [
    "review_df.sample(3)"
   ]
  },
  {
   "cell_type": "code",
   "execution_count": 130,
   "metadata": {},
   "outputs": [],
   "source": [
    "review_df.to_csv('./data/reviews_Baby_5_step_3.csv', encoding='utf-8', index=False)"
   ]
  },
  {
   "cell_type": "markdown",
   "metadata": {},
   "source": [
    "### Direct Trust Calculation: Sentiment Similarity Between Users"
   ]
  },
  {
   "cell_type": "code",
   "execution_count": 1,
   "metadata": {},
   "outputs": [],
   "source": [
    "import itertools \n",
    "from collections import Counter\n",
    "import pandas as pd\n",
    "import numpy as np\n",
    "from ast import literal_eval\n",
    "import math\n",
    "flatten = lambda l: [item for sublist in l for item in sublist]\n",
    "str_eval = lambda inp: literal_eval(inp) if type(inp)==str else inp\n",
    "\n",
    "\n",
    "review_df = pd.read_csv('./data/reviews_Baby_5_step_3.csv')"
   ]
  },
  {
   "cell_type": "code",
   "execution_count": 2,
   "metadata": {},
   "outputs": [
    {
     "data": {
      "text/html": [
       "<div>\n",
       "<style scoped>\n",
       "    .dataframe tbody tr th:only-of-type {\n",
       "        vertical-align: middle;\n",
       "    }\n",
       "\n",
       "    .dataframe tbody tr th {\n",
       "        vertical-align: top;\n",
       "    }\n",
       "\n",
       "    .dataframe thead th {\n",
       "        text-align: right;\n",
       "    }\n",
       "</style>\n",
       "<table border=\"1\" class=\"dataframe\">\n",
       "  <thead>\n",
       "    <tr style=\"text-align: right;\">\n",
       "      <th></th>\n",
       "      <th>reviewerID</th>\n",
       "      <th>asin</th>\n",
       "      <th>helpful</th>\n",
       "      <th>reviewText</th>\n",
       "      <th>overall</th>\n",
       "      <th>summary</th>\n",
       "      <th>unixReviewTime</th>\n",
       "      <th>reviewTime</th>\n",
       "      <th>reviewParagraphs</th>\n",
       "      <th>paragraph_num</th>\n",
       "      <th>pos_tag</th>\n",
       "      <th>wn_senti</th>\n",
       "      <th>entity</th>\n",
       "      <th>neutral_senti</th>\n",
       "      <th>senti_senti</th>\n",
       "      <th>es_pairs</th>\n",
       "      <th>es_weights</th>\n",
       "      <th>sim_score</th>\n",
       "    </tr>\n",
       "  </thead>\n",
       "  <tbody>\n",
       "    <tr>\n",
       "      <th>92763</th>\n",
       "      <td>A1ODB8EPE46KK2</td>\n",
       "      <td>B003BIFNXC</td>\n",
       "      <td>[3, 5]</td>\n",
       "      <td>We only have a 2 bedroom house but have two ch...</td>\n",
       "      <td>5.0</td>\n",
       "      <td>LOVE  IT!</td>\n",
       "      <td>1304380800</td>\n",
       "      <td>05 3, 2011</td>\n",
       "      <td>['We only have a 2 bedroom house but have two ...</td>\n",
       "      <td>5</td>\n",
       "      <td>[{('we', 'PRP'): 1, ('onli', 'VBP'): 1, ('have...</td>\n",
       "      <td>[{('not', -0.625): 1}, {('crib', 0.5): 1}, {},...</td>\n",
       "      <td>[{'bedroom': 1}, {'children': 1}, {'room': 2},...</td>\n",
       "      <td>[{'hous': 1, 'same': 1, 'yet': 1, 'so': 1, 'yo...</td>\n",
       "      <td>[{'not': 1, 'hous': 1, 'same': 1, 'yet': 1, 's...</td>\n",
       "      <td>[{('bedroom', 'not'): 1, ('bedroom', 'hous'): ...</td>\n",
       "      <td>{('bedroom', 'not'): 1.9028731381922979, ('bed...</td>\n",
       "      <td>{'ATPIDQR3ZJ8SX': 0.6316139407998889, 'A1ODB8E...</td>\n",
       "    </tr>\n",
       "    <tr>\n",
       "      <th>88748</th>\n",
       "      <td>A2661Y23D6MPG6</td>\n",
       "      <td>B00363H1MS</td>\n",
       "      <td>[2, 2]</td>\n",
       "      <td>Pros:  soft, perfect smaller size, soothingCon...</td>\n",
       "      <td>5.0</td>\n",
       "      <td>Soft, Smooth, Soothing</td>\n",
       "      <td>1303776000</td>\n",
       "      <td>04 26, 2011</td>\n",
       "      <td>[\"Pros:  soft, perfect smaller size, soothingC...</td>\n",
       "      <td>7</td>\n",
       "      <td>[{('pro', 'JJ'): 1, ('soft', 'JJ'): 1, ('perfe...</td>\n",
       "      <td>[{('perfect', 0.625): 1}, {('odd', 0.5): 1}, {...</td>\n",
       "      <td>[{'size': 1}, {'soothingcon': 1}, {'none': 1},...</td>\n",
       "      <td>[{'pro': 1, 'soft': 1, 'smaller': 1, 'first': ...</td>\n",
       "      <td>[{'perfect': 1, 'pro': 1, 'soft': 1, 'smaller'...</td>\n",
       "      <td>[{('size', 'perfect'): 1, ('size', 'pro'): 1, ...</td>\n",
       "      <td>{('size', 'perfect'): 2.2057502411808616, ('si...</td>\n",
       "      <td>{}</td>\n",
       "    </tr>\n",
       "    <tr>\n",
       "      <th>104524</th>\n",
       "      <td>A32IWQRIT5YQKZ</td>\n",
       "      <td>B00440CZQY</td>\n",
       "      <td>[4, 4]</td>\n",
       "      <td>The fork and spoon are the EXACT same as the S...</td>\n",
       "      <td>3.0</td>\n",
       "      <td>Less cute version of the Sugar Booger set</td>\n",
       "      <td>1376784000</td>\n",
       "      <td>08 18, 2013</td>\n",
       "      <td>[\"The fork and spoon are the EXACT same as the...</td>\n",
       "      <td>1</td>\n",
       "      <td>[{('the', 'DT'): 7, ('fork', 'NN'): 3, ('and',...</td>\n",
       "      <td>[{('good', 0.75): 1, ('sure', -0.5): 1, ('rath...</td>\n",
       "      <td>[{'fork': 3}, {'spoon': 3}, {'sugar': 3}, {'bo...</td>\n",
       "      <td>[{'exact': 1, 'same': 1, 'pretti': 1, 'more': ...</td>\n",
       "      <td>[{'good': 1, 'sure': 1, 'rather': 1, 'exact': ...</td>\n",
       "      <td>[{('fork', 'good'): 1, ('fork', 'sure'): 1, ('...</td>\n",
       "      <td>{('fork', 'good'): 0.0, ('fork', 'sure'): 0.0,...</td>\n",
       "      <td>{}</td>\n",
       "    </tr>\n",
       "  </tbody>\n",
       "</table>\n",
       "</div>"
      ],
      "text/plain": [
       "            reviewerID        asin helpful  \\\n",
       "92763   A1ODB8EPE46KK2  B003BIFNXC  [3, 5]   \n",
       "88748   A2661Y23D6MPG6  B00363H1MS  [2, 2]   \n",
       "104524  A32IWQRIT5YQKZ  B00440CZQY  [4, 4]   \n",
       "\n",
       "                                               reviewText  overall  \\\n",
       "92763   We only have a 2 bedroom house but have two ch...      5.0   \n",
       "88748   Pros:  soft, perfect smaller size, soothingCon...      5.0   \n",
       "104524  The fork and spoon are the EXACT same as the S...      3.0   \n",
       "\n",
       "                                          summary  unixReviewTime  \\\n",
       "92763                                   LOVE  IT!      1304380800   \n",
       "88748                      Soft, Smooth, Soothing      1303776000   \n",
       "104524  Less cute version of the Sugar Booger set      1376784000   \n",
       "\n",
       "         reviewTime                                   reviewParagraphs  \\\n",
       "92763    05 3, 2011  ['We only have a 2 bedroom house but have two ...   \n",
       "88748   04 26, 2011  [\"Pros:  soft, perfect smaller size, soothingC...   \n",
       "104524  08 18, 2013  [\"The fork and spoon are the EXACT same as the...   \n",
       "\n",
       "        paragraph_num                                            pos_tag  \\\n",
       "92763               5  [{('we', 'PRP'): 1, ('onli', 'VBP'): 1, ('have...   \n",
       "88748               7  [{('pro', 'JJ'): 1, ('soft', 'JJ'): 1, ('perfe...   \n",
       "104524              1  [{('the', 'DT'): 7, ('fork', 'NN'): 3, ('and',...   \n",
       "\n",
       "                                                 wn_senti  \\\n",
       "92763   [{('not', -0.625): 1}, {('crib', 0.5): 1}, {},...   \n",
       "88748   [{('perfect', 0.625): 1}, {('odd', 0.5): 1}, {...   \n",
       "104524  [{('good', 0.75): 1, ('sure', -0.5): 1, ('rath...   \n",
       "\n",
       "                                                   entity  \\\n",
       "92763   [{'bedroom': 1}, {'children': 1}, {'room': 2},...   \n",
       "88748   [{'size': 1}, {'soothingcon': 1}, {'none': 1},...   \n",
       "104524  [{'fork': 3}, {'spoon': 3}, {'sugar': 3}, {'bo...   \n",
       "\n",
       "                                            neutral_senti  \\\n",
       "92763   [{'hous': 1, 'same': 1, 'yet': 1, 'so': 1, 'yo...   \n",
       "88748   [{'pro': 1, 'soft': 1, 'smaller': 1, 'first': ...   \n",
       "104524  [{'exact': 1, 'same': 1, 'pretti': 1, 'more': ...   \n",
       "\n",
       "                                              senti_senti  \\\n",
       "92763   [{'not': 1, 'hous': 1, 'same': 1, 'yet': 1, 's...   \n",
       "88748   [{'perfect': 1, 'pro': 1, 'soft': 1, 'smaller'...   \n",
       "104524  [{'good': 1, 'sure': 1, 'rather': 1, 'exact': ...   \n",
       "\n",
       "                                                 es_pairs  \\\n",
       "92763   [{('bedroom', 'not'): 1, ('bedroom', 'hous'): ...   \n",
       "88748   [{('size', 'perfect'): 1, ('size', 'pro'): 1, ...   \n",
       "104524  [{('fork', 'good'): 1, ('fork', 'sure'): 1, ('...   \n",
       "\n",
       "                                               es_weights  \\\n",
       "92763   {('bedroom', 'not'): 1.9028731381922979, ('bed...   \n",
       "88748   {('size', 'perfect'): 2.2057502411808616, ('si...   \n",
       "104524  {('fork', 'good'): 0.0, ('fork', 'sure'): 0.0,...   \n",
       "\n",
       "                                                sim_score  \n",
       "92763   {'ATPIDQR3ZJ8SX': 0.6316139407998889, 'A1ODB8E...  \n",
       "88748                                                  {}  \n",
       "104524                                                 {}  "
      ]
     },
     "execution_count": 2,
     "metadata": {},
     "output_type": "execute_result"
    }
   ],
   "source": [
    "review_df.sample(3)"
   ]
  },
  {
   "cell_type": "code",
   "execution_count": 3,
   "metadata": {},
   "outputs": [],
   "source": [
    "def recur_dictify(frame):\n",
    "    if len(frame.columns) == 1:\n",
    "        if frame.values.size == 1: return frame.values[0][0]\n",
    "        return frame.values.squeeze()\n",
    "    grouped = frame.groupby(frame.columns[0])\n",
    "    d = {k: recur_dictify(g.iloc[:,1:]) for k,g in grouped}\n",
    "    return d\n",
    "\n",
    "\n",
    "reviewerID_list = review_df['reviewerID'].unique().tolist()\n",
    "ratings = review_df[['asin', 'reviewerID', 'overall']]"
   ]
  },
  {
   "cell_type": "code",
   "execution_count": 4,
   "metadata": {},
   "outputs": [
    {
     "name": "stdout",
     "output_type": "stream",
     "text": [
      "CPU times: user 1min 11s, sys: 246 ms, total: 1min 11s\n",
      "Wall time: 1min 11s\n"
     ]
    }
   ],
   "source": [
    "%%time\n",
    "asin_ratings = recur_dictify(ratings)"
   ]
  },
  {
   "cell_type": "code",
   "execution_count": 21,
   "metadata": {},
   "outputs": [
    {
     "data": {
      "text/plain": [
       "{'A19K65VY14D13R': 5.0,\n",
       " 'A1HK2FQW6KXQB2': 5.0,\n",
       " 'A1TFH58BMFJCR3': 5.0,\n",
       " 'A1ZSTU6RKY1JCL': 3.0,\n",
       " 'A2496A4EWMLQ7': 4.0,\n",
       " 'A2LL1TGG90977E': 5.0,\n",
       " 'A2Q2A6JKY95RTP': 3.0,\n",
       " 'A2SYNL4YX73KNY': 3.0,\n",
       " 'A3NMPMELAZC8ZY': 5.0,\n",
       " 'A3O4ATU0ENBKTU': 5.0,\n",
       " 'A3OL1DR5N8ZLOZ': 3.0,\n",
       " 'A3OQEVD4C7G3L3': 4.0,\n",
       " 'A5G19RYX8599E': 5.0,\n",
       " 'AKNT3ZH2FB7T4': 5.0,\n",
       " 'AOWBZDNT7QAW0': 5.0,\n",
       " 'ATZDT4B1U7NL': 5.0,\n",
       " 'AXBWU2IAPKKE7': 4.0}"
      ]
     },
     "execution_count": 21,
     "metadata": {},
     "output_type": "execute_result"
    }
   ],
   "source": [
    "# the ratings from different users for ASIN '097293751X'\n",
    "asin_ratings['097293751X']"
   ]
  },
  {
   "cell_type": "code",
   "execution_count": 61,
   "metadata": {},
   "outputs": [],
   "source": [
    "def direct_trust_calc(reviewerID, alpha=1.5, D0=0.618):\n",
    "    results = {}\n",
    "    subset_df = review_df[review_df['reviewerID']==reviewerID][['overall', 'asin', 'sim_score']]\n",
    "    subset_df['sim_score'] = subset_df['sim_score'].map(str_eval)\n",
    "    compare_IDs = Counter([k for dt in subset_df['sim_score'].tolist() for k in dt])\n",
    "    \n",
    "    compare_dt = {}\n",
    "    for asin, dt in zip(subset_df['asin'], subset_df['sim_score']):\n",
    "        for a,r in zip([asin]*len(dt),dt.keys()):\n",
    "            try:\n",
    "                compare_dt[r].update({a:dt[r]})\n",
    "            except:\n",
    "                compare_dt[r] = {a:dt[r]}\n",
    "                \n",
    "    for compare_id in compare_IDs.keys():\n",
    "        i = compare_IDs[compare_id]\n",
    "        rhoi = math.atan(i+alpha)/math.pi+0.5\n",
    "        if i > 1:\n",
    "            numerator = sum([(asin_ratings[asin][reviewerID] - 0.5 * (asin_ratings[asin][reviewerID] + asin_ratings[asin][compare_id])) * \n",
    "                             (asin_ratings[asin][compare_id] - 0.5 * (asin_ratings[asin][reviewerID] + asin_ratings[asin][compare_id])) * \n",
    "                             compare_dt[compare_id][asin]\n",
    "                             for asin in compare_dt[compare_id]])/(i - 1)\n",
    "            dd = (1/i) * (rhoi * numerator / sum(compare_dt[compare_id].values()) + (1 - rhoi) * D0)\n",
    "        else:\n",
    "            dd = (1/i) * (1 - rhoi) * D0\n",
    "        results[compare_id] = dd\n",
    "    return results"
   ]
  },
  {
   "cell_type": "code",
   "execution_count": 66,
   "metadata": {},
   "outputs": [
    {
     "name": "stderr",
     "output_type": "stream",
     "text": [
      "/home/gcp-user/.local/lib/python3.7/site-packages/ipykernel_launcher.py:22: RuntimeWarning: divide by zero encountered in double_scalars\n",
      "/home/gcp-user/.local/lib/python3.7/site-packages/ipykernel_launcher.py:22: RuntimeWarning: invalid value encountered in double_scalars\n"
     ]
    },
    {
     "name": "stdout",
     "output_type": "stream",
     "text": [
      "CPU times: user 3h 43min 10s, sys: 9.78 s, total: 3h 43min 19s\n",
      "Wall time: 3h 43min 14s\n"
     ]
    }
   ],
   "source": [
    "%%time\n",
    "direct_trust = {reviewerID:direct_trust_calc(reviewerID, alpha=1.5, D0=0.618) for reviewerID in reviewerID_list}"
   ]
  },
  {
   "cell_type": "code",
   "execution_count": 67,
   "metadata": {},
   "outputs": [],
   "source": [
    "pd.DataFrame(direct_trust.items()).to_csv('./data/direct_trust.csv', index=False)"
   ]
  },
  {
   "cell_type": "code",
   "execution_count": 11,
   "metadata": {},
   "outputs": [],
   "source": [
    "def direct_trust_calc_2(reviewerID, D0=0.618):\n",
    "    results = {}\n",
    "    subset_df = review_df[review_df['reviewerID']==reviewerID][['overall', 'asin', 'sim_score']]\n",
    "    subset_df['sim_score'] = subset_df['sim_score'].map(str_eval)\n",
    "    compare_IDs = Counter([k for dt in subset_df['sim_score'].tolist() for k in dt])\n",
    "    \n",
    "    compare_dt = {}\n",
    "    for asin, dt in zip(subset_df['asin'], subset_df['sim_score']):\n",
    "        for a,r in zip([asin]*len(dt),dt.keys()):\n",
    "            try:\n",
    "                compare_dt[r].update({a:dt[r]})\n",
    "            except:\n",
    "                compare_dt[r] = {a:dt[r]}\n",
    "                \n",
    "    for compare_id in compare_IDs.keys():\n",
    "        i = compare_IDs[compare_id]\n",
    "        rhoi_list = [math.atan(i+alpha)/math.pi+0.5 for alpha in np.arange(0, 3.0, 0.1)]\n",
    "        if i > 1:\n",
    "            numerator = sum([(asin_ratings[asin][reviewerID] - 0.5 * (asin_ratings[asin][reviewerID] + asin_ratings[asin][compare_id])) * \n",
    "                             (asin_ratings[asin][compare_id] - 0.5 * (asin_ratings[asin][reviewerID] + asin_ratings[asin][compare_id])) * \n",
    "                             compare_dt[compare_id][asin]\n",
    "                             for asin in compare_dt[compare_id]])/(i - 1)\n",
    "            dd = [(1/i) * (rhoi * numerator / sum(compare_dt[compare_id].values()) + (1 - rhoi) * D0) for rhoi in rhoi_list]\n",
    "        else:\n",
    "            dd = [(1/i) * (1 - rhoi) * D0 for rhoi in rhoi_list]\n",
    "        results[compare_id] = dd\n",
    "    return results"
   ]
  },
  {
   "cell_type": "code",
   "execution_count": 12,
   "metadata": {},
   "outputs": [
    {
     "name": "stderr",
     "output_type": "stream",
     "text": [
      "/home/gcp-user/.local/lib/python3.7/site-packages/ipykernel_launcher.py:23: RuntimeWarning: divide by zero encountered in double_scalars\n",
      "/home/gcp-user/.local/lib/python3.7/site-packages/ipykernel_launcher.py:23: RuntimeWarning: invalid value encountered in double_scalars\n"
     ]
    },
    {
     "name": "stdout",
     "output_type": "stream",
     "text": [
      "CPU times: user 2h 47min 50s, sys: 7.52 s, total: 2h 47min 57s\n",
      "Wall time: 2h 47min 48s\n"
     ]
    }
   ],
   "source": [
    "%%time\n",
    "direct_trust_2 = {reviewerID:direct_trust_calc_2(reviewerID, D0=0.618) for reviewerID in reviewerID_list}"
   ]
  },
  {
   "cell_type": "code",
   "execution_count": 15,
   "metadata": {},
   "outputs": [
    {
     "name": "stdout",
     "output_type": "stream",
     "text": [
      "\n"
     ]
    }
   ],
   "source": [
    "pd.DataFrame(direct_trust_2.items()).to_csv('./data/direct_trust_2.csv', index=False)"
   ]
  },
  {
   "cell_type": "markdown",
   "metadata": {},
   "source": [
    "### Propagation Trust: Indirect Trust"
   ]
  },
  {
   "cell_type": "code",
   "execution_count": 1,
   "metadata": {},
   "outputs": [],
   "source": [
    "import itertools \n",
    "from collections import Counter\n",
    "import pandas as pd\n",
    "from ast import literal_eval\n",
    "import json\n",
    "import math\n",
    "flatten = lambda l: [item for sublist in l for item in sublist]\n",
    "str_eval = lambda inp: literal_eval(inp) if type(inp)==str else inp\n",
    "\n",
    "\n",
    "def error_handle_eval(row):\n",
    "    try:\n",
    "        result = str_eval(row)\n",
    "    except ValueError:\n",
    "        try:\n",
    "            result = str_eval(row.replace('-inf','0').replace('nan','0').replace('inf','0'))\n",
    "        except:\n",
    "            print(row)\n",
    "    return result"
   ]
  },
  {
   "cell_type": "code",
   "execution_count": 2,
   "metadata": {},
   "outputs": [
    {
     "name": "stdout",
     "output_type": "stream",
     "text": [
      "CPU times: user 5.92 s, sys: 252 ms, total: 6.17 s\n",
      "Wall time: 6.23 s\n"
     ]
    }
   ],
   "source": [
    "%%time\n",
    "direct_trust_df = pd.read_csv('./data/direct_trust.csv', names=['reviewerID', 'direct_trusts'], skiprows=1)\n",
    "dropped_reviewers = direct_trust_df[direct_trust_df['direct_trusts']==\"{}\"]['reviewerID'].unique().tolist()\n",
    "direct_trust_df = direct_trust_df[direct_trust_df['direct_trusts']!=\"{}\"].reset_index(drop=True)\n",
    "direct_trust_df['direct_trusts'] = direct_trust_df['direct_trusts'].map(error_handle_eval)\n",
    "reviewerID_list = direct_trust_df['reviewerID'].unique().tolist()"
   ]
  },
  {
   "cell_type": "code",
   "execution_count": 3,
   "metadata": {},
   "outputs": [
    {
     "data": {
      "text/html": [
       "<div>\n",
       "<style scoped>\n",
       "    .dataframe tbody tr th:only-of-type {\n",
       "        vertical-align: middle;\n",
       "    }\n",
       "\n",
       "    .dataframe tbody tr th {\n",
       "        vertical-align: top;\n",
       "    }\n",
       "\n",
       "    .dataframe thead th {\n",
       "        text-align: right;\n",
       "    }\n",
       "</style>\n",
       "<table border=\"1\" class=\"dataframe\">\n",
       "  <thead>\n",
       "    <tr style=\"text-align: right;\">\n",
       "      <th></th>\n",
       "      <th>reviewerID</th>\n",
       "      <th>direct_trusts</th>\n",
       "    </tr>\n",
       "  </thead>\n",
       "  <tbody>\n",
       "    <tr>\n",
       "      <th>0</th>\n",
       "      <td>A19K65VY14D13R</td>\n",
       "      <td>{'A19K65VY14D13R': 0.004345823705360652, 'ATZD...</td>\n",
       "    </tr>\n",
       "    <tr>\n",
       "      <th>1</th>\n",
       "      <td>A2LL1TGG90977E</td>\n",
       "      <td>{'A2LL1TGG90977E': 0.027372929629917553, 'ATM9...</td>\n",
       "    </tr>\n",
       "    <tr>\n",
       "      <th>2</th>\n",
       "      <td>ATZDT4B1U7NL</td>\n",
       "      <td>{'A19K65VY14D13R': 0.07485150590314119, 'ATZDT...</td>\n",
       "    </tr>\n",
       "  </tbody>\n",
       "</table>\n",
       "</div>"
      ],
      "text/plain": [
       "       reviewerID                                      direct_trusts\n",
       "0  A19K65VY14D13R  {'A19K65VY14D13R': 0.004345823705360652, 'ATZD...\n",
       "1  A2LL1TGG90977E  {'A2LL1TGG90977E': 0.027372929629917553, 'ATM9...\n",
       "2    ATZDT4B1U7NL  {'A19K65VY14D13R': 0.07485150590314119, 'ATZDT..."
      ]
     },
     "execution_count": 3,
     "metadata": {},
     "output_type": "execute_result"
    }
   ],
   "source": [
    "direct_trust_df.head(3)"
   ]
  },
  {
   "cell_type": "code",
   "execution_count": 4,
   "metadata": {},
   "outputs": [
    {
     "name": "stdout",
     "output_type": "stream",
     "text": [
      "1180265\n"
     ]
    }
   ],
   "source": [
    "all_pairs_2d = {(r,k):dt[k] for ri,dt in zip(direct_trust_df['reviewerID'], direct_trust_df['direct_trusts']) for r,k in zip([ri]*len(dt), dt)}\n",
    "print(len(all_pairs_2d))"
   ]
  },
  {
   "cell_type": "code",
   "execution_count": 5,
   "metadata": {},
   "outputs": [],
   "source": [
    "def get_indirect_trusts(reviewerID, direct_trusts):\n",
    "    return [asin for asin in reviewerID_list if asin not in direct_trusts.keys() and asin != reviewerID and asin < reviewerID]"
   ]
  },
  {
   "cell_type": "code",
   "execution_count": 6,
   "metadata": {},
   "outputs": [
    {
     "name": "stdout",
     "output_type": "stream",
     "text": [
      "CPU times: user 18.7 s, sys: 387 ms, total: 19 s\n",
      "Wall time: 19 s\n"
     ]
    }
   ],
   "source": [
    "%%time\n",
    "direct_trust_df['indirect_trust'] = direct_trust_df[['reviewerID','direct_trusts']].apply(\n",
    "    lambda x: get_indirect_trusts(*x), axis=1)"
   ]
  },
  {
   "cell_type": "code",
   "execution_count": 7,
   "metadata": {},
   "outputs": [
    {
     "data": {
      "text/html": [
       "<div>\n",
       "<style scoped>\n",
       "    .dataframe tbody tr th:only-of-type {\n",
       "        vertical-align: middle;\n",
       "    }\n",
       "\n",
       "    .dataframe tbody tr th {\n",
       "        vertical-align: top;\n",
       "    }\n",
       "\n",
       "    .dataframe thead th {\n",
       "        text-align: right;\n",
       "    }\n",
       "</style>\n",
       "<table border=\"1\" class=\"dataframe\">\n",
       "  <thead>\n",
       "    <tr style=\"text-align: right;\">\n",
       "      <th></th>\n",
       "      <th>reviewerID</th>\n",
       "      <th>direct_trusts</th>\n",
       "      <th>indirect_trust</th>\n",
       "    </tr>\n",
       "  </thead>\n",
       "  <tbody>\n",
       "    <tr>\n",
       "      <th>0</th>\n",
       "      <td>A19K65VY14D13R</td>\n",
       "      <td>{'A19K65VY14D13R': 0.004345823705360652, 'ATZD...</td>\n",
       "      <td>[A16WT9L1IC07EB, A190YSZV06NQ2Q, A12FWBY1OWEPJ...</td>\n",
       "    </tr>\n",
       "    <tr>\n",
       "      <th>1</th>\n",
       "      <td>A2LL1TGG90977E</td>\n",
       "      <td>{'A2LL1TGG90977E': 0.027372929629917553, 'ATM9...</td>\n",
       "      <td>[A19K65VY14D13R, A1ZSTU6RKY1JCL, A2EAJL3H6DPIP...</td>\n",
       "    </tr>\n",
       "    <tr>\n",
       "      <th>2</th>\n",
       "      <td>ATZDT4B1U7NL</td>\n",
       "      <td>{'A19K65VY14D13R': 0.07485150590314119, 'ATZDT...</td>\n",
       "      <td>[A2LL1TGG90977E, A1ZSTU6RKY1JCL, A2EAJL3H6DPIP...</td>\n",
       "    </tr>\n",
       "  </tbody>\n",
       "</table>\n",
       "</div>"
      ],
      "text/plain": [
       "       reviewerID                                      direct_trusts  \\\n",
       "0  A19K65VY14D13R  {'A19K65VY14D13R': 0.004345823705360652, 'ATZD...   \n",
       "1  A2LL1TGG90977E  {'A2LL1TGG90977E': 0.027372929629917553, 'ATM9...   \n",
       "2    ATZDT4B1U7NL  {'A19K65VY14D13R': 0.07485150590314119, 'ATZDT...   \n",
       "\n",
       "                                      indirect_trust  \n",
       "0  [A16WT9L1IC07EB, A190YSZV06NQ2Q, A12FWBY1OWEPJ...  \n",
       "1  [A19K65VY14D13R, A1ZSTU6RKY1JCL, A2EAJL3H6DPIP...  \n",
       "2  [A2LL1TGG90977E, A1ZSTU6RKY1JCL, A2EAJL3H6DPIP...  "
      ]
     },
     "execution_count": 7,
     "metadata": {},
     "output_type": "execute_result"
    }
   ],
   "source": [
    "direct_trust_df.head(3)"
   ]
  },
  {
   "cell_type": "code",
   "execution_count": 8,
   "metadata": {},
   "outputs": [],
   "source": [
    "import networkx as nx\n",
    "G = nx.DiGraph()\n",
    "for k in all_pairs_2d:\n",
    "    G.add_edge(k[0],k[1],distance=1)\n",
    "\n",
    "    \n",
    "def indirect_trust_calc(reviewerID, compare_id):\n",
    "    result = 1\n",
    "    try:\n",
    "        paths = nx.dijkstra_path(G, reviewerID, compare_id, 'distance')\n",
    "        for i in range(len(paths)-1):\n",
    "            result = result * all_pairs_2d[(paths[i],paths[i+1])]\n",
    "    except:\n",
    "        result = 0\n",
    "    return result\n",
    "\n",
    "\n",
    "def apply_indirect_trust(reviewerID, indirect_trust):\n",
    "    return {(reviewerID,compare_id): indirect_trust_calc(reviewerID, compare_id)\n",
    "            for compare_id in indirect_trust}"
   ]
  },
  {
   "cell_type": "code",
   "execution_count": 10,
   "metadata": {},
   "outputs": [
    {
     "name": "stdout",
     "output_type": "stream",
     "text": [
      "CPU times: user 10min 22s, sys: 136 ms, total: 10min 23s\n",
      "Wall time: 10min 23s\n"
     ]
    }
   ],
   "source": [
    "%%time\n",
    "results = direct_trust_df[['reviewerID', 'indirect_trust']][:1].apply(lambda x: apply_indirect_trust(*x), axis=1)"
   ]
  },
  {
   "cell_type": "code",
   "execution_count": 30,
   "metadata": {},
   "outputs": [
    {
     "data": {
      "text/plain": [
       "0.00041937412020291937"
      ]
     },
     "execution_count": 30,
     "metadata": {},
     "output_type": "execute_result"
    }
   ],
   "source": [
    "results[0][('A19K65VY14D13R', 'A16WT9L1IC07EB')]"
   ]
  },
  {
   "cell_type": "markdown",
   "metadata": {},
   "source": [
    "## Results Comparison: Precision, Recall & F-value\n",
    "#### All data were loaded into Bigquery\n",
    "\n",
    "- ```precision = Correct Links Number / (Correct Links Number + Incorrect Links Number)```\n",
    "- ```recall = Correct Links Number / (Correct Links Number + Missed Links Number)```\n",
    "- ```F-value = 2 * precision * recall / (precision + recall)```"
   ]
  },
  {
   "cell_type": "code",
   "execution_count": 1,
   "metadata": {},
   "outputs": [
    {
     "data": {
      "text/html": [
       "        <script type=\"text/javascript\">\n",
       "        window.PlotlyConfig = {MathJaxConfig: 'local'};\n",
       "        if (window.MathJax) {MathJax.Hub.Config({SVG: {font: \"STIX-Web\"}});}\n",
       "        if (typeof require !== 'undefined') {\n",
       "        require.undef(\"plotly\");\n",
       "        requirejs.config({\n",
       "            paths: {\n",
       "                'plotly': ['https://cdn.plot.ly/plotly-latest.min']\n",
       "            }\n",
       "        });\n",
       "        require(['plotly'], function(Plotly) {\n",
       "            window._Plotly = Plotly;\n",
       "        });\n",
       "        }\n",
       "        </script>\n",
       "        "
      ]
     },
     "metadata": {},
     "output_type": "display_data"
    }
   ],
   "source": [
    "from plotly.offline import init_notebook_mode, iplot\n",
    "import plotly.graph_objs as go\n",
    "init_notebook_mode(connected=True)\n",
    "from bq_functions import *\n",
    "import numpy as np\n",
    "import pandas as pd"
   ]
  },
  {
   "cell_type": "code",
   "execution_count": 2,
   "metadata": {},
   "outputs": [],
   "source": [
    "def plot_different_alpha(dt_range=[0.0,0.1]):    \n",
    "    ap_conditions = ',\\n'.join(\n",
    "        ['IF(ap_{0} BETWEEN {1} AND {2}, 1, 0) AS ap_{0}'.format(i,dt_range[0],dt_range[1])\n",
    "         for i in range(1,31)])\n",
    "    \n",
    "    calc_conditions = ',\\n'.join(\n",
    "        ['SUM(IF(fact=1 AND ap_{0}=1,1,0)) AS tp_{0}, SUM(IF(fact=0 AND ap_{0}=1,1,0)) AS fp_{0}, SUM(IF(fact=1 AND ap_{0}=0,1,0)) AS fn_{0}'.format(i)\n",
    "         for i in range(1,31)])\n",
    "    \n",
    "    prec_rec = ',\\n'.join(\n",
    "        ['tp_{0}/(tp_{0}+fp_{0}) AS p_{0}, tp_{0}/(tp_{0}+fn_{0}) AS r_{0}'.format(i)\n",
    "         for i in range(1,31)])\n",
    "    \n",
    "    query = '''\n",
    "    SELECT {2}\n",
    "      FROM (SELECT {1}\n",
    "              FROM (SELECT reviewerID, \n",
    "                           dt_reviewerID, \n",
    "                           fact,\n",
    "                           {0}\n",
    "                      FROM TABLE_NAME))\n",
    "    '''.format(ap_conditions,\n",
    "               calc_conditions,\n",
    "               prec_rec)\n",
    "    df = Query(query)\n",
    "    \n",
    "    t_df = df[[col for col in df.columns if col[:1]=='p']].T\n",
    "    t_df.columns = ['precision']\n",
    "    t_df.reset_index(inplace=True)\n",
    "    t_df['recall'] = df[[col for col in df.columns if col[:1]=='r']].T[0].tolist()\n",
    "    f_calc = lambda p,r: 2*p*r/(p+r)\n",
    "    t_df['f_value'] = t_df[['precision','recall']].apply(lambda x: f_calc(*x), axis=1)\n",
    "    t_df['index'] = np.arange(0,3,0.1)\n",
    "    \n",
    "    def plot_scores(column):\n",
    "        markers = {\n",
    "            'precision':1,\n",
    "            'recall':101, \n",
    "            'f_value':201}\n",
    "        data = [go.Scatter(\n",
    "            x=np.arange(0,3,0.1),\n",
    "            y=t_df[column].tolist(),\n",
    "            mode='lines+markers',\n",
    "            marker={'symbol':markers[column]})]\n",
    "        \n",
    "        fig = go.Figure(\n",
    "            data=data, \n",
    "            layout={'title':'The {0} of Direct Trust Analysis with Different Alpha'.format(column.replace('_','-').title())})\n",
    "        iplot(fig)\n",
    "        \n",
    "    plot_scores('precision')\n",
    "    plot_scores('recall')\n",
    "    plot_scores('f_value')"
   ]
  },
  {
   "cell_type": "code",
   "execution_count": 4,
   "metadata": {},
   "outputs": [
    {
     "data": {
      "application/vnd.plotly.v1+json": {
       "config": {
        "linkText": "Export to plot.ly",
        "plotlyServerURL": "https://plot.ly",
        "showLink": false
       },
       "data": [
        {
         "marker": {
          "symbol": 1
         },
         "mode": "lines+markers",
         "type": "scatter",
         "x": [
          0.1,
          0.2,
          0.30000000000000004,
          0.4,
          0.5,
          0.6,
          0.7000000000000001,
          0.8,
          0.9,
          1,
          1.1,
          1.2000000000000002,
          1.3000000000000003,
          1.4000000000000001,
          1.5000000000000002,
          1.6,
          1.7000000000000002,
          1.8000000000000003,
          1.9000000000000001,
          2,
          2.1,
          2.2,
          2.3000000000000003,
          2.4000000000000004,
          2.5000000000000004,
          2.6,
          2.7,
          2.8000000000000003,
          2.9000000000000004,
          3.0000000000000004
         ],
         "y": [
          0.1,
          0.1,
          0.10000393868759586,
          0.3394360508494788,
          0.41122920758225423,
          0.43994647027536427,
          0.47807111212656217,
          0.47807111212656217,
          0.49406746535084123,
          0.501549630568649,
          0.5404568897012499,
          0.5404568897012499,
          0.6912225188400781,
          0.7342984128797433,
          0.7342984128797433,
          0.7414777285530207,
          0.7899999999999999,
          0.7414777285530207,
          0.7260145871028846,
          0.6744707822690971,
          0.5404568897012499,
          0.5189189426814173,
          0.501549630568649,
          0.47807111212656217,
          0.47807111212656217,
          0.45111429465601827,
          0.4198443863901872,
          0.41122920758225423,
          0.41122920758225423,
          0.41122920758225423
         ]
        }
       ],
       "layout": {
        "autosize": true,
        "template": {
         "data": {
          "bar": [
           {
            "error_x": {
             "color": "#2a3f5f"
            },
            "error_y": {
             "color": "#2a3f5f"
            },
            "marker": {
             "line": {
              "color": "#E5ECF6",
              "width": 0.5
             }
            },
            "type": "bar"
           }
          ],
          "barpolar": [
           {
            "marker": {
             "line": {
              "color": "#E5ECF6",
              "width": 0.5
             }
            },
            "type": "barpolar"
           }
          ],
          "carpet": [
           {
            "aaxis": {
             "endlinecolor": "#2a3f5f",
             "gridcolor": "white",
             "linecolor": "white",
             "minorgridcolor": "white",
             "startlinecolor": "#2a3f5f"
            },
            "baxis": {
             "endlinecolor": "#2a3f5f",
             "gridcolor": "white",
             "linecolor": "white",
             "minorgridcolor": "white",
             "startlinecolor": "#2a3f5f"
            },
            "type": "carpet"
           }
          ],
          "choropleth": [
           {
            "colorbar": {
             "outlinewidth": 0,
             "ticks": ""
            },
            "type": "choropleth"
           }
          ],
          "contour": [
           {
            "colorbar": {
             "outlinewidth": 0,
             "ticks": ""
            },
            "colorscale": [
             [
              0,
              "#0d0887"
             ],
             [
              0.1111111111111111,
              "#46039f"
             ],
             [
              0.2222222222222222,
              "#7201a8"
             ],
             [
              0.3333333333333333,
              "#9c179e"
             ],
             [
              0.4444444444444444,
              "#bd3786"
             ],
             [
              0.5555555555555556,
              "#d8576b"
             ],
             [
              0.6666666666666666,
              "#ed7953"
             ],
             [
              0.7777777777777778,
              "#fb9f3a"
             ],
             [
              0.8888888888888888,
              "#fdca26"
             ],
             [
              1,
              "#f0f921"
             ]
            ],
            "type": "contour"
           }
          ],
          "contourcarpet": [
           {
            "colorbar": {
             "outlinewidth": 0,
             "ticks": ""
            },
            "type": "contourcarpet"
           }
          ],
          "heatmap": [
           {
            "colorbar": {
             "outlinewidth": 0,
             "ticks": ""
            },
            "colorscale": [
             [
              0,
              "#0d0887"
             ],
             [
              0.1111111111111111,
              "#46039f"
             ],
             [
              0.2222222222222222,
              "#7201a8"
             ],
             [
              0.3333333333333333,
              "#9c179e"
             ],
             [
              0.4444444444444444,
              "#bd3786"
             ],
             [
              0.5555555555555556,
              "#d8576b"
             ],
             [
              0.6666666666666666,
              "#ed7953"
             ],
             [
              0.7777777777777778,
              "#fb9f3a"
             ],
             [
              0.8888888888888888,
              "#fdca26"
             ],
             [
              1,
              "#f0f921"
             ]
            ],
            "type": "heatmap"
           }
          ],
          "heatmapgl": [
           {
            "colorbar": {
             "outlinewidth": 0,
             "ticks": ""
            },
            "colorscale": [
             [
              0,
              "#0d0887"
             ],
             [
              0.1111111111111111,
              "#46039f"
             ],
             [
              0.2222222222222222,
              "#7201a8"
             ],
             [
              0.3333333333333333,
              "#9c179e"
             ],
             [
              0.4444444444444444,
              "#bd3786"
             ],
             [
              0.5555555555555556,
              "#d8576b"
             ],
             [
              0.6666666666666666,
              "#ed7953"
             ],
             [
              0.7777777777777778,
              "#fb9f3a"
             ],
             [
              0.8888888888888888,
              "#fdca26"
             ],
             [
              1,
              "#f0f921"
             ]
            ],
            "type": "heatmapgl"
           }
          ],
          "histogram": [
           {
            "marker": {
             "colorbar": {
              "outlinewidth": 0,
              "ticks": ""
             }
            },
            "type": "histogram"
           }
          ],
          "histogram2d": [
           {
            "colorbar": {
             "outlinewidth": 0,
             "ticks": ""
            },
            "colorscale": [
             [
              0,
              "#0d0887"
             ],
             [
              0.1111111111111111,
              "#46039f"
             ],
             [
              0.2222222222222222,
              "#7201a8"
             ],
             [
              0.3333333333333333,
              "#9c179e"
             ],
             [
              0.4444444444444444,
              "#bd3786"
             ],
             [
              0.5555555555555556,
              "#d8576b"
             ],
             [
              0.6666666666666666,
              "#ed7953"
             ],
             [
              0.7777777777777778,
              "#fb9f3a"
             ],
             [
              0.8888888888888888,
              "#fdca26"
             ],
             [
              1,
              "#f0f921"
             ]
            ],
            "type": "histogram2d"
           }
          ],
          "histogram2dcontour": [
           {
            "colorbar": {
             "outlinewidth": 0,
             "ticks": ""
            },
            "colorscale": [
             [
              0,
              "#0d0887"
             ],
             [
              0.1111111111111111,
              "#46039f"
             ],
             [
              0.2222222222222222,
              "#7201a8"
             ],
             [
              0.3333333333333333,
              "#9c179e"
             ],
             [
              0.4444444444444444,
              "#bd3786"
             ],
             [
              0.5555555555555556,
              "#d8576b"
             ],
             [
              0.6666666666666666,
              "#ed7953"
             ],
             [
              0.7777777777777778,
              "#fb9f3a"
             ],
             [
              0.8888888888888888,
              "#fdca26"
             ],
             [
              1,
              "#f0f921"
             ]
            ],
            "type": "histogram2dcontour"
           }
          ],
          "mesh3d": [
           {
            "colorbar": {
             "outlinewidth": 0,
             "ticks": ""
            },
            "type": "mesh3d"
           }
          ],
          "parcoords": [
           {
            "line": {
             "colorbar": {
              "outlinewidth": 0,
              "ticks": ""
             }
            },
            "type": "parcoords"
           }
          ],
          "scatter": [
           {
            "marker": {
             "colorbar": {
              "outlinewidth": 0,
              "ticks": ""
             }
            },
            "type": "scatter"
           }
          ],
          "scatter3d": [
           {
            "line": {
             "colorbar": {
              "outlinewidth": 0,
              "ticks": ""
             }
            },
            "marker": {
             "colorbar": {
              "outlinewidth": 0,
              "ticks": ""
             }
            },
            "type": "scatter3d"
           }
          ],
          "scattercarpet": [
           {
            "marker": {
             "colorbar": {
              "outlinewidth": 0,
              "ticks": ""
             }
            },
            "type": "scattercarpet"
           }
          ],
          "scattergeo": [
           {
            "marker": {
             "colorbar": {
              "outlinewidth": 0,
              "ticks": ""
             }
            },
            "type": "scattergeo"
           }
          ],
          "scattergl": [
           {
            "marker": {
             "colorbar": {
              "outlinewidth": 0,
              "ticks": ""
             }
            },
            "type": "scattergl"
           }
          ],
          "scattermapbox": [
           {
            "marker": {
             "colorbar": {
              "outlinewidth": 0,
              "ticks": ""
             }
            },
            "type": "scattermapbox"
           }
          ],
          "scatterpolar": [
           {
            "marker": {
             "colorbar": {
              "outlinewidth": 0,
              "ticks": ""
             }
            },
            "type": "scatterpolar"
           }
          ],
          "scatterpolargl": [
           {
            "marker": {
             "colorbar": {
              "outlinewidth": 0,
              "ticks": ""
             }
            },
            "type": "scatterpolargl"
           }
          ],
          "scatterternary": [
           {
            "marker": {
             "colorbar": {
              "outlinewidth": 0,
              "ticks": ""
             }
            },
            "type": "scatterternary"
           }
          ],
          "surface": [
           {
            "colorbar": {
             "outlinewidth": 0,
             "ticks": ""
            },
            "colorscale": [
             [
              0,
              "#0d0887"
             ],
             [
              0.1111111111111111,
              "#46039f"
             ],
             [
              0.2222222222222222,
              "#7201a8"
             ],
             [
              0.3333333333333333,
              "#9c179e"
             ],
             [
              0.4444444444444444,
              "#bd3786"
             ],
             [
              0.5555555555555556,
              "#d8576b"
             ],
             [
              0.6666666666666666,
              "#ed7953"
             ],
             [
              0.7777777777777778,
              "#fb9f3a"
             ],
             [
              0.8888888888888888,
              "#fdca26"
             ],
             [
              1,
              "#f0f921"
             ]
            ],
            "type": "surface"
           }
          ],
          "table": [
           {
            "cells": {
             "fill": {
              "color": "#EBF0F8"
             },
             "line": {
              "color": "white"
             }
            },
            "header": {
             "fill": {
              "color": "#C8D4E3"
             },
             "line": {
              "color": "white"
             }
            },
            "type": "table"
           }
          ]
         },
         "layout": {
          "annotationdefaults": {
           "arrowcolor": "#2a3f5f",
           "arrowhead": 0,
           "arrowwidth": 1
          },
          "colorscale": {
           "diverging": [
            [
             0,
             "#8e0152"
            ],
            [
             0.1,
             "#c51b7d"
            ],
            [
             0.2,
             "#de77ae"
            ],
            [
             0.3,
             "#f1b6da"
            ],
            [
             0.4,
             "#fde0ef"
            ],
            [
             0.5,
             "#f7f7f7"
            ],
            [
             0.6,
             "#e6f5d0"
            ],
            [
             0.7,
             "#b8e186"
            ],
            [
             0.8,
             "#7fbc41"
            ],
            [
             0.9,
             "#4d9221"
            ],
            [
             1,
             "#276419"
            ]
           ],
           "sequential": [
            [
             0,
             "#0d0887"
            ],
            [
             0.1111111111111111,
             "#46039f"
            ],
            [
             0.2222222222222222,
             "#7201a8"
            ],
            [
             0.3333333333333333,
             "#9c179e"
            ],
            [
             0.4444444444444444,
             "#bd3786"
            ],
            [
             0.5555555555555556,
             "#d8576b"
            ],
            [
             0.6666666666666666,
             "#ed7953"
            ],
            [
             0.7777777777777778,
             "#fb9f3a"
            ],
            [
             0.8888888888888888,
             "#fdca26"
            ],
            [
             1,
             "#f0f921"
            ]
           ],
           "sequentialminus": [
            [
             0,
             "#0d0887"
            ],
            [
             0.1111111111111111,
             "#46039f"
            ],
            [
             0.2222222222222222,
             "#7201a8"
            ],
            [
             0.3333333333333333,
             "#9c179e"
            ],
            [
             0.4444444444444444,
             "#bd3786"
            ],
            [
             0.5555555555555556,
             "#d8576b"
            ],
            [
             0.6666666666666666,
             "#ed7953"
            ],
            [
             0.7777777777777778,
             "#fb9f3a"
            ],
            [
             0.8888888888888888,
             "#fdca26"
            ],
            [
             1,
             "#f0f921"
            ]
           ]
          },
          "colorway": [
           "#636efa",
           "#EF553B",
           "#00cc96",
           "#ab63fa",
           "#FFA15A",
           "#19d3f3",
           "#FF6692",
           "#B6E880",
           "#FF97FF",
           "#FECB52"
          ],
          "font": {
           "color": "#2a3f5f"
          },
          "geo": {
           "bgcolor": "white",
           "lakecolor": "white",
           "landcolor": "#E5ECF6",
           "showlakes": true,
           "showland": true,
           "subunitcolor": "white"
          },
          "hoverlabel": {
           "align": "left"
          },
          "hovermode": "closest",
          "mapbox": {
           "style": "light"
          },
          "paper_bgcolor": "white",
          "plot_bgcolor": "#E5ECF6",
          "polar": {
           "angularaxis": {
            "gridcolor": "white",
            "linecolor": "white",
            "ticks": ""
           },
           "bgcolor": "#E5ECF6",
           "radialaxis": {
            "gridcolor": "white",
            "linecolor": "white",
            "ticks": ""
           }
          },
          "scene": {
           "xaxis": {
            "backgroundcolor": "#E5ECF6",
            "gridcolor": "white",
            "gridwidth": 2,
            "linecolor": "white",
            "showbackground": true,
            "ticks": "",
            "zerolinecolor": "white"
           },
           "yaxis": {
            "backgroundcolor": "#E5ECF6",
            "gridcolor": "white",
            "gridwidth": 2,
            "linecolor": "white",
            "showbackground": true,
            "ticks": "",
            "zerolinecolor": "white"
           },
           "zaxis": {
            "backgroundcolor": "#E5ECF6",
            "gridcolor": "white",
            "gridwidth": 2,
            "linecolor": "white",
            "showbackground": true,
            "ticks": "",
            "zerolinecolor": "white"
           }
          },
          "shapedefaults": {
           "line": {
            "color": "#2a3f5f"
           }
          },
          "ternary": {
           "aaxis": {
            "gridcolor": "white",
            "linecolor": "white",
            "ticks": ""
           },
           "baxis": {
            "gridcolor": "white",
            "linecolor": "white",
            "ticks": ""
           },
           "bgcolor": "#E5ECF6",
           "caxis": {
            "gridcolor": "white",
            "linecolor": "white",
            "ticks": ""
           }
          },
          "title": {
           "x": 0.05
          },
          "xaxis": {
           "automargin": true,
           "gridcolor": "white",
           "linecolor": "white",
           "ticks": "",
           "zerolinecolor": "white",
           "zerolinewidth": 2
          },
          "yaxis": {
           "automargin": true,
           "gridcolor": "white",
           "linecolor": "white",
           "ticks": "",
           "zerolinecolor": "white",
           "zerolinewidth": 2
          }
         }
        },
        "title": {
         "text": "The Precision of Direct Trust Analysis with Different Alpha"
        },
        "xaxis": {
         "autorange": true,
         "range": [
          -0.07914055505819156,
          3.179140555058192
         ],
         "type": "linear"
        },
        "yaxis": {
         "autorange": true,
         "range": [
          0.04945859872611466,
          0.8405414012738852
         ],
         "type": "linear"
        }
       }
      },
      "image/png": "[encoded data removed]",
      "text/html": [
       "<div>\n",
       "        \n",
       "        \n",
       "            <div id=\"0262dbd8-35b7-41e1-b437-f171346e53a6\" class=\"plotly-graph-div\" style=\"height:525px; width:100%;\"></div>\n",
       "            <script type=\"text/javascript\">\n",
       "                require([\"plotly\"], function(Plotly) {\n",
       "                    window.PLOTLYENV=window.PLOTLYENV || {};\n",
       "                    \n",
       "                if (document.getElementById(\"0262dbd8-35b7-41e1-b437-f171346e53a6\")) {\n",
       "                    Plotly.newPlot(\n",
       "                        '0262dbd8-35b7-41e1-b437-f171346e53a6',\n",
       "                        [{\"marker\": {\"symbol\": 1}, \"mode\": \"lines+markers\", \"type\": \"scatter\", \"x\": [0.1, 0.2, 0.30000000000000004, 0.4, 0.5, 0.6, 0.7000000000000001, 0.8, 0.9, 1.0, 1.1, 1.2000000000000002, 1.3000000000000003, 1.4000000000000001, 1.5000000000000002, 1.6, 1.7000000000000002, 1.8000000000000003, 1.9000000000000001, 2.0, 2.1, 2.2, 2.3000000000000003, 2.4000000000000004, 2.5000000000000004, 2.6, 2.7, 2.8000000000000003, 2.9000000000000004, 3.0000000000000004], \"y\": [0.1, 0.1, 0.10000393868759586, 0.3394360508494788, 0.41122920758225423, 0.43994647027536427, 0.47807111212656217, 0.47807111212656217, 0.49406746535084123, 0.501549630568649, 0.5404568897012499, 0.5404568897012499, 0.6912225188400781, 0.7342984128797433, 0.7342984128797433, 0.7414777285530207, 0.7899999999999999, 0.7414777285530207, 0.7260145871028846, 0.6744707822690971, 0.5404568897012499, 0.5189189426814173, 0.501549630568649, 0.47807111212656217, 0.47807111212656217, 0.45111429465601827, 0.4198443863901872, 0.41122920758225423, 0.41122920758225423, 0.41122920758225423]}],\n",
       "                        {\"template\": {\"data\": {\"bar\": [{\"error_x\": {\"color\": \"#2a3f5f\"}, \"error_y\": {\"color\": \"#2a3f5f\"}, \"marker\": {\"line\": {\"color\": \"#E5ECF6\", \"width\": 0.5}}, \"type\": \"bar\"}], \"barpolar\": [{\"marker\": {\"line\": {\"color\": \"#E5ECF6\", \"width\": 0.5}}, \"type\": \"barpolar\"}], \"carpet\": [{\"aaxis\": {\"endlinecolor\": \"#2a3f5f\", \"gridcolor\": \"white\", \"linecolor\": \"white\", \"minorgridcolor\": \"white\", \"startlinecolor\": \"#2a3f5f\"}, \"baxis\": {\"endlinecolor\": \"#2a3f5f\", \"gridcolor\": \"white\", \"linecolor\": \"white\", \"minorgridcolor\": \"white\", \"startlinecolor\": \"#2a3f5f\"}, \"type\": \"carpet\"}], \"choropleth\": [{\"colorbar\": {\"outlinewidth\": 0, \"ticks\": \"\"}, \"type\": \"choropleth\"}], \"contour\": [{\"colorbar\": {\"outlinewidth\": 0, \"ticks\": \"\"}, \"colorscale\": [[0.0, \"#0d0887\"], [0.1111111111111111, \"#46039f\"], [0.2222222222222222, \"#7201a8\"], [0.3333333333333333, \"#9c179e\"], [0.4444444444444444, \"#bd3786\"], [0.5555555555555556, \"#d8576b\"], [0.6666666666666666, \"#ed7953\"], [0.7777777777777778, \"#fb9f3a\"], [0.8888888888888888, \"#fdca26\"], [1.0, \"#f0f921\"]], \"type\": \"contour\"}], \"contourcarpet\": [{\"colorbar\": {\"outlinewidth\": 0, \"ticks\": \"\"}, \"type\": \"contourcarpet\"}], \"heatmap\": [{\"colorbar\": {\"outlinewidth\": 0, \"ticks\": \"\"}, \"colorscale\": [[0.0, \"#0d0887\"], [0.1111111111111111, \"#46039f\"], [0.2222222222222222, \"#7201a8\"], [0.3333333333333333, \"#9c179e\"], [0.4444444444444444, \"#bd3786\"], [0.5555555555555556, \"#d8576b\"], [0.6666666666666666, \"#ed7953\"], [0.7777777777777778, \"#fb9f3a\"], [0.8888888888888888, \"#fdca26\"], [1.0, \"#f0f921\"]], \"type\": \"heatmap\"}], \"heatmapgl\": [{\"colorbar\": {\"outlinewidth\": 0, \"ticks\": \"\"}, \"colorscale\": [[0.0, \"#0d0887\"], [0.1111111111111111, \"#46039f\"], [0.2222222222222222, \"#7201a8\"], [0.3333333333333333, \"#9c179e\"], [0.4444444444444444, \"#bd3786\"], [0.5555555555555556, \"#d8576b\"], [0.6666666666666666, \"#ed7953\"], [0.7777777777777778, \"#fb9f3a\"], [0.8888888888888888, \"#fdca26\"], [1.0, \"#f0f921\"]], \"type\": \"heatmapgl\"}], \"histogram\": [{\"marker\": {\"colorbar\": {\"outlinewidth\": 0, \"ticks\": \"\"}}, \"type\": \"histogram\"}], \"histogram2d\": [{\"colorbar\": {\"outlinewidth\": 0, \"ticks\": \"\"}, \"colorscale\": [[0.0, \"#0d0887\"], [0.1111111111111111, \"#46039f\"], [0.2222222222222222, \"#7201a8\"], [0.3333333333333333, \"#9c179e\"], [0.4444444444444444, \"#bd3786\"], [0.5555555555555556, \"#d8576b\"], [0.6666666666666666, \"#ed7953\"], [0.7777777777777778, \"#fb9f3a\"], [0.8888888888888888, \"#fdca26\"], [1.0, \"#f0f921\"]], \"type\": \"histogram2d\"}], \"histogram2dcontour\": [{\"colorbar\": {\"outlinewidth\": 0, \"ticks\": \"\"}, \"colorscale\": [[0.0, \"#0d0887\"], [0.1111111111111111, \"#46039f\"], [0.2222222222222222, \"#7201a8\"], [0.3333333333333333, \"#9c179e\"], [0.4444444444444444, \"#bd3786\"], [0.5555555555555556, \"#d8576b\"], [0.6666666666666666, \"#ed7953\"], [0.7777777777777778, \"#fb9f3a\"], [0.8888888888888888, \"#fdca26\"], [1.0, \"#f0f921\"]], \"type\": \"histogram2dcontour\"}], \"mesh3d\": [{\"colorbar\": {\"outlinewidth\": 0, \"ticks\": \"\"}, \"type\": \"mesh3d\"}], \"parcoords\": [{\"line\": {\"colorbar\": {\"outlinewidth\": 0, \"ticks\": \"\"}}, \"type\": \"parcoords\"}], \"scatter\": [{\"marker\": {\"colorbar\": {\"outlinewidth\": 0, \"ticks\": \"\"}}, \"type\": \"scatter\"}], \"scatter3d\": [{\"line\": {\"colorbar\": {\"outlinewidth\": 0, \"ticks\": \"\"}}, \"marker\": {\"colorbar\": {\"outlinewidth\": 0, \"ticks\": \"\"}}, \"type\": \"scatter3d\"}], \"scattercarpet\": [{\"marker\": {\"colorbar\": {\"outlinewidth\": 0, \"ticks\": \"\"}}, \"type\": \"scattercarpet\"}], \"scattergeo\": [{\"marker\": {\"colorbar\": {\"outlinewidth\": 0, \"ticks\": \"\"}}, \"type\": \"scattergeo\"}], \"scattergl\": [{\"marker\": {\"colorbar\": {\"outlinewidth\": 0, \"ticks\": \"\"}}, \"type\": \"scattergl\"}], \"scattermapbox\": [{\"marker\": {\"colorbar\": {\"outlinewidth\": 0, \"ticks\": \"\"}}, \"type\": \"scattermapbox\"}], \"scatterpolar\": [{\"marker\": {\"colorbar\": {\"outlinewidth\": 0, \"ticks\": \"\"}}, \"type\": \"scatterpolar\"}], \"scatterpolargl\": [{\"marker\": {\"colorbar\": {\"outlinewidth\": 0, \"ticks\": \"\"}}, \"type\": \"scatterpolargl\"}], \"scatterternary\": [{\"marker\": {\"colorbar\": {\"outlinewidth\": 0, \"ticks\": \"\"}}, \"type\": \"scatterternary\"}], \"surface\": [{\"colorbar\": {\"outlinewidth\": 0, \"ticks\": \"\"}, \"colorscale\": [[0.0, \"#0d0887\"], [0.1111111111111111, \"#46039f\"], [0.2222222222222222, \"#7201a8\"], [0.3333333333333333, \"#9c179e\"], [0.4444444444444444, \"#bd3786\"], [0.5555555555555556, \"#d8576b\"], [0.6666666666666666, \"#ed7953\"], [0.7777777777777778, \"#fb9f3a\"], [0.8888888888888888, \"#fdca26\"], [1.0, \"#f0f921\"]], \"type\": \"surface\"}], \"table\": [{\"cells\": {\"fill\": {\"color\": \"#EBF0F8\"}, \"line\": {\"color\": \"white\"}}, \"header\": {\"fill\": {\"color\": \"#C8D4E3\"}, \"line\": {\"color\": \"white\"}}, \"type\": \"table\"}]}, \"layout\": {\"annotationdefaults\": {\"arrowcolor\": \"#2a3f5f\", \"arrowhead\": 0, \"arrowwidth\": 1}, \"colorscale\": {\"diverging\": [[0, \"#8e0152\"], [0.1, \"#c51b7d\"], [0.2, \"#de77ae\"], [0.3, \"#f1b6da\"], [0.4, \"#fde0ef\"], [0.5, \"#f7f7f7\"], [0.6, \"#e6f5d0\"], [0.7, \"#b8e186\"], [0.8, \"#7fbc41\"], [0.9, \"#4d9221\"], [1, \"#276419\"]], \"sequential\": [[0.0, \"#0d0887\"], [0.1111111111111111, \"#46039f\"], [0.2222222222222222, \"#7201a8\"], [0.3333333333333333, \"#9c179e\"], [0.4444444444444444, \"#bd3786\"], [0.5555555555555556, \"#d8576b\"], [0.6666666666666666, \"#ed7953\"], [0.7777777777777778, \"#fb9f3a\"], [0.8888888888888888, \"#fdca26\"], [1.0, \"#f0f921\"]], \"sequentialminus\": [[0.0, \"#0d0887\"], [0.1111111111111111, \"#46039f\"], [0.2222222222222222, \"#7201a8\"], [0.3333333333333333, \"#9c179e\"], [0.4444444444444444, \"#bd3786\"], [0.5555555555555556, \"#d8576b\"], [0.6666666666666666, \"#ed7953\"], [0.7777777777777778, \"#fb9f3a\"], [0.8888888888888888, \"#fdca26\"], [1.0, \"#f0f921\"]]}, \"colorway\": [\"#636efa\", \"#EF553B\", \"#00cc96\", \"#ab63fa\", \"#FFA15A\", \"#19d3f3\", \"#FF6692\", \"#B6E880\", \"#FF97FF\", \"#FECB52\"], \"font\": {\"color\": \"#2a3f5f\"}, \"geo\": {\"bgcolor\": \"white\", \"lakecolor\": \"white\", \"landcolor\": \"#E5ECF6\", \"showlakes\": true, \"showland\": true, \"subunitcolor\": \"white\"}, \"hoverlabel\": {\"align\": \"left\"}, \"hovermode\": \"closest\", \"mapbox\": {\"style\": \"light\"}, \"paper_bgcolor\": \"white\", \"plot_bgcolor\": \"#E5ECF6\", \"polar\": {\"angularaxis\": {\"gridcolor\": \"white\", \"linecolor\": \"white\", \"ticks\": \"\"}, \"bgcolor\": \"#E5ECF6\", \"radialaxis\": {\"gridcolor\": \"white\", \"linecolor\": \"white\", \"ticks\": \"\"}}, \"scene\": {\"xaxis\": {\"backgroundcolor\": \"#E5ECF6\", \"gridcolor\": \"white\", \"gridwidth\": 2, \"linecolor\": \"white\", \"showbackground\": true, \"ticks\": \"\", \"zerolinecolor\": \"white\"}, \"yaxis\": {\"backgroundcolor\": \"#E5ECF6\", \"gridcolor\": \"white\", \"gridwidth\": 2, \"linecolor\": \"white\", \"showbackground\": true, \"ticks\": \"\", \"zerolinecolor\": \"white\"}, \"zaxis\": {\"backgroundcolor\": \"#E5ECF6\", \"gridcolor\": \"white\", \"gridwidth\": 2, \"linecolor\": \"white\", \"showbackground\": true, \"ticks\": \"\", \"zerolinecolor\": \"white\"}}, \"shapedefaults\": {\"line\": {\"color\": \"#2a3f5f\"}}, \"ternary\": {\"aaxis\": {\"gridcolor\": \"white\", \"linecolor\": \"white\", \"ticks\": \"\"}, \"baxis\": {\"gridcolor\": \"white\", \"linecolor\": \"white\", \"ticks\": \"\"}, \"bgcolor\": \"#E5ECF6\", \"caxis\": {\"gridcolor\": \"white\", \"linecolor\": \"white\", \"ticks\": \"\"}}, \"title\": {\"x\": 0.05}, \"xaxis\": {\"automargin\": true, \"gridcolor\": \"white\", \"linecolor\": \"white\", \"ticks\": \"\", \"zerolinecolor\": \"white\", \"zerolinewidth\": 2}, \"yaxis\": {\"automargin\": true, \"gridcolor\": \"white\", \"linecolor\": \"white\", \"ticks\": \"\", \"zerolinecolor\": \"white\", \"zerolinewidth\": 2}}}, \"title\": {\"text\": \"The Precision of Direct Trust Analysis with Different Alpha\"}},\n",
       "                        {\"responsive\": true}\n",
       "                    ).then(function(){\n",
       "                            \n",
       "var gd = document.getElementById('0262dbd8-35b7-41e1-b437-f171346e53a6');\n",
       "var x = new MutationObserver(function (mutations, observer) {{\n",
       "        var display = window.getComputedStyle(gd).display;\n",
       "        if (!display || display === 'none') {{\n",
       "            console.log([gd, 'removed!']);\n",
       "            Plotly.purge(gd);\n",
       "            observer.disconnect();\n",
       "        }}\n",
       "}});\n",
       "\n",
       "// Listen for the removal of the full notebook cells\n",
       "var notebookContainer = gd.closest('#notebook-container');\n",
       "if (notebookContainer) {{\n",
       "    x.observe(notebookContainer, {childList: true});\n",
       "}}\n",
       "\n",
       "// Listen for the clearing of the current output cell\n",
       "var outputEl = gd.closest('.output');\n",
       "if (outputEl) {{\n",
       "    x.observe(outputEl, {childList: true});\n",
       "}}\n",
       "\n",
       "                        })\n",
       "                };\n",
       "                });\n",
       "            </script>\n",
       "        </div>"
      ]
     },
     "metadata": {},
     "output_type": "display_data"
    },
    {
     "data": {
      "application/vnd.plotly.v1+json": {
       "config": {
        "linkText": "Export to plot.ly",
        "plotlyServerURL": "https://plot.ly",
        "showLink": false
       },
       "data": [
        {
         "marker": {
          "symbol": 101
         },
         "mode": "lines+markers",
         "type": "scatter",
         "x": [
          0.1,
          0.2,
          0.30000000000000004,
          0.4,
          0.5,
          0.6,
          0.7000000000000001,
          0.8,
          0.9,
          1,
          1.1,
          1.2000000000000002,
          1.3000000000000003,
          1.4000000000000001,
          1.5000000000000002,
          1.6,
          1.7000000000000002,
          1.8000000000000003,
          1.9000000000000001,
          2,
          2.1,
          2.2,
          2.3000000000000003,
          2.4000000000000004,
          2.5000000000000004,
          2.6,
          2.7,
          2.8000000000000003,
          2.9000000000000004,
          3.0000000000000004
         ],
         "y": [
          0.10360293419789597,
          0.11488096054720712,
          0.1252824333074986,
          0.136350990021732,
          0.14796416988685845,
          0.17073974743072629,
          0.18483761802008358,
          0.24708376951152256,
          0.27598819265456054,
          0.28504564331973015,
          0.29333263539231735,
          0.3052963424402647,
          0.33049493811086084,
          0.3471284212812154,
          0.7037511311084937,
          0.7385507219708196,
          0.7487195419653564,
          0.35279675589574533,
          0.3421932793038571,
          0.31159580578241014,
          0.29739233576239643,
          0.2891191191216561,
          0.2831042149684164,
          0.2310713846377187,
          0.227181741894262,
          0.18287741829615445,
          0.153072138936434,
          0.13797335201220245,
          0.13467369782572433,
          0.1224102493212001
         ]
        }
       ],
       "layout": {
        "autosize": true,
        "template": {
         "data": {
          "bar": [
           {
            "error_x": {
             "color": "#2a3f5f"
            },
            "error_y": {
             "color": "#2a3f5f"
            },
            "marker": {
             "line": {
              "color": "#E5ECF6",
              "width": 0.5
             }
            },
            "type": "bar"
           }
          ],
          "barpolar": [
           {
            "marker": {
             "line": {
              "color": "#E5ECF6",
              "width": 0.5
             }
            },
            "type": "barpolar"
           }
          ],
          "carpet": [
           {
            "aaxis": {
             "endlinecolor": "#2a3f5f",
             "gridcolor": "white",
             "linecolor": "white",
             "minorgridcolor": "white",
             "startlinecolor": "#2a3f5f"
            },
            "baxis": {
             "endlinecolor": "#2a3f5f",
             "gridcolor": "white",
             "linecolor": "white",
             "minorgridcolor": "white",
             "startlinecolor": "#2a3f5f"
            },
            "type": "carpet"
           }
          ],
          "choropleth": [
           {
            "colorbar": {
             "outlinewidth": 0,
             "ticks": ""
            },
            "type": "choropleth"
           }
          ],
          "contour": [
           {
            "colorbar": {
             "outlinewidth": 0,
             "ticks": ""
            },
            "colorscale": [
             [
              0,
              "#0d0887"
             ],
             [
              0.1111111111111111,
              "#46039f"
             ],
             [
              0.2222222222222222,
              "#7201a8"
             ],
             [
              0.3333333333333333,
              "#9c179e"
             ],
             [
              0.4444444444444444,
              "#bd3786"
             ],
             [
              0.5555555555555556,
              "#d8576b"
             ],
             [
              0.6666666666666666,
              "#ed7953"
             ],
             [
              0.7777777777777778,
              "#fb9f3a"
             ],
             [
              0.8888888888888888,
              "#fdca26"
             ],
             [
              1,
              "#f0f921"
             ]
            ],
            "type": "contour"
           }
          ],
          "contourcarpet": [
           {
            "colorbar": {
             "outlinewidth": 0,
             "ticks": ""
            },
            "type": "contourcarpet"
           }
          ],
          "heatmap": [
           {
            "colorbar": {
             "outlinewidth": 0,
             "ticks": ""
            },
            "colorscale": [
             [
              0,
              "#0d0887"
             ],
             [
              0.1111111111111111,
              "#46039f"
             ],
             [
              0.2222222222222222,
              "#7201a8"
             ],
             [
              0.3333333333333333,
              "#9c179e"
             ],
             [
              0.4444444444444444,
              "#bd3786"
             ],
             [
              0.5555555555555556,
              "#d8576b"
             ],
             [
              0.6666666666666666,
              "#ed7953"
             ],
             [
              0.7777777777777778,
              "#fb9f3a"
             ],
             [
              0.8888888888888888,
              "#fdca26"
             ],
             [
              1,
              "#f0f921"
             ]
            ],
            "type": "heatmap"
           }
          ],
          "heatmapgl": [
           {
            "colorbar": {
             "outlinewidth": 0,
             "ticks": ""
            },
            "colorscale": [
             [
              0,
              "#0d0887"
             ],
             [
              0.1111111111111111,
              "#46039f"
             ],
             [
              0.2222222222222222,
              "#7201a8"
             ],
             [
              0.3333333333333333,
              "#9c179e"
             ],
             [
              0.4444444444444444,
              "#bd3786"
             ],
             [
              0.5555555555555556,
              "#d8576b"
             ],
             [
              0.6666666666666666,
              "#ed7953"
             ],
             [
              0.7777777777777778,
              "#fb9f3a"
             ],
             [
              0.8888888888888888,
              "#fdca26"
             ],
             [
              1,
              "#f0f921"
             ]
            ],
            "type": "heatmapgl"
           }
          ],
          "histogram": [
           {
            "marker": {
             "colorbar": {
              "outlinewidth": 0,
              "ticks": ""
             }
            },
            "type": "histogram"
           }
          ],
          "histogram2d": [
           {
            "colorbar": {
             "outlinewidth": 0,
             "ticks": ""
            },
            "colorscale": [
             [
              0,
              "#0d0887"
             ],
             [
              0.1111111111111111,
              "#46039f"
             ],
             [
              0.2222222222222222,
              "#7201a8"
             ],
             [
              0.3333333333333333,
              "#9c179e"
             ],
             [
              0.4444444444444444,
              "#bd3786"
             ],
             [
              0.5555555555555556,
              "#d8576b"
             ],
             [
              0.6666666666666666,
              "#ed7953"
             ],
             [
              0.7777777777777778,
              "#fb9f3a"
             ],
             [
              0.8888888888888888,
              "#fdca26"
             ],
             [
              1,
              "#f0f921"
             ]
            ],
            "type": "histogram2d"
           }
          ],
          "histogram2dcontour": [
           {
            "colorbar": {
             "outlinewidth": 0,
             "ticks": ""
            },
            "colorscale": [
             [
              0,
              "#0d0887"
             ],
             [
              0.1111111111111111,
              "#46039f"
             ],
             [
              0.2222222222222222,
              "#7201a8"
             ],
             [
              0.3333333333333333,
              "#9c179e"
             ],
             [
              0.4444444444444444,
              "#bd3786"
             ],
             [
              0.5555555555555556,
              "#d8576b"
             ],
             [
              0.6666666666666666,
              "#ed7953"
             ],
             [
              0.7777777777777778,
              "#fb9f3a"
             ],
             [
              0.8888888888888888,
              "#fdca26"
             ],
             [
              1,
              "#f0f921"
             ]
            ],
            "type": "histogram2dcontour"
           }
          ],
          "mesh3d": [
           {
            "colorbar": {
             "outlinewidth": 0,
             "ticks": ""
            },
            "type": "mesh3d"
           }
          ],
          "parcoords": [
           {
            "line": {
             "colorbar": {
              "outlinewidth": 0,
              "ticks": ""
             }
            },
            "type": "parcoords"
           }
          ],
          "scatter": [
           {
            "marker": {
             "colorbar": {
              "outlinewidth": 0,
              "ticks": ""
             }
            },
            "type": "scatter"
           }
          ],
          "scatter3d": [
           {
            "line": {
             "colorbar": {
              "outlinewidth": 0,
              "ticks": ""
             }
            },
            "marker": {
             "colorbar": {
              "outlinewidth": 0,
              "ticks": ""
             }
            },
            "type": "scatter3d"
           }
          ],
          "scattercarpet": [
           {
            "marker": {
             "colorbar": {
              "outlinewidth": 0,
              "ticks": ""
             }
            },
            "type": "scattercarpet"
           }
          ],
          "scattergeo": [
           {
            "marker": {
             "colorbar": {
              "outlinewidth": 0,
              "ticks": ""
             }
            },
            "type": "scattergeo"
           }
          ],
          "scattergl": [
           {
            "marker": {
             "colorbar": {
              "outlinewidth": 0,
              "ticks": ""
             }
            },
            "type": "scattergl"
           }
          ],
          "scattermapbox": [
           {
            "marker": {
             "colorbar": {
              "outlinewidth": 0,
              "ticks": ""
             }
            },
            "type": "scattermapbox"
           }
          ],
          "scatterpolar": [
           {
            "marker": {
             "colorbar": {
              "outlinewidth": 0,
              "ticks": ""
             }
            },
            "type": "scatterpolar"
           }
          ],
          "scatterpolargl": [
           {
            "marker": {
             "colorbar": {
              "outlinewidth": 0,
              "ticks": ""
             }
            },
            "type": "scatterpolargl"
           }
          ],
          "scatterternary": [
           {
            "marker": {
             "colorbar": {
              "outlinewidth": 0,
              "ticks": ""
             }
            },
            "type": "scatterternary"
           }
          ],
          "surface": [
           {
            "colorbar": {
             "outlinewidth": 0,
             "ticks": ""
            },
            "colorscale": [
             [
              0,
              "#0d0887"
             ],
             [
              0.1111111111111111,
              "#46039f"
             ],
             [
              0.2222222222222222,
              "#7201a8"
             ],
             [
              0.3333333333333333,
              "#9c179e"
             ],
             [
              0.4444444444444444,
              "#bd3786"
             ],
             [
              0.5555555555555556,
              "#d8576b"
             ],
             [
              0.6666666666666666,
              "#ed7953"
             ],
             [
              0.7777777777777778,
              "#fb9f3a"
             ],
             [
              0.8888888888888888,
              "#fdca26"
             ],
             [
              1,
              "#f0f921"
             ]
            ],
            "type": "surface"
           }
          ],
          "table": [
           {
            "cells": {
             "fill": {
              "color": "#EBF0F8"
             },
             "line": {
              "color": "white"
             }
            },
            "header": {
             "fill": {
              "color": "#C8D4E3"
             },
             "line": {
              "color": "white"
             }
            },
            "type": "table"
           }
          ]
         },
         "layout": {
          "annotationdefaults": {
           "arrowcolor": "#2a3f5f",
           "arrowhead": 0,
           "arrowwidth": 1
          },
          "colorscale": {
           "diverging": [
            [
             0,
             "#8e0152"
            ],
            [
             0.1,
             "#c51b7d"
            ],
            [
             0.2,
             "#de77ae"
            ],
            [
             0.3,
             "#f1b6da"
            ],
            [
             0.4,
             "#fde0ef"
            ],
            [
             0.5,
             "#f7f7f7"
            ],
            [
             0.6,
             "#e6f5d0"
            ],
            [
             0.7,
             "#b8e186"
            ],
            [
             0.8,
             "#7fbc41"
            ],
            [
             0.9,
             "#4d9221"
            ],
            [
             1,
             "#276419"
            ]
           ],
           "sequential": [
            [
             0,
             "#0d0887"
            ],
            [
             0.1111111111111111,
             "#46039f"
            ],
            [
             0.2222222222222222,
             "#7201a8"
            ],
            [
             0.3333333333333333,
             "#9c179e"
            ],
            [
             0.4444444444444444,
             "#bd3786"
            ],
            [
             0.5555555555555556,
             "#d8576b"
            ],
            [
             0.6666666666666666,
             "#ed7953"
            ],
            [
             0.7777777777777778,
             "#fb9f3a"
            ],
            [
             0.8888888888888888,
             "#fdca26"
            ],
            [
             1,
             "#f0f921"
            ]
           ],
           "sequentialminus": [
            [
             0,
             "#0d0887"
            ],
            [
             0.1111111111111111,
             "#46039f"
            ],
            [
             0.2222222222222222,
             "#7201a8"
            ],
            [
             0.3333333333333333,
             "#9c179e"
            ],
            [
             0.4444444444444444,
             "#bd3786"
            ],
            [
             0.5555555555555556,
             "#d8576b"
            ],
            [
             0.6666666666666666,
             "#ed7953"
            ],
            [
             0.7777777777777778,
             "#fb9f3a"
            ],
            [
             0.8888888888888888,
             "#fdca26"
            ],
            [
             1,
             "#f0f921"
            ]
           ]
          },
          "colorway": [
           "#636efa",
           "#EF553B",
           "#00cc96",
           "#ab63fa",
           "#FFA15A",
           "#19d3f3",
           "#FF6692",
           "#B6E880",
           "#FF97FF",
           "#FECB52"
          ],
          "font": {
           "color": "#2a3f5f"
          },
          "geo": {
           "bgcolor": "white",
           "lakecolor": "white",
           "landcolor": "#E5ECF6",
           "showlakes": true,
           "showland": true,
           "subunitcolor": "white"
          },
          "hoverlabel": {
           "align": "left"
          },
          "hovermode": "closest",
          "mapbox": {
           "style": "light"
          },
          "paper_bgcolor": "white",
          "plot_bgcolor": "#E5ECF6",
          "polar": {
           "angularaxis": {
            "gridcolor": "white",
            "linecolor": "white",
            "ticks": ""
           },
           "bgcolor": "#E5ECF6",
           "radialaxis": {
            "gridcolor": "white",
            "linecolor": "white",
            "ticks": ""
           }
          },
          "scene": {
           "xaxis": {
            "backgroundcolor": "#E5ECF6",
            "gridcolor": "white",
            "gridwidth": 2,
            "linecolor": "white",
            "showbackground": true,
            "ticks": "",
            "zerolinecolor": "white"
           },
           "yaxis": {
            "backgroundcolor": "#E5ECF6",
            "gridcolor": "white",
            "gridwidth": 2,
            "linecolor": "white",
            "showbackground": true,
            "ticks": "",
            "zerolinecolor": "white"
           },
           "zaxis": {
            "backgroundcolor": "#E5ECF6",
            "gridcolor": "white",
            "gridwidth": 2,
            "linecolor": "white",
            "showbackground": true,
            "ticks": "",
            "zerolinecolor": "white"
           }
          },
          "shapedefaults": {
           "line": {
            "color": "#2a3f5f"
           }
          },
          "ternary": {
           "aaxis": {
            "gridcolor": "white",
            "linecolor": "white",
            "ticks": ""
           },
           "baxis": {
            "gridcolor": "white",
            "linecolor": "white",
            "ticks": ""
           },
           "bgcolor": "#E5ECF6",
           "caxis": {
            "gridcolor": "white",
            "linecolor": "white",
            "ticks": ""
           }
          },
          "title": {
           "x": 0.05
          },
          "xaxis": {
           "automargin": true,
           "gridcolor": "white",
           "linecolor": "white",
           "ticks": "",
           "zerolinecolor": "white",
           "zerolinewidth": 2
          },
          "yaxis": {
           "automargin": true,
           "gridcolor": "white",
           "linecolor": "white",
           "ticks": "",
           "zerolinecolor": "white",
           "zerolinewidth": 2
          }
         }
        },
        "title": {
         "text": "The Recall of Direct Trust Analysis with Different Alpha"
        },
        "xaxis": {
         "autorange": true,
         "range": [
          -0.07914055505819156,
          3.179140555058192
         ],
         "type": "linear"
        },
        "yaxis": {
         "autorange": true,
         "range": [
          0.056349169934674356,
          0.795973306228578
         ],
         "type": "linear"
        }
       }
      },
      "image/png": "[encoded data removed]",
      "text/html": [
       "<div>\n",
       "        \n",
       "        \n",
       "            <div id=\"9f804369-e7dd-44b0-8daf-3536efdab09c\" class=\"plotly-graph-div\" style=\"height:525px; width:100%;\"></div>\n",
       "            <script type=\"text/javascript\">\n",
       "                require([\"plotly\"], function(Plotly) {\n",
       "                    window.PLOTLYENV=window.PLOTLYENV || {};\n",
       "                    \n",
       "                if (document.getElementById(\"9f804369-e7dd-44b0-8daf-3536efdab09c\")) {\n",
       "                    Plotly.newPlot(\n",
       "                        '9f804369-e7dd-44b0-8daf-3536efdab09c',\n",
       "                        [{\"marker\": {\"symbol\": 101}, \"mode\": \"lines+markers\", \"type\": \"scatter\", \"x\": [0.1, 0.2, 0.30000000000000004, 0.4, 0.5, 0.6, 0.7000000000000001, 0.8, 0.9, 1.0, 1.1, 1.2000000000000002, 1.3000000000000003, 1.4000000000000001, 1.5000000000000002, 1.6, 1.7000000000000002, 1.8000000000000003, 1.9000000000000001, 2.0, 2.1, 2.2, 2.3000000000000003, 2.4000000000000004, 2.5000000000000004, 2.6, 2.7, 2.8000000000000003, 2.9000000000000004, 3.0000000000000004], \"y\": [0.10360293419789597, 0.11488096054720712, 0.1252824333074986, 0.136350990021732, 0.14796416988685845, 0.17073974743072629, 0.18483761802008358, 0.24708376951152256, 0.27598819265456054, 0.28504564331973015, 0.29333263539231735, 0.3052963424402647, 0.33049493811086084, 0.3471284212812154, 0.7037511311084937, 0.7385507219708196, 0.7487195419653564, 0.35279675589574533, 0.3421932793038571, 0.31159580578241014, 0.29739233576239643, 0.2891191191216561, 0.2831042149684164, 0.2310713846377187, 0.227181741894262, 0.18287741829615445, 0.153072138936434, 0.13797335201220245, 0.13467369782572433, 0.1224102493212001]}],\n",
       "                        {\"template\": {\"data\": {\"bar\": [{\"error_x\": {\"color\": \"#2a3f5f\"}, \"error_y\": {\"color\": \"#2a3f5f\"}, \"marker\": {\"line\": {\"color\": \"#E5ECF6\", \"width\": 0.5}}, \"type\": \"bar\"}], \"barpolar\": [{\"marker\": {\"line\": {\"color\": \"#E5ECF6\", \"width\": 0.5}}, \"type\": \"barpolar\"}], \"carpet\": [{\"aaxis\": {\"endlinecolor\": \"#2a3f5f\", \"gridcolor\": \"white\", \"linecolor\": \"white\", \"minorgridcolor\": \"white\", \"startlinecolor\": \"#2a3f5f\"}, \"baxis\": {\"endlinecolor\": \"#2a3f5f\", \"gridcolor\": \"white\", \"linecolor\": \"white\", \"minorgridcolor\": \"white\", \"startlinecolor\": \"#2a3f5f\"}, \"type\": \"carpet\"}], \"choropleth\": [{\"colorbar\": {\"outlinewidth\": 0, \"ticks\": \"\"}, \"type\": \"choropleth\"}], \"contour\": [{\"colorbar\": {\"outlinewidth\": 0, \"ticks\": \"\"}, \"colorscale\": [[0.0, \"#0d0887\"], [0.1111111111111111, \"#46039f\"], [0.2222222222222222, \"#7201a8\"], [0.3333333333333333, \"#9c179e\"], [0.4444444444444444, \"#bd3786\"], [0.5555555555555556, \"#d8576b\"], [0.6666666666666666, \"#ed7953\"], [0.7777777777777778, \"#fb9f3a\"], [0.8888888888888888, \"#fdca26\"], [1.0, \"#f0f921\"]], \"type\": \"contour\"}], \"contourcarpet\": [{\"colorbar\": {\"outlinewidth\": 0, \"ticks\": \"\"}, \"type\": \"contourcarpet\"}], \"heatmap\": [{\"colorbar\": {\"outlinewidth\": 0, \"ticks\": \"\"}, \"colorscale\": [[0.0, \"#0d0887\"], [0.1111111111111111, \"#46039f\"], [0.2222222222222222, \"#7201a8\"], [0.3333333333333333, \"#9c179e\"], [0.4444444444444444, \"#bd3786\"], [0.5555555555555556, \"#d8576b\"], [0.6666666666666666, \"#ed7953\"], [0.7777777777777778, \"#fb9f3a\"], [0.8888888888888888, \"#fdca26\"], [1.0, \"#f0f921\"]], \"type\": \"heatmap\"}], \"heatmapgl\": [{\"colorbar\": {\"outlinewidth\": 0, \"ticks\": \"\"}, \"colorscale\": [[0.0, \"#0d0887\"], [0.1111111111111111, \"#46039f\"], [0.2222222222222222, \"#7201a8\"], [0.3333333333333333, \"#9c179e\"], [0.4444444444444444, \"#bd3786\"], [0.5555555555555556, \"#d8576b\"], [0.6666666666666666, \"#ed7953\"], [0.7777777777777778, \"#fb9f3a\"], [0.8888888888888888, \"#fdca26\"], [1.0, \"#f0f921\"]], \"type\": \"heatmapgl\"}], \"histogram\": [{\"marker\": {\"colorbar\": {\"outlinewidth\": 0, \"ticks\": \"\"}}, \"type\": \"histogram\"}], \"histogram2d\": [{\"colorbar\": {\"outlinewidth\": 0, \"ticks\": \"\"}, \"colorscale\": [[0.0, \"#0d0887\"], [0.1111111111111111, \"#46039f\"], [0.2222222222222222, \"#7201a8\"], [0.3333333333333333, \"#9c179e\"], [0.4444444444444444, \"#bd3786\"], [0.5555555555555556, \"#d8576b\"], [0.6666666666666666, \"#ed7953\"], [0.7777777777777778, \"#fb9f3a\"], [0.8888888888888888, \"#fdca26\"], [1.0, \"#f0f921\"]], \"type\": \"histogram2d\"}], \"histogram2dcontour\": [{\"colorbar\": {\"outlinewidth\": 0, \"ticks\": \"\"}, \"colorscale\": [[0.0, \"#0d0887\"], [0.1111111111111111, \"#46039f\"], [0.2222222222222222, \"#7201a8\"], [0.3333333333333333, \"#9c179e\"], [0.4444444444444444, \"#bd3786\"], [0.5555555555555556, \"#d8576b\"], [0.6666666666666666, \"#ed7953\"], [0.7777777777777778, \"#fb9f3a\"], [0.8888888888888888, \"#fdca26\"], [1.0, \"#f0f921\"]], \"type\": \"histogram2dcontour\"}], \"mesh3d\": [{\"colorbar\": {\"outlinewidth\": 0, \"ticks\": \"\"}, \"type\": \"mesh3d\"}], \"parcoords\": [{\"line\": {\"colorbar\": {\"outlinewidth\": 0, \"ticks\": \"\"}}, \"type\": \"parcoords\"}], \"scatter\": [{\"marker\": {\"colorbar\": {\"outlinewidth\": 0, \"ticks\": \"\"}}, \"type\": \"scatter\"}], \"scatter3d\": [{\"line\": {\"colorbar\": {\"outlinewidth\": 0, \"ticks\": \"\"}}, \"marker\": {\"colorbar\": {\"outlinewidth\": 0, \"ticks\": \"\"}}, \"type\": \"scatter3d\"}], \"scattercarpet\": [{\"marker\": {\"colorbar\": {\"outlinewidth\": 0, \"ticks\": \"\"}}, \"type\": \"scattercarpet\"}], \"scattergeo\": [{\"marker\": {\"colorbar\": {\"outlinewidth\": 0, \"ticks\": \"\"}}, \"type\": \"scattergeo\"}], \"scattergl\": [{\"marker\": {\"colorbar\": {\"outlinewidth\": 0, \"ticks\": \"\"}}, \"type\": \"scattergl\"}], \"scattermapbox\": [{\"marker\": {\"colorbar\": {\"outlinewidth\": 0, \"ticks\": \"\"}}, \"type\": \"scattermapbox\"}], \"scatterpolar\": [{\"marker\": {\"colorbar\": {\"outlinewidth\": 0, \"ticks\": \"\"}}, \"type\": \"scatterpolar\"}], \"scatterpolargl\": [{\"marker\": {\"colorbar\": {\"outlinewidth\": 0, \"ticks\": \"\"}}, \"type\": \"scatterpolargl\"}], \"scatterternary\": [{\"marker\": {\"colorbar\": {\"outlinewidth\": 0, \"ticks\": \"\"}}, \"type\": \"scatterternary\"}], \"surface\": [{\"colorbar\": {\"outlinewidth\": 0, \"ticks\": \"\"}, \"colorscale\": [[0.0, \"#0d0887\"], [0.1111111111111111, \"#46039f\"], [0.2222222222222222, \"#7201a8\"], [0.3333333333333333, \"#9c179e\"], [0.4444444444444444, \"#bd3786\"], [0.5555555555555556, \"#d8576b\"], [0.6666666666666666, \"#ed7953\"], [0.7777777777777778, \"#fb9f3a\"], [0.8888888888888888, \"#fdca26\"], [1.0, \"#f0f921\"]], \"type\": \"surface\"}], \"table\": [{\"cells\": {\"fill\": {\"color\": \"#EBF0F8\"}, \"line\": {\"color\": \"white\"}}, \"header\": {\"fill\": {\"color\": \"#C8D4E3\"}, \"line\": {\"color\": \"white\"}}, \"type\": \"table\"}]}, \"layout\": {\"annotationdefaults\": {\"arrowcolor\": \"#2a3f5f\", \"arrowhead\": 0, \"arrowwidth\": 1}, \"colorscale\": {\"diverging\": [[0, \"#8e0152\"], [0.1, \"#c51b7d\"], [0.2, \"#de77ae\"], [0.3, \"#f1b6da\"], [0.4, \"#fde0ef\"], [0.5, \"#f7f7f7\"], [0.6, \"#e6f5d0\"], [0.7, \"#b8e186\"], [0.8, \"#7fbc41\"], [0.9, \"#4d9221\"], [1, \"#276419\"]], \"sequential\": [[0.0, \"#0d0887\"], [0.1111111111111111, \"#46039f\"], [0.2222222222222222, \"#7201a8\"], [0.3333333333333333, \"#9c179e\"], [0.4444444444444444, \"#bd3786\"], [0.5555555555555556, \"#d8576b\"], [0.6666666666666666, \"#ed7953\"], [0.7777777777777778, \"#fb9f3a\"], [0.8888888888888888, \"#fdca26\"], [1.0, \"#f0f921\"]], \"sequentialminus\": [[0.0, \"#0d0887\"], [0.1111111111111111, \"#46039f\"], [0.2222222222222222, \"#7201a8\"], [0.3333333333333333, \"#9c179e\"], [0.4444444444444444, \"#bd3786\"], [0.5555555555555556, \"#d8576b\"], [0.6666666666666666, \"#ed7953\"], [0.7777777777777778, \"#fb9f3a\"], [0.8888888888888888, \"#fdca26\"], [1.0, \"#f0f921\"]]}, \"colorway\": [\"#636efa\", \"#EF553B\", \"#00cc96\", \"#ab63fa\", \"#FFA15A\", \"#19d3f3\", \"#FF6692\", \"#B6E880\", \"#FF97FF\", \"#FECB52\"], \"font\": {\"color\": \"#2a3f5f\"}, \"geo\": {\"bgcolor\": \"white\", \"lakecolor\": \"white\", \"landcolor\": \"#E5ECF6\", \"showlakes\": true, \"showland\": true, \"subunitcolor\": \"white\"}, \"hoverlabel\": {\"align\": \"left\"}, \"hovermode\": \"closest\", \"mapbox\": {\"style\": \"light\"}, \"paper_bgcolor\": \"white\", \"plot_bgcolor\": \"#E5ECF6\", \"polar\": {\"angularaxis\": {\"gridcolor\": \"white\", \"linecolor\": \"white\", \"ticks\": \"\"}, \"bgcolor\": \"#E5ECF6\", \"radialaxis\": {\"gridcolor\": \"white\", \"linecolor\": \"white\", \"ticks\": \"\"}}, \"scene\": {\"xaxis\": {\"backgroundcolor\": \"#E5ECF6\", \"gridcolor\": \"white\", \"gridwidth\": 2, \"linecolor\": \"white\", \"showbackground\": true, \"ticks\": \"\", \"zerolinecolor\": \"white\"}, \"yaxis\": {\"backgroundcolor\": \"#E5ECF6\", \"gridcolor\": \"white\", \"gridwidth\": 2, \"linecolor\": \"white\", \"showbackground\": true, \"ticks\": \"\", \"zerolinecolor\": \"white\"}, \"zaxis\": {\"backgroundcolor\": \"#E5ECF6\", \"gridcolor\": \"white\", \"gridwidth\": 2, \"linecolor\": \"white\", \"showbackground\": true, \"ticks\": \"\", \"zerolinecolor\": \"white\"}}, \"shapedefaults\": {\"line\": {\"color\": \"#2a3f5f\"}}, \"ternary\": {\"aaxis\": {\"gridcolor\": \"white\", \"linecolor\": \"white\", \"ticks\": \"\"}, \"baxis\": {\"gridcolor\": \"white\", \"linecolor\": \"white\", \"ticks\": \"\"}, \"bgcolor\": \"#E5ECF6\", \"caxis\": {\"gridcolor\": \"white\", \"linecolor\": \"white\", \"ticks\": \"\"}}, \"title\": {\"x\": 0.05}, \"xaxis\": {\"automargin\": true, \"gridcolor\": \"white\", \"linecolor\": \"white\", \"ticks\": \"\", \"zerolinecolor\": \"white\", \"zerolinewidth\": 2}, \"yaxis\": {\"automargin\": true, \"gridcolor\": \"white\", \"linecolor\": \"white\", \"ticks\": \"\", \"zerolinecolor\": \"white\", \"zerolinewidth\": 2}}}, \"title\": {\"text\": \"The Recall of Direct Trust Analysis with Different Alpha\"}},\n",
       "                        {\"responsive\": true}\n",
       "                    ).then(function(){\n",
       "                            \n",
       "var gd = document.getElementById('9f804369-e7dd-44b0-8daf-3536efdab09c');\n",
       "var x = new MutationObserver(function (mutations, observer) {{\n",
       "        var display = window.getComputedStyle(gd).display;\n",
       "        if (!display || display === 'none') {{\n",
       "            console.log([gd, 'removed!']);\n",
       "            Plotly.purge(gd);\n",
       "            observer.disconnect();\n",
       "        }}\n",
       "}});\n",
       "\n",
       "// Listen for the removal of the full notebook cells\n",
       "var notebookContainer = gd.closest('#notebook-container');\n",
       "if (notebookContainer) {{\n",
       "    x.observe(notebookContainer, {childList: true});\n",
       "}}\n",
       "\n",
       "// Listen for the clearing of the current output cell\n",
       "var outputEl = gd.closest('.output');\n",
       "if (outputEl) {{\n",
       "    x.observe(outputEl, {childList: true});\n",
       "}}\n",
       "\n",
       "                        })\n",
       "                };\n",
       "                });\n",
       "            </script>\n",
       "        </div>"
      ]
     },
     "metadata": {},
     "output_type": "display_data"
    },
    {
     "data": {
      "application/vnd.plotly.v1+json": {
       "config": {
        "linkText": "Export to plot.ly",
        "plotlyServerURL": "https://plot.ly",
        "showLink": false
       },
       "data": [
        {
         "marker": {
          "symbol": 201
         },
         "mode": "lines+markers",
         "type": "scatter",
         "x": [
          0.1,
          0.2,
          0.30000000000000004,
          0.4,
          0.5,
          0.6,
          0.7000000000000001,
          0.8,
          0.9,
          1,
          1.1,
          1.2000000000000002,
          1.3000000000000003,
          1.4000000000000001,
          1.5000000000000002,
          1.6,
          1.7000000000000002,
          1.8000000000000003,
          1.9000000000000001,
          2,
          2.1,
          2.2,
          2.3000000000000003,
          2.4000000000000004,
          2.5000000000000004,
          2.6,
          2.7,
          2.8000000000000003,
          2.9000000000000004,
          3.0000000000000004
         ],
         "y": [
          0.1017695885435492,
          0.10692521129341188,
          0.11122498594268025,
          0.19455108107882005,
          0.21762485317165534,
          0.24600636804941622,
          0.2665993721040247,
          0.32578864314327455,
          0.3541478733233121,
          0.36350215122828405,
          0.38027257239580237,
          0.3901835793276042,
          0.44717948593464124,
          0.47140655430473416,
          0.7187003268359135,
          0.7400113309366356,
          0.7688060390747266,
          0.47810844704877975,
          0.46514788028826287,
          0.4262638434856977,
          0.3836674473696423,
          0.3713423777806054,
          0.3619196292414762,
          0.311555306129393,
          0.3080002509256985,
          0.26025140669120034,
          0.22434848849424313,
          0.20662202396632134,
          0.20289966398935066,
          0.18866172348050542
         ]
        }
       ],
       "layout": {
        "autosize": true,
        "template": {
         "data": {
          "bar": [
           {
            "error_x": {
             "color": "#2a3f5f"
            },
            "error_y": {
             "color": "#2a3f5f"
            },
            "marker": {
             "line": {
              "color": "#E5ECF6",
              "width": 0.5
             }
            },
            "type": "bar"
           }
          ],
          "barpolar": [
           {
            "marker": {
             "line": {
              "color": "#E5ECF6",
              "width": 0.5
             }
            },
            "type": "barpolar"
           }
          ],
          "carpet": [
           {
            "aaxis": {
             "endlinecolor": "#2a3f5f",
             "gridcolor": "white",
             "linecolor": "white",
             "minorgridcolor": "white",
             "startlinecolor": "#2a3f5f"
            },
            "baxis": {
             "endlinecolor": "#2a3f5f",
             "gridcolor": "white",
             "linecolor": "white",
             "minorgridcolor": "white",
             "startlinecolor": "#2a3f5f"
            },
            "type": "carpet"
           }
          ],
          "choropleth": [
           {
            "colorbar": {
             "outlinewidth": 0,
             "ticks": ""
            },
            "type": "choropleth"
           }
          ],
          "contour": [
           {
            "colorbar": {
             "outlinewidth": 0,
             "ticks": ""
            },
            "colorscale": [
             [
              0,
              "#0d0887"
             ],
             [
              0.1111111111111111,
              "#46039f"
             ],
             [
              0.2222222222222222,
              "#7201a8"
             ],
             [
              0.3333333333333333,
              "#9c179e"
             ],
             [
              0.4444444444444444,
              "#bd3786"
             ],
             [
              0.5555555555555556,
              "#d8576b"
             ],
             [
              0.6666666666666666,
              "#ed7953"
             ],
             [
              0.7777777777777778,
              "#fb9f3a"
             ],
             [
              0.8888888888888888,
              "#fdca26"
             ],
             [
              1,
              "#f0f921"
             ]
            ],
            "type": "contour"
           }
          ],
          "contourcarpet": [
           {
            "colorbar": {
             "outlinewidth": 0,
             "ticks": ""
            },
            "type": "contourcarpet"
           }
          ],
          "heatmap": [
           {
            "colorbar": {
             "outlinewidth": 0,
             "ticks": ""
            },
            "colorscale": [
             [
              0,
              "#0d0887"
             ],
             [
              0.1111111111111111,
              "#46039f"
             ],
             [
              0.2222222222222222,
              "#7201a8"
             ],
             [
              0.3333333333333333,
              "#9c179e"
             ],
             [
              0.4444444444444444,
              "#bd3786"
             ],
             [
              0.5555555555555556,
              "#d8576b"
             ],
             [
              0.6666666666666666,
              "#ed7953"
             ],
             [
              0.7777777777777778,
              "#fb9f3a"
             ],
             [
              0.8888888888888888,
              "#fdca26"
             ],
             [
              1,
              "#f0f921"
             ]
            ],
            "type": "heatmap"
           }
          ],
          "heatmapgl": [
           {
            "colorbar": {
             "outlinewidth": 0,
             "ticks": ""
            },
            "colorscale": [
             [
              0,
              "#0d0887"
             ],
             [
              0.1111111111111111,
              "#46039f"
             ],
             [
              0.2222222222222222,
              "#7201a8"
             ],
             [
              0.3333333333333333,
              "#9c179e"
             ],
             [
              0.4444444444444444,
              "#bd3786"
             ],
             [
              0.5555555555555556,
              "#d8576b"
             ],
             [
              0.6666666666666666,
              "#ed7953"
             ],
             [
              0.7777777777777778,
              "#fb9f3a"
             ],
             [
              0.8888888888888888,
              "#fdca26"
             ],
             [
              1,
              "#f0f921"
             ]
            ],
            "type": "heatmapgl"
           }
          ],
          "histogram": [
           {
            "marker": {
             "colorbar": {
              "outlinewidth": 0,
              "ticks": ""
             }
            },
            "type": "histogram"
           }
          ],
          "histogram2d": [
           {
            "colorbar": {
             "outlinewidth": 0,
             "ticks": ""
            },
            "colorscale": [
             [
              0,
              "#0d0887"
             ],
             [
              0.1111111111111111,
              "#46039f"
             ],
             [
              0.2222222222222222,
              "#7201a8"
             ],
             [
              0.3333333333333333,
              "#9c179e"
             ],
             [
              0.4444444444444444,
              "#bd3786"
             ],
             [
              0.5555555555555556,
              "#d8576b"
             ],
             [
              0.6666666666666666,
              "#ed7953"
             ],
             [
              0.7777777777777778,
              "#fb9f3a"
             ],
             [
              0.8888888888888888,
              "#fdca26"
             ],
             [
              1,
              "#f0f921"
             ]
            ],
            "type": "histogram2d"
           }
          ],
          "histogram2dcontour": [
           {
            "colorbar": {
             "outlinewidth": 0,
             "ticks": ""
            },
            "colorscale": [
             [
              0,
              "#0d0887"
             ],
             [
              0.1111111111111111,
              "#46039f"
             ],
             [
              0.2222222222222222,
              "#7201a8"
             ],
             [
              0.3333333333333333,
              "#9c179e"
             ],
             [
              0.4444444444444444,
              "#bd3786"
             ],
             [
              0.5555555555555556,
              "#d8576b"
             ],
             [
              0.6666666666666666,
              "#ed7953"
             ],
             [
              0.7777777777777778,
              "#fb9f3a"
             ],
             [
              0.8888888888888888,
              "#fdca26"
             ],
             [
              1,
              "#f0f921"
             ]
            ],
            "type": "histogram2dcontour"
           }
          ],
          "mesh3d": [
           {
            "colorbar": {
             "outlinewidth": 0,
             "ticks": ""
            },
            "type": "mesh3d"
           }
          ],
          "parcoords": [
           {
            "line": {
             "colorbar": {
              "outlinewidth": 0,
              "ticks": ""
             }
            },
            "type": "parcoords"
           }
          ],
          "scatter": [
           {
            "marker": {
             "colorbar": {
              "outlinewidth": 0,
              "ticks": ""
             }
            },
            "type": "scatter"
           }
          ],
          "scatter3d": [
           {
            "line": {
             "colorbar": {
              "outlinewidth": 0,
              "ticks": ""
             }
            },
            "marker": {
             "colorbar": {
              "outlinewidth": 0,
              "ticks": ""
             }
            },
            "type": "scatter3d"
           }
          ],
          "scattercarpet": [
           {
            "marker": {
             "colorbar": {
              "outlinewidth": 0,
              "ticks": ""
             }
            },
            "type": "scattercarpet"
           }
          ],
          "scattergeo": [
           {
            "marker": {
             "colorbar": {
              "outlinewidth": 0,
              "ticks": ""
             }
            },
            "type": "scattergeo"
           }
          ],
          "scattergl": [
           {
            "marker": {
             "colorbar": {
              "outlinewidth": 0,
              "ticks": ""
             }
            },
            "type": "scattergl"
           }
          ],
          "scattermapbox": [
           {
            "marker": {
             "colorbar": {
              "outlinewidth": 0,
              "ticks": ""
             }
            },
            "type": "scattermapbox"
           }
          ],
          "scatterpolar": [
           {
            "marker": {
             "colorbar": {
              "outlinewidth": 0,
              "ticks": ""
             }
            },
            "type": "scatterpolar"
           }
          ],
          "scatterpolargl": [
           {
            "marker": {
             "colorbar": {
              "outlinewidth": 0,
              "ticks": ""
             }
            },
            "type": "scatterpolargl"
           }
          ],
          "scatterternary": [
           {
            "marker": {
             "colorbar": {
              "outlinewidth": 0,
              "ticks": ""
             }
            },
            "type": "scatterternary"
           }
          ],
          "surface": [
           {
            "colorbar": {
             "outlinewidth": 0,
             "ticks": ""
            },
            "colorscale": [
             [
              0,
              "#0d0887"
             ],
             [
              0.1111111111111111,
              "#46039f"
             ],
             [
              0.2222222222222222,
              "#7201a8"
             ],
             [
              0.3333333333333333,
              "#9c179e"
             ],
             [
              0.4444444444444444,
              "#bd3786"
             ],
             [
              0.5555555555555556,
              "#d8576b"
             ],
             [
              0.6666666666666666,
              "#ed7953"
             ],
             [
              0.7777777777777778,
              "#fb9f3a"
             ],
             [
              0.8888888888888888,
              "#fdca26"
             ],
             [
              1,
              "#f0f921"
             ]
            ],
            "type": "surface"
           }
          ],
          "table": [
           {
            "cells": {
             "fill": {
              "color": "#EBF0F8"
             },
             "line": {
              "color": "white"
             }
            },
            "header": {
             "fill": {
              "color": "#C8D4E3"
             },
             "line": {
              "color": "white"
             }
            },
            "type": "table"
           }
          ]
         },
         "layout": {
          "annotationdefaults": {
           "arrowcolor": "#2a3f5f",
           "arrowhead": 0,
           "arrowwidth": 1
          },
          "colorscale": {
           "diverging": [
            [
             0,
             "#8e0152"
            ],
            [
             0.1,
             "#c51b7d"
            ],
            [
             0.2,
             "#de77ae"
            ],
            [
             0.3,
             "#f1b6da"
            ],
            [
             0.4,
             "#fde0ef"
            ],
            [
             0.5,
             "#f7f7f7"
            ],
            [
             0.6,
             "#e6f5d0"
            ],
            [
             0.7,
             "#b8e186"
            ],
            [
             0.8,
             "#7fbc41"
            ],
            [
             0.9,
             "#4d9221"
            ],
            [
             1,
             "#276419"
            ]
           ],
           "sequential": [
            [
             0,
             "#0d0887"
            ],
            [
             0.1111111111111111,
             "#46039f"
            ],
            [
             0.2222222222222222,
             "#7201a8"
            ],
            [
             0.3333333333333333,
             "#9c179e"
            ],
            [
             0.4444444444444444,
             "#bd3786"
            ],
            [
             0.5555555555555556,
             "#d8576b"
            ],
            [
             0.6666666666666666,
             "#ed7953"
            ],
            [
             0.7777777777777778,
             "#fb9f3a"
            ],
            [
             0.8888888888888888,
             "#fdca26"
            ],
            [
             1,
             "#f0f921"
            ]
           ],
           "sequentialminus": [
            [
             0,
             "#0d0887"
            ],
            [
             0.1111111111111111,
             "#46039f"
            ],
            [
             0.2222222222222222,
             "#7201a8"
            ],
            [
             0.3333333333333333,
             "#9c179e"
            ],
            [
             0.4444444444444444,
             "#bd3786"
            ],
            [
             0.5555555555555556,
             "#d8576b"
            ],
            [
             0.6666666666666666,
             "#ed7953"
            ],
            [
             0.7777777777777778,
             "#fb9f3a"
            ],
            [
             0.8888888888888888,
             "#fdca26"
            ],
            [
             1,
             "#f0f921"
            ]
           ]
          },
          "colorway": [
           "#636efa",
           "#EF553B",
           "#00cc96",
           "#ab63fa",
           "#FFA15A",
           "#19d3f3",
           "#FF6692",
           "#B6E880",
           "#FF97FF",
           "#FECB52"
          ],
          "font": {
           "color": "#2a3f5f"
          },
          "geo": {
           "bgcolor": "white",
           "lakecolor": "white",
           "landcolor": "#E5ECF6",
           "showlakes": true,
           "showland": true,
           "subunitcolor": "white"
          },
          "hoverlabel": {
           "align": "left"
          },
          "hovermode": "closest",
          "mapbox": {
           "style": "light"
          },
          "paper_bgcolor": "white",
          "plot_bgcolor": "#E5ECF6",
          "polar": {
           "angularaxis": {
            "gridcolor": "white",
            "linecolor": "white",
            "ticks": ""
           },
           "bgcolor": "#E5ECF6",
           "radialaxis": {
            "gridcolor": "white",
            "linecolor": "white",
            "ticks": ""
           }
          },
          "scene": {
           "xaxis": {
            "backgroundcolor": "#E5ECF6",
            "gridcolor": "white",
            "gridwidth": 2,
            "linecolor": "white",
            "showbackground": true,
            "ticks": "",
            "zerolinecolor": "white"
           },
           "yaxis": {
            "backgroundcolor": "#E5ECF6",
            "gridcolor": "white",
            "gridwidth": 2,
            "linecolor": "white",
            "showbackground": true,
            "ticks": "",
            "zerolinecolor": "white"
           },
           "zaxis": {
            "backgroundcolor": "#E5ECF6",
            "gridcolor": "white",
            "gridwidth": 2,
            "linecolor": "white",
            "showbackground": true,
            "ticks": "",
            "zerolinecolor": "white"
           }
          },
          "shapedefaults": {
           "line": {
            "color": "#2a3f5f"
           }
          },
          "ternary": {
           "aaxis": {
            "gridcolor": "white",
            "linecolor": "white",
            "ticks": ""
           },
           "baxis": {
            "gridcolor": "white",
            "linecolor": "white",
            "ticks": ""
           },
           "bgcolor": "#E5ECF6",
           "caxis": {
            "gridcolor": "white",
            "linecolor": "white",
            "ticks": ""
           }
          },
          "title": {
           "x": 0.05
          },
          "xaxis": {
           "automargin": true,
           "gridcolor": "white",
           "linecolor": "white",
           "ticks": "",
           "zerolinecolor": "white",
           "zerolinewidth": 2
          },
          "yaxis": {
           "automargin": true,
           "gridcolor": "white",
           "linecolor": "white",
           "ticks": "",
           "zerolinecolor": "white",
           "zerolinewidth": 2
          }
         }
        },
        "title": {
         "text": "The F-Value of Direct Trust Analysis with Different Alpha"
        },
        "xaxis": {
         "autorange": true,
         "range": [
          -0.07914055505819156,
          3.179140555058192
         ],
         "type": "linear"
        },
        "yaxis": {
         "autorange": true,
         "range": [
          0.05291023070209354,
          0.8176653969161822
         ],
         "type": "linear"
        }
       }
      },
      "image/png": "[encoded data removed]",
      "text/html": [
       "<div>\n",
       "        \n",
       "        \n",
       "            <div id=\"e85969cd-f1fb-42ab-950b-3b6deb173583\" class=\"plotly-graph-div\" style=\"height:525px; width:100%;\"></div>\n",
       "            <script type=\"text/javascript\">\n",
       "                require([\"plotly\"], function(Plotly) {\n",
       "                    window.PLOTLYENV=window.PLOTLYENV || {};\n",
       "                    \n",
       "                if (document.getElementById(\"e85969cd-f1fb-42ab-950b-3b6deb173583\")) {\n",
       "                    Plotly.newPlot(\n",
       "                        'e85969cd-f1fb-42ab-950b-3b6deb173583',\n",
       "                        [{\"marker\": {\"symbol\": 201}, \"mode\": \"lines+markers\", \"type\": \"scatter\", \"x\": [0.1, 0.2, 0.30000000000000004, 0.4, 0.5, 0.6, 0.7000000000000001, 0.8, 0.9, 1.0, 1.1, 1.2000000000000002, 1.3000000000000003, 1.4000000000000001, 1.5000000000000002, 1.6, 1.7000000000000002, 1.8000000000000003, 1.9000000000000001, 2.0, 2.1, 2.2, 2.3000000000000003, 2.4000000000000004, 2.5000000000000004, 2.6, 2.7, 2.8000000000000003, 2.9000000000000004, 3.0000000000000004], \"y\": [0.1017695885435492, 0.10692521129341188, 0.11122498594268025, 0.19455108107882005, 0.21762485317165534, 0.24600636804941622, 0.2665993721040247, 0.32578864314327455, 0.3541478733233121, 0.36350215122828405, 0.38027257239580237, 0.3901835793276042, 0.44717948593464124, 0.47140655430473416, 0.7187003268359135, 0.7400113309366356, 0.7688060390747266, 0.47810844704877975, 0.46514788028826287, 0.4262638434856977, 0.3836674473696423, 0.3713423777806054, 0.3619196292414762, 0.311555306129393, 0.3080002509256985, 0.26025140669120034, 0.22434848849424313, 0.20662202396632134, 0.20289966398935066, 0.18866172348050542]}],\n",
       "                        {\"template\": {\"data\": {\"bar\": [{\"error_x\": {\"color\": \"#2a3f5f\"}, \"error_y\": {\"color\": \"#2a3f5f\"}, \"marker\": {\"line\": {\"color\": \"#E5ECF6\", \"width\": 0.5}}, \"type\": \"bar\"}], \"barpolar\": [{\"marker\": {\"line\": {\"color\": \"#E5ECF6\", \"width\": 0.5}}, \"type\": \"barpolar\"}], \"carpet\": [{\"aaxis\": {\"endlinecolor\": \"#2a3f5f\", \"gridcolor\": \"white\", \"linecolor\": \"white\", \"minorgridcolor\": \"white\", \"startlinecolor\": \"#2a3f5f\"}, \"baxis\": {\"endlinecolor\": \"#2a3f5f\", \"gridcolor\": \"white\", \"linecolor\": \"white\", \"minorgridcolor\": \"white\", \"startlinecolor\": \"#2a3f5f\"}, \"type\": \"carpet\"}], \"choropleth\": [{\"colorbar\": {\"outlinewidth\": 0, \"ticks\": \"\"}, \"type\": \"choropleth\"}], \"contour\": [{\"colorbar\": {\"outlinewidth\": 0, \"ticks\": \"\"}, \"colorscale\": [[0.0, \"#0d0887\"], [0.1111111111111111, \"#46039f\"], [0.2222222222222222, \"#7201a8\"], [0.3333333333333333, \"#9c179e\"], [0.4444444444444444, \"#bd3786\"], [0.5555555555555556, \"#d8576b\"], [0.6666666666666666, \"#ed7953\"], [0.7777777777777778, \"#fb9f3a\"], [0.8888888888888888, \"#fdca26\"], [1.0, \"#f0f921\"]], \"type\": \"contour\"}], \"contourcarpet\": [{\"colorbar\": {\"outlinewidth\": 0, \"ticks\": \"\"}, \"type\": \"contourcarpet\"}], \"heatmap\": [{\"colorbar\": {\"outlinewidth\": 0, \"ticks\": \"\"}, \"colorscale\": [[0.0, \"#0d0887\"], [0.1111111111111111, \"#46039f\"], [0.2222222222222222, \"#7201a8\"], [0.3333333333333333, \"#9c179e\"], [0.4444444444444444, \"#bd3786\"], [0.5555555555555556, \"#d8576b\"], [0.6666666666666666, \"#ed7953\"], [0.7777777777777778, \"#fb9f3a\"], [0.8888888888888888, \"#fdca26\"], [1.0, \"#f0f921\"]], \"type\": \"heatmap\"}], \"heatmapgl\": [{\"colorbar\": {\"outlinewidth\": 0, \"ticks\": \"\"}, \"colorscale\": [[0.0, \"#0d0887\"], [0.1111111111111111, \"#46039f\"], [0.2222222222222222, \"#7201a8\"], [0.3333333333333333, \"#9c179e\"], [0.4444444444444444, \"#bd3786\"], [0.5555555555555556, \"#d8576b\"], [0.6666666666666666, \"#ed7953\"], [0.7777777777777778, \"#fb9f3a\"], [0.8888888888888888, \"#fdca26\"], [1.0, \"#f0f921\"]], \"type\": \"heatmapgl\"}], \"histogram\": [{\"marker\": {\"colorbar\": {\"outlinewidth\": 0, \"ticks\": \"\"}}, \"type\": \"histogram\"}], \"histogram2d\": [{\"colorbar\": {\"outlinewidth\": 0, \"ticks\": \"\"}, \"colorscale\": [[0.0, \"#0d0887\"], [0.1111111111111111, \"#46039f\"], [0.2222222222222222, \"#7201a8\"], [0.3333333333333333, \"#9c179e\"], [0.4444444444444444, \"#bd3786\"], [0.5555555555555556, \"#d8576b\"], [0.6666666666666666, \"#ed7953\"], [0.7777777777777778, \"#fb9f3a\"], [0.8888888888888888, \"#fdca26\"], [1.0, \"#f0f921\"]], \"type\": \"histogram2d\"}], \"histogram2dcontour\": [{\"colorbar\": {\"outlinewidth\": 0, \"ticks\": \"\"}, \"colorscale\": [[0.0, \"#0d0887\"], [0.1111111111111111, \"#46039f\"], [0.2222222222222222, \"#7201a8\"], [0.3333333333333333, \"#9c179e\"], [0.4444444444444444, \"#bd3786\"], [0.5555555555555556, \"#d8576b\"], [0.6666666666666666, \"#ed7953\"], [0.7777777777777778, \"#fb9f3a\"], [0.8888888888888888, \"#fdca26\"], [1.0, \"#f0f921\"]], \"type\": \"histogram2dcontour\"}], \"mesh3d\": [{\"colorbar\": {\"outlinewidth\": 0, \"ticks\": \"\"}, \"type\": \"mesh3d\"}], \"parcoords\": [{\"line\": {\"colorbar\": {\"outlinewidth\": 0, \"ticks\": \"\"}}, \"type\": \"parcoords\"}], \"scatter\": [{\"marker\": {\"colorbar\": {\"outlinewidth\": 0, \"ticks\": \"\"}}, \"type\": \"scatter\"}], \"scatter3d\": [{\"line\": {\"colorbar\": {\"outlinewidth\": 0, \"ticks\": \"\"}}, \"marker\": {\"colorbar\": {\"outlinewidth\": 0, \"ticks\": \"\"}}, \"type\": \"scatter3d\"}], \"scattercarpet\": [{\"marker\": {\"colorbar\": {\"outlinewidth\": 0, \"ticks\": \"\"}}, \"type\": \"scattercarpet\"}], \"scattergeo\": [{\"marker\": {\"colorbar\": {\"outlinewidth\": 0, \"ticks\": \"\"}}, \"type\": \"scattergeo\"}], \"scattergl\": [{\"marker\": {\"colorbar\": {\"outlinewidth\": 0, \"ticks\": \"\"}}, \"type\": \"scattergl\"}], \"scattermapbox\": [{\"marker\": {\"colorbar\": {\"outlinewidth\": 0, \"ticks\": \"\"}}, \"type\": \"scattermapbox\"}], \"scatterpolar\": [{\"marker\": {\"colorbar\": {\"outlinewidth\": 0, \"ticks\": \"\"}}, \"type\": \"scatterpolar\"}], \"scatterpolargl\": [{\"marker\": {\"colorbar\": {\"outlinewidth\": 0, \"ticks\": \"\"}}, \"type\": \"scatterpolargl\"}], \"scatterternary\": [{\"marker\": {\"colorbar\": {\"outlinewidth\": 0, \"ticks\": \"\"}}, \"type\": \"scatterternary\"}], \"surface\": [{\"colorbar\": {\"outlinewidth\": 0, \"ticks\": \"\"}, \"colorscale\": [[0.0, \"#0d0887\"], [0.1111111111111111, \"#46039f\"], [0.2222222222222222, \"#7201a8\"], [0.3333333333333333, \"#9c179e\"], [0.4444444444444444, \"#bd3786\"], [0.5555555555555556, \"#d8576b\"], [0.6666666666666666, \"#ed7953\"], [0.7777777777777778, \"#fb9f3a\"], [0.8888888888888888, \"#fdca26\"], [1.0, \"#f0f921\"]], \"type\": \"surface\"}], \"table\": [{\"cells\": {\"fill\": {\"color\": \"#EBF0F8\"}, \"line\": {\"color\": \"white\"}}, \"header\": {\"fill\": {\"color\": \"#C8D4E3\"}, \"line\": {\"color\": \"white\"}}, \"type\": \"table\"}]}, \"layout\": {\"annotationdefaults\": {\"arrowcolor\": \"#2a3f5f\", \"arrowhead\": 0, \"arrowwidth\": 1}, \"colorscale\": {\"diverging\": [[0, \"#8e0152\"], [0.1, \"#c51b7d\"], [0.2, \"#de77ae\"], [0.3, \"#f1b6da\"], [0.4, \"#fde0ef\"], [0.5, \"#f7f7f7\"], [0.6, \"#e6f5d0\"], [0.7, \"#b8e186\"], [0.8, \"#7fbc41\"], [0.9, \"#4d9221\"], [1, \"#276419\"]], \"sequential\": [[0.0, \"#0d0887\"], [0.1111111111111111, \"#46039f\"], [0.2222222222222222, \"#7201a8\"], [0.3333333333333333, \"#9c179e\"], [0.4444444444444444, \"#bd3786\"], [0.5555555555555556, \"#d8576b\"], [0.6666666666666666, \"#ed7953\"], [0.7777777777777778, \"#fb9f3a\"], [0.8888888888888888, \"#fdca26\"], [1.0, \"#f0f921\"]], \"sequentialminus\": [[0.0, \"#0d0887\"], [0.1111111111111111, \"#46039f\"], [0.2222222222222222, \"#7201a8\"], [0.3333333333333333, \"#9c179e\"], [0.4444444444444444, \"#bd3786\"], [0.5555555555555556, \"#d8576b\"], [0.6666666666666666, \"#ed7953\"], [0.7777777777777778, \"#fb9f3a\"], [0.8888888888888888, \"#fdca26\"], [1.0, \"#f0f921\"]]}, \"colorway\": [\"#636efa\", \"#EF553B\", \"#00cc96\", \"#ab63fa\", \"#FFA15A\", \"#19d3f3\", \"#FF6692\", \"#B6E880\", \"#FF97FF\", \"#FECB52\"], \"font\": {\"color\": \"#2a3f5f\"}, \"geo\": {\"bgcolor\": \"white\", \"lakecolor\": \"white\", \"landcolor\": \"#E5ECF6\", \"showlakes\": true, \"showland\": true, \"subunitcolor\": \"white\"}, \"hoverlabel\": {\"align\": \"left\"}, \"hovermode\": \"closest\", \"mapbox\": {\"style\": \"light\"}, \"paper_bgcolor\": \"white\", \"plot_bgcolor\": \"#E5ECF6\", \"polar\": {\"angularaxis\": {\"gridcolor\": \"white\", \"linecolor\": \"white\", \"ticks\": \"\"}, \"bgcolor\": \"#E5ECF6\", \"radialaxis\": {\"gridcolor\": \"white\", \"linecolor\": \"white\", \"ticks\": \"\"}}, \"scene\": {\"xaxis\": {\"backgroundcolor\": \"#E5ECF6\", \"gridcolor\": \"white\", \"gridwidth\": 2, \"linecolor\": \"white\", \"showbackground\": true, \"ticks\": \"\", \"zerolinecolor\": \"white\"}, \"yaxis\": {\"backgroundcolor\": \"#E5ECF6\", \"gridcolor\": \"white\", \"gridwidth\": 2, \"linecolor\": \"white\", \"showbackground\": true, \"ticks\": \"\", \"zerolinecolor\": \"white\"}, \"zaxis\": {\"backgroundcolor\": \"#E5ECF6\", \"gridcolor\": \"white\", \"gridwidth\": 2, \"linecolor\": \"white\", \"showbackground\": true, \"ticks\": \"\", \"zerolinecolor\": \"white\"}}, \"shapedefaults\": {\"line\": {\"color\": \"#2a3f5f\"}}, \"ternary\": {\"aaxis\": {\"gridcolor\": \"white\", \"linecolor\": \"white\", \"ticks\": \"\"}, \"baxis\": {\"gridcolor\": \"white\", \"linecolor\": \"white\", \"ticks\": \"\"}, \"bgcolor\": \"#E5ECF6\", \"caxis\": {\"gridcolor\": \"white\", \"linecolor\": \"white\", \"ticks\": \"\"}}, \"title\": {\"x\": 0.05}, \"xaxis\": {\"automargin\": true, \"gridcolor\": \"white\", \"linecolor\": \"white\", \"ticks\": \"\", \"zerolinecolor\": \"white\", \"zerolinewidth\": 2}, \"yaxis\": {\"automargin\": true, \"gridcolor\": \"white\", \"linecolor\": \"white\", \"ticks\": \"\", \"zerolinecolor\": \"white\", \"zerolinewidth\": 2}}}, \"title\": {\"text\": \"The F-Value of Direct Trust Analysis with Different Alpha\"}},\n",
       "                        {\"responsive\": true}\n",
       "                    ).then(function(){\n",
       "                            \n",
       "var gd = document.getElementById('e85969cd-f1fb-42ab-950b-3b6deb173583');\n",
       "var x = new MutationObserver(function (mutations, observer) {{\n",
       "        var display = window.getComputedStyle(gd).display;\n",
       "        if (!display || display === 'none') {{\n",
       "            console.log([gd, 'removed!']);\n",
       "            Plotly.purge(gd);\n",
       "            observer.disconnect();\n",
       "        }}\n",
       "}});\n",
       "\n",
       "// Listen for the removal of the full notebook cells\n",
       "var notebookContainer = gd.closest('#notebook-container');\n",
       "if (notebookContainer) {{\n",
       "    x.observe(notebookContainer, {childList: true});\n",
       "}}\n",
       "\n",
       "// Listen for the clearing of the current output cell\n",
       "var outputEl = gd.closest('.output');\n",
       "if (outputEl) {{\n",
       "    x.observe(outputEl, {childList: true});\n",
       "}}\n",
       "\n",
       "                        })\n",
       "                };\n",
       "                });\n",
       "            </script>\n",
       "        </div>"
      ]
     },
     "metadata": {},
     "output_type": "display_data"
    }
   ],
   "source": [
    "plot_different_alpha(dt_range=[0.07,0.08])"
   ]
  },
  {
   "cell_type": "code",
   "execution_count": 7,
   "metadata": {},
   "outputs": [],
   "source": [
    "def plot_different_threshold(diff_list=np.arange(1,51,1)):  \n",
    "    ap_conditions = ',\\n'.join(\n",
    "        ['IF(ABS(reviewer_tone-dt_tone)<{0},1,0) AS ap_{0}'.format(i)\n",
    "         for i in diff_list])\n",
    "    \n",
    "    calc_conditions = ',\\n'.join(\n",
    "        ['SUM(IF(fact=1 AND ap_{0}=1,1,0)) AS tp_{0}, SUM(IF(fact=0 AND ap_{0}=1,1,0)) AS fp_{0}, SUM(IF(fact=1 AND ap_{0}=0,1,0)) AS fn_{0}'.format(i)\n",
    "         for i in diff_list])\n",
    "    \n",
    "    prec_rec = ',\\n'.join(\n",
    "        ['tp_{0}/(tp_{0}+fp_{0}) AS p_{0}, tp_{0}/(tp_{0}+fn_{0}) AS r_{0}'.format(i)\n",
    "         for i in diff_list])\n",
    "    \n",
    "    query = '''\n",
    "    SELECT {2}\n",
    "      FROM (SELECT {1}\n",
    "              FROM (SELECT reviewerID, \n",
    "                           dt_reviewerID, \n",
    "                           fact,\n",
    "                           {0}\n",
    "                      FROM TABLE_NAME))\n",
    "    '''.format(ap_conditions,\n",
    "               calc_conditions,\n",
    "               prec_rec)\n",
    "    df = Query(query)\n",
    "    \n",
    "    t_df = df[[col for col in df.columns if col[:1]=='p']].T\n",
    "    t_df.columns = ['precision']\n",
    "    t_df.reset_index(inplace=True)\n",
    "    t_df['recall'] = df[[col for col in df.columns if col[:1]=='r']].T[0].tolist()\n",
    "    f_calc = lambda p,r: 2*p*r/(p+r)\n",
    "    t_df['f_value'] = t_df[['precision','recall']].apply(lambda x: f_calc(*x), axis=1)\n",
    "    \n",
    "    def plot_scores(column):\n",
    "        markers = {\n",
    "            'precision':1,\n",
    "            'recall':101, \n",
    "            'f_value':201}\n",
    "        data = [go.Scatter(\n",
    "            x=diff_list,\n",
    "            y=t_df[column].tolist(),\n",
    "            mode='lines+markers',\n",
    "            marker={'symbol':markers[column]})]\n",
    "        \n",
    "        fig = go.Figure(\n",
    "            data=data, \n",
    "            layout={'title':'The {0} of Direct Trust Analysis with Different LIWC Threshold'.format(column.replace('_','-').title())})\n",
    "        iplot(fig)\n",
    "        \n",
    "    plot_scores('precision')\n",
    "    plot_scores('recall')\n",
    "    plot_scores('f_value')"
   ]
  },
  {
   "cell_type": "code",
   "execution_count": 8,
   "metadata": {},
   "outputs": [
    {
     "data": {
      "application/vnd.plotly.v1+json": {
       "config": {
        "linkText": "Export to plot.ly",
        "plotlyServerURL": "https://plot.ly",
        "showLink": false
       },
       "data": [
        {
         "marker": {
          "symbol": 1
         },
         "mode": "lines+markers",
         "type": "scatter",
         "x": [
          1,
          2,
          3,
          4,
          5,
          6,
          7,
          8,
          9,
          10,
          11,
          12,
          13,
          14,
          15,
          16,
          17,
          18,
          19,
          20,
          21,
          22,
          23,
          24,
          25,
          26,
          27,
          28,
          29,
          30,
          31,
          32,
          33,
          34,
          35,
          36,
          37,
          38,
          39,
          40,
          41,
          42,
          43,
          44,
          45,
          46,
          47,
          48,
          49,
          50
         ],
         "y": [
          0.3976346439714458,
          0.37417267245183117,
          0.3591903520998727,
          0.3511395267919276,
          0.3425018694254504,
          0.3367986567790681,
          0.33031184817037057,
          0.3255623381867414,
          0.3206668001156558,
          0.31669012249152984,
          0.31437088987441864,
          0.3124343713120162,
          0.30930711161969643,
          0.3070109732925379,
          0.3040610870767329,
          0.3021642141515341,
          0.3001606410522934,
          0.298157141760856,
          0.2963179055236721,
          0.29516230323371045,
          0.293519245220005,
          0.2917356017873194,
          0.2906265435616855,
          0.2897570130383248,
          0.28812691451583267,
          0.2869125239710872,
          0.2857987807165094,
          0.28492494392687046,
          0.2840859952766906,
          0.2828520405941025,
          0.2821947769634516,
          0.2813992343414942,
          0.2804701856499298,
          0.27987145927336804,
          0.27917723471991207,
          0.27875675087538826,
          0.2779728501494923,
          0.2771724502547342,
          0.2766015947209238,
          0.2760023419203747,
          0.2754185938945421,
          0.2749243332762264,
          0.2742458904217865,
          0.2736562837771445,
          0.2728939104163814,
          0.2724460098410229,
          0.2719927002722262,
          0.2716309247224334,
          0.271034266114243,
          0.2708300445174123
         ]
        }
       ],
       "layout": {
        "autosize": true,
        "template": {
         "data": {
          "bar": [
           {
            "error_x": {
             "color": "#2a3f5f"
            },
            "error_y": {
             "color": "#2a3f5f"
            },
            "marker": {
             "line": {
              "color": "#E5ECF6",
              "width": 0.5
             }
            },
            "type": "bar"
           }
          ],
          "barpolar": [
           {
            "marker": {
             "line": {
              "color": "#E5ECF6",
              "width": 0.5
             }
            },
            "type": "barpolar"
           }
          ],
          "carpet": [
           {
            "aaxis": {
             "endlinecolor": "#2a3f5f",
             "gridcolor": "white",
             "linecolor": "white",
             "minorgridcolor": "white",
             "startlinecolor": "#2a3f5f"
            },
            "baxis": {
             "endlinecolor": "#2a3f5f",
             "gridcolor": "white",
             "linecolor": "white",
             "minorgridcolor": "white",
             "startlinecolor": "#2a3f5f"
            },
            "type": "carpet"
           }
          ],
          "choropleth": [
           {
            "colorbar": {
             "outlinewidth": 0,
             "ticks": ""
            },
            "type": "choropleth"
           }
          ],
          "contour": [
           {
            "colorbar": {
             "outlinewidth": 0,
             "ticks": ""
            },
            "colorscale": [
             [
              0,
              "#0d0887"
             ],
             [
              0.1111111111111111,
              "#46039f"
             ],
             [
              0.2222222222222222,
              "#7201a8"
             ],
             [
              0.3333333333333333,
              "#9c179e"
             ],
             [
              0.4444444444444444,
              "#bd3786"
             ],
             [
              0.5555555555555556,
              "#d8576b"
             ],
             [
              0.6666666666666666,
              "#ed7953"
             ],
             [
              0.7777777777777778,
              "#fb9f3a"
             ],
             [
              0.8888888888888888,
              "#fdca26"
             ],
             [
              1,
              "#f0f921"
             ]
            ],
            "type": "contour"
           }
          ],
          "contourcarpet": [
           {
            "colorbar": {
             "outlinewidth": 0,
             "ticks": ""
            },
            "type": "contourcarpet"
           }
          ],
          "heatmap": [
           {
            "colorbar": {
             "outlinewidth": 0,
             "ticks": ""
            },
            "colorscale": [
             [
              0,
              "#0d0887"
             ],
             [
              0.1111111111111111,
              "#46039f"
             ],
             [
              0.2222222222222222,
              "#7201a8"
             ],
             [
              0.3333333333333333,
              "#9c179e"
             ],
             [
              0.4444444444444444,
              "#bd3786"
             ],
             [
              0.5555555555555556,
              "#d8576b"
             ],
             [
              0.6666666666666666,
              "#ed7953"
             ],
             [
              0.7777777777777778,
              "#fb9f3a"
             ],
             [
              0.8888888888888888,
              "#fdca26"
             ],
             [
              1,
              "#f0f921"
             ]
            ],
            "type": "heatmap"
           }
          ],
          "heatmapgl": [
           {
            "colorbar": {
             "outlinewidth": 0,
             "ticks": ""
            },
            "colorscale": [
             [
              0,
              "#0d0887"
             ],
             [
              0.1111111111111111,
              "#46039f"
             ],
             [
              0.2222222222222222,
              "#7201a8"
             ],
             [
              0.3333333333333333,
              "#9c179e"
             ],
             [
              0.4444444444444444,
              "#bd3786"
             ],
             [
              0.5555555555555556,
              "#d8576b"
             ],
             [
              0.6666666666666666,
              "#ed7953"
             ],
             [
              0.7777777777777778,
              "#fb9f3a"
             ],
             [
              0.8888888888888888,
              "#fdca26"
             ],
             [
              1,
              "#f0f921"
             ]
            ],
            "type": "heatmapgl"
           }
          ],
          "histogram": [
           {
            "marker": {
             "colorbar": {
              "outlinewidth": 0,
              "ticks": ""
             }
            },
            "type": "histogram"
           }
          ],
          "histogram2d": [
           {
            "colorbar": {
             "outlinewidth": 0,
             "ticks": ""
            },
            "colorscale": [
             [
              0,
              "#0d0887"
             ],
             [
              0.1111111111111111,
              "#46039f"
             ],
             [
              0.2222222222222222,
              "#7201a8"
             ],
             [
              0.3333333333333333,
              "#9c179e"
             ],
             [
              0.4444444444444444,
              "#bd3786"
             ],
             [
              0.5555555555555556,
              "#d8576b"
             ],
             [
              0.6666666666666666,
              "#ed7953"
             ],
             [
              0.7777777777777778,
              "#fb9f3a"
             ],
             [
              0.8888888888888888,
              "#fdca26"
             ],
             [
              1,
              "#f0f921"
             ]
            ],
            "type": "histogram2d"
           }
          ],
          "histogram2dcontour": [
           {
            "colorbar": {
             "outlinewidth": 0,
             "ticks": ""
            },
            "colorscale": [
             [
              0,
              "#0d0887"
             ],
             [
              0.1111111111111111,
              "#46039f"
             ],
             [
              0.2222222222222222,
              "#7201a8"
             ],
             [
              0.3333333333333333,
              "#9c179e"
             ],
             [
              0.4444444444444444,
              "#bd3786"
             ],
             [
              0.5555555555555556,
              "#d8576b"
             ],
             [
              0.6666666666666666,
              "#ed7953"
             ],
             [
              0.7777777777777778,
              "#fb9f3a"
             ],
             [
              0.8888888888888888,
              "#fdca26"
             ],
             [
              1,
              "#f0f921"
             ]
            ],
            "type": "histogram2dcontour"
           }
          ],
          "mesh3d": [
           {
            "colorbar": {
             "outlinewidth": 0,
             "ticks": ""
            },
            "type": "mesh3d"
           }
          ],
          "parcoords": [
           {
            "line": {
             "colorbar": {
              "outlinewidth": 0,
              "ticks": ""
             }
            },
            "type": "parcoords"
           }
          ],
          "scatter": [
           {
            "marker": {
             "colorbar": {
              "outlinewidth": 0,
              "ticks": ""
             }
            },
            "type": "scatter"
           }
          ],
          "scatter3d": [
           {
            "line": {
             "colorbar": {
              "outlinewidth": 0,
              "ticks": ""
             }
            },
            "marker": {
             "colorbar": {
              "outlinewidth": 0,
              "ticks": ""
             }
            },
            "type": "scatter3d"
           }
          ],
          "scattercarpet": [
           {
            "marker": {
             "colorbar": {
              "outlinewidth": 0,
              "ticks": ""
             }
            },
            "type": "scattercarpet"
           }
          ],
          "scattergeo": [
           {
            "marker": {
             "colorbar": {
              "outlinewidth": 0,
              "ticks": ""
             }
            },
            "type": "scattergeo"
           }
          ],
          "scattergl": [
           {
            "marker": {
             "colorbar": {
              "outlinewidth": 0,
              "ticks": ""
             }
            },
            "type": "scattergl"
           }
          ],
          "scattermapbox": [
           {
            "marker": {
             "colorbar": {
              "outlinewidth": 0,
              "ticks": ""
             }
            },
            "type": "scattermapbox"
           }
          ],
          "scatterpolar": [
           {
            "marker": {
             "colorbar": {
              "outlinewidth": 0,
              "ticks": ""
             }
            },
            "type": "scatterpolar"
           }
          ],
          "scatterpolargl": [
           {
            "marker": {
             "colorbar": {
              "outlinewidth": 0,
              "ticks": ""
             }
            },
            "type": "scatterpolargl"
           }
          ],
          "scatterternary": [
           {
            "marker": {
             "colorbar": {
              "outlinewidth": 0,
              "ticks": ""
             }
            },
            "type": "scatterternary"
           }
          ],
          "surface": [
           {
            "colorbar": {
             "outlinewidth": 0,
             "ticks": ""
            },
            "colorscale": [
             [
              0,
              "#0d0887"
             ],
             [
              0.1111111111111111,
              "#46039f"
             ],
             [
              0.2222222222222222,
              "#7201a8"
             ],
             [
              0.3333333333333333,
              "#9c179e"
             ],
             [
              0.4444444444444444,
              "#bd3786"
             ],
             [
              0.5555555555555556,
              "#d8576b"
             ],
             [
              0.6666666666666666,
              "#ed7953"
             ],
             [
              0.7777777777777778,
              "#fb9f3a"
             ],
             [
              0.8888888888888888,
              "#fdca26"
             ],
             [
              1,
              "#f0f921"
             ]
            ],
            "type": "surface"
           }
          ],
          "table": [
           {
            "cells": {
             "fill": {
              "color": "#EBF0F8"
             },
             "line": {
              "color": "white"
             }
            },
            "header": {
             "fill": {
              "color": "#C8D4E3"
             },
             "line": {
              "color": "white"
             }
            },
            "type": "table"
           }
          ]
         },
         "layout": {
          "annotationdefaults": {
           "arrowcolor": "#2a3f5f",
           "arrowhead": 0,
           "arrowwidth": 1
          },
          "colorscale": {
           "diverging": [
            [
             0,
             "#8e0152"
            ],
            [
             0.1,
             "#c51b7d"
            ],
            [
             0.2,
             "#de77ae"
            ],
            [
             0.3,
             "#f1b6da"
            ],
            [
             0.4,
             "#fde0ef"
            ],
            [
             0.5,
             "#f7f7f7"
            ],
            [
             0.6,
             "#e6f5d0"
            ],
            [
             0.7,
             "#b8e186"
            ],
            [
             0.8,
             "#7fbc41"
            ],
            [
             0.9,
             "#4d9221"
            ],
            [
             1,
             "#276419"
            ]
           ],
           "sequential": [
            [
             0,
             "#0d0887"
            ],
            [
             0.1111111111111111,
             "#46039f"
            ],
            [
             0.2222222222222222,
             "#7201a8"
            ],
            [
             0.3333333333333333,
             "#9c179e"
            ],
            [
             0.4444444444444444,
             "#bd3786"
            ],
            [
             0.5555555555555556,
             "#d8576b"
            ],
            [
             0.6666666666666666,
             "#ed7953"
            ],
            [
             0.7777777777777778,
             "#fb9f3a"
            ],
            [
             0.8888888888888888,
             "#fdca26"
            ],
            [
             1,
             "#f0f921"
            ]
           ],
           "sequentialminus": [
            [
             0,
             "#0d0887"
            ],
            [
             0.1111111111111111,
             "#46039f"
            ],
            [
             0.2222222222222222,
             "#7201a8"
            ],
            [
             0.3333333333333333,
             "#9c179e"
            ],
            [
             0.4444444444444444,
             "#bd3786"
            ],
            [
             0.5555555555555556,
             "#d8576b"
            ],
            [
             0.6666666666666666,
             "#ed7953"
            ],
            [
             0.7777777777777778,
             "#fb9f3a"
            ],
            [
             0.8888888888888888,
             "#fdca26"
            ],
            [
             1,
             "#f0f921"
            ]
           ]
          },
          "colorway": [
           "#636efa",
           "#EF553B",
           "#00cc96",
           "#ab63fa",
           "#FFA15A",
           "#19d3f3",
           "#FF6692",
           "#B6E880",
           "#FF97FF",
           "#FECB52"
          ],
          "font": {
           "color": "#2a3f5f"
          },
          "geo": {
           "bgcolor": "white",
           "lakecolor": "white",
           "landcolor": "#E5ECF6",
           "showlakes": true,
           "showland": true,
           "subunitcolor": "white"
          },
          "hoverlabel": {
           "align": "left"
          },
          "hovermode": "closest",
          "mapbox": {
           "style": "light"
          },
          "paper_bgcolor": "white",
          "plot_bgcolor": "#E5ECF6",
          "polar": {
           "angularaxis": {
            "gridcolor": "white",
            "linecolor": "white",
            "ticks": ""
           },
           "bgcolor": "#E5ECF6",
           "radialaxis": {
            "gridcolor": "white",
            "linecolor": "white",
            "ticks": ""
           }
          },
          "scene": {
           "xaxis": {
            "backgroundcolor": "#E5ECF6",
            "gridcolor": "white",
            "gridwidth": 2,
            "linecolor": "white",
            "showbackground": true,
            "ticks": "",
            "zerolinecolor": "white"
           },
           "yaxis": {
            "backgroundcolor": "#E5ECF6",
            "gridcolor": "white",
            "gridwidth": 2,
            "linecolor": "white",
            "showbackground": true,
            "ticks": "",
            "zerolinecolor": "white"
           },
           "zaxis": {
            "backgroundcolor": "#E5ECF6",
            "gridcolor": "white",
            "gridwidth": 2,
            "linecolor": "white",
            "showbackground": true,
            "ticks": "",
            "zerolinecolor": "white"
           }
          },
          "shapedefaults": {
           "line": {
            "color": "#2a3f5f"
           }
          },
          "ternary": {
           "aaxis": {
            "gridcolor": "white",
            "linecolor": "white",
            "ticks": ""
           },
           "baxis": {
            "gridcolor": "white",
            "linecolor": "white",
            "ticks": ""
           },
           "bgcolor": "#E5ECF6",
           "caxis": {
            "gridcolor": "white",
            "linecolor": "white",
            "ticks": ""
           }
          },
          "title": {
           "x": 0.05
          },
          "xaxis": {
           "automargin": true,
           "gridcolor": "white",
           "linecolor": "white",
           "ticks": "",
           "zerolinecolor": "white",
           "zerolinewidth": 2
          },
          "yaxis": {
           "automargin": true,
           "gridcolor": "white",
           "linecolor": "white",
           "ticks": "",
           "zerolinecolor": "white",
           "zerolinewidth": 2
          }
         }
        },
        "title": {
         "text": "The Precision of Direct Trust Analysis with Different LIWC Threshold"
        },
        "xaxis": {
         "autorange": true,
         "range": [
          -2.0268576544315127,
          53.02685765443151
         ],
         "type": "linear"
        },
        "yaxis": {
         "autorange": true,
         "range": [
          0.2615418095255564,
          0.40692287896330176
         ],
         "type": "linear"
        }
       }
      },
      "image/png": "[encoded data removed]",
      "text/html": [
       "<div>\n",
       "        \n",
       "        \n",
       "            <div id=\"e5015869-8fad-4dc8-8388-0fa52f53ce22\" class=\"plotly-graph-div\" style=\"height:525px; width:100%;\"></div>\n",
       "            <script type=\"text/javascript\">\n",
       "                require([\"plotly\"], function(Plotly) {\n",
       "                    window.PLOTLYENV=window.PLOTLYENV || {};\n",
       "                    \n",
       "                if (document.getElementById(\"e5015869-8fad-4dc8-8388-0fa52f53ce22\")) {\n",
       "                    Plotly.newPlot(\n",
       "                        'e5015869-8fad-4dc8-8388-0fa52f53ce22',\n",
       "                        [{\"marker\": {\"symbol\": 1}, \"mode\": \"lines+markers\", \"type\": \"scatter\", \"x\": [1, 2, 3, 4, 5, 6, 7, 8, 9, 10, 11, 12, 13, 14, 15, 16, 17, 18, 19, 20, 21, 22, 23, 24, 25, 26, 27, 28, 29, 30, 31, 32, 33, 34, 35, 36, 37, 38, 39, 40, 41, 42, 43, 44, 45, 46, 47, 48, 49, 50], \"y\": [0.3976346439714458, 0.37417267245183117, 0.3591903520998727, 0.3511395267919276, 0.3425018694254504, 0.3367986567790681, 0.33031184817037057, 0.3255623381867414, 0.3206668001156558, 0.31669012249152984, 0.31437088987441864, 0.3124343713120162, 0.30930711161969643, 0.3070109732925379, 0.3040610870767329, 0.3021642141515341, 0.3001606410522934, 0.298157141760856, 0.2963179055236721, 0.29516230323371045, 0.293519245220005, 0.2917356017873194, 0.2906265435616855, 0.2897570130383248, 0.28812691451583267, 0.2869125239710872, 0.2857987807165094, 0.28492494392687046, 0.2840859952766906, 0.2828520405941025, 0.2821947769634516, 0.2813992343414942, 0.2804701856499298, 0.27987145927336804, 0.27917723471991207, 0.27875675087538826, 0.2779728501494923, 0.2771724502547342, 0.2766015947209238, 0.2760023419203747, 0.2754185938945421, 0.2749243332762264, 0.2742458904217865, 0.2736562837771445, 0.2728939104163814, 0.2724460098410229, 0.2719927002722262, 0.2716309247224334, 0.271034266114243, 0.2708300445174123]}],\n",
       "                        {\"template\": {\"data\": {\"bar\": [{\"error_x\": {\"color\": \"#2a3f5f\"}, \"error_y\": {\"color\": \"#2a3f5f\"}, \"marker\": {\"line\": {\"color\": \"#E5ECF6\", \"width\": 0.5}}, \"type\": \"bar\"}], \"barpolar\": [{\"marker\": {\"line\": {\"color\": \"#E5ECF6\", \"width\": 0.5}}, \"type\": \"barpolar\"}], \"carpet\": [{\"aaxis\": {\"endlinecolor\": \"#2a3f5f\", \"gridcolor\": \"white\", \"linecolor\": \"white\", \"minorgridcolor\": \"white\", \"startlinecolor\": \"#2a3f5f\"}, \"baxis\": {\"endlinecolor\": \"#2a3f5f\", \"gridcolor\": \"white\", \"linecolor\": \"white\", \"minorgridcolor\": \"white\", \"startlinecolor\": \"#2a3f5f\"}, \"type\": \"carpet\"}], \"choropleth\": [{\"colorbar\": {\"outlinewidth\": 0, \"ticks\": \"\"}, \"type\": \"choropleth\"}], \"contour\": [{\"colorbar\": {\"outlinewidth\": 0, \"ticks\": \"\"}, \"colorscale\": [[0.0, \"#0d0887\"], [0.1111111111111111, \"#46039f\"], [0.2222222222222222, \"#7201a8\"], [0.3333333333333333, \"#9c179e\"], [0.4444444444444444, \"#bd3786\"], [0.5555555555555556, \"#d8576b\"], [0.6666666666666666, \"#ed7953\"], [0.7777777777777778, \"#fb9f3a\"], [0.8888888888888888, \"#fdca26\"], [1.0, \"#f0f921\"]], \"type\": \"contour\"}], \"contourcarpet\": [{\"colorbar\": {\"outlinewidth\": 0, \"ticks\": \"\"}, \"type\": \"contourcarpet\"}], \"heatmap\": [{\"colorbar\": {\"outlinewidth\": 0, \"ticks\": \"\"}, \"colorscale\": [[0.0, \"#0d0887\"], [0.1111111111111111, \"#46039f\"], [0.2222222222222222, \"#7201a8\"], [0.3333333333333333, \"#9c179e\"], [0.4444444444444444, \"#bd3786\"], [0.5555555555555556, \"#d8576b\"], [0.6666666666666666, \"#ed7953\"], [0.7777777777777778, \"#fb9f3a\"], [0.8888888888888888, \"#fdca26\"], [1.0, \"#f0f921\"]], \"type\": \"heatmap\"}], \"heatmapgl\": [{\"colorbar\": {\"outlinewidth\": 0, \"ticks\": \"\"}, \"colorscale\": [[0.0, \"#0d0887\"], [0.1111111111111111, \"#46039f\"], [0.2222222222222222, \"#7201a8\"], [0.3333333333333333, \"#9c179e\"], [0.4444444444444444, \"#bd3786\"], [0.5555555555555556, \"#d8576b\"], [0.6666666666666666, \"#ed7953\"], [0.7777777777777778, \"#fb9f3a\"], [0.8888888888888888, \"#fdca26\"], [1.0, \"#f0f921\"]], \"type\": \"heatmapgl\"}], \"histogram\": [{\"marker\": {\"colorbar\": {\"outlinewidth\": 0, \"ticks\": \"\"}}, \"type\": \"histogram\"}], \"histogram2d\": [{\"colorbar\": {\"outlinewidth\": 0, \"ticks\": \"\"}, \"colorscale\": [[0.0, \"#0d0887\"], [0.1111111111111111, \"#46039f\"], [0.2222222222222222, \"#7201a8\"], [0.3333333333333333, \"#9c179e\"], [0.4444444444444444, \"#bd3786\"], [0.5555555555555556, \"#d8576b\"], [0.6666666666666666, \"#ed7953\"], [0.7777777777777778, \"#fb9f3a\"], [0.8888888888888888, \"#fdca26\"], [1.0, \"#f0f921\"]], \"type\": \"histogram2d\"}], \"histogram2dcontour\": [{\"colorbar\": {\"outlinewidth\": 0, \"ticks\": \"\"}, \"colorscale\": [[0.0, \"#0d0887\"], [0.1111111111111111, \"#46039f\"], [0.2222222222222222, \"#7201a8\"], [0.3333333333333333, \"#9c179e\"], [0.4444444444444444, \"#bd3786\"], [0.5555555555555556, \"#d8576b\"], [0.6666666666666666, \"#ed7953\"], [0.7777777777777778, \"#fb9f3a\"], [0.8888888888888888, \"#fdca26\"], [1.0, \"#f0f921\"]], \"type\": \"histogram2dcontour\"}], \"mesh3d\": [{\"colorbar\": {\"outlinewidth\": 0, \"ticks\": \"\"}, \"type\": \"mesh3d\"}], \"parcoords\": [{\"line\": {\"colorbar\": {\"outlinewidth\": 0, \"ticks\": \"\"}}, \"type\": \"parcoords\"}], \"scatter\": [{\"marker\": {\"colorbar\": {\"outlinewidth\": 0, \"ticks\": \"\"}}, \"type\": \"scatter\"}], \"scatter3d\": [{\"line\": {\"colorbar\": {\"outlinewidth\": 0, \"ticks\": \"\"}}, \"marker\": {\"colorbar\": {\"outlinewidth\": 0, \"ticks\": \"\"}}, \"type\": \"scatter3d\"}], \"scattercarpet\": [{\"marker\": {\"colorbar\": {\"outlinewidth\": 0, \"ticks\": \"\"}}, \"type\": \"scattercarpet\"}], \"scattergeo\": [{\"marker\": {\"colorbar\": {\"outlinewidth\": 0, \"ticks\": \"\"}}, \"type\": \"scattergeo\"}], \"scattergl\": [{\"marker\": {\"colorbar\": {\"outlinewidth\": 0, \"ticks\": \"\"}}, \"type\": \"scattergl\"}], \"scattermapbox\": [{\"marker\": {\"colorbar\": {\"outlinewidth\": 0, \"ticks\": \"\"}}, \"type\": \"scattermapbox\"}], \"scatterpolar\": [{\"marker\": {\"colorbar\": {\"outlinewidth\": 0, \"ticks\": \"\"}}, \"type\": \"scatterpolar\"}], \"scatterpolargl\": [{\"marker\": {\"colorbar\": {\"outlinewidth\": 0, \"ticks\": \"\"}}, \"type\": \"scatterpolargl\"}], \"scatterternary\": [{\"marker\": {\"colorbar\": {\"outlinewidth\": 0, \"ticks\": \"\"}}, \"type\": \"scatterternary\"}], \"surface\": [{\"colorbar\": {\"outlinewidth\": 0, \"ticks\": \"\"}, \"colorscale\": [[0.0, \"#0d0887\"], [0.1111111111111111, \"#46039f\"], [0.2222222222222222, \"#7201a8\"], [0.3333333333333333, \"#9c179e\"], [0.4444444444444444, \"#bd3786\"], [0.5555555555555556, \"#d8576b\"], [0.6666666666666666, \"#ed7953\"], [0.7777777777777778, \"#fb9f3a\"], [0.8888888888888888, \"#fdca26\"], [1.0, \"#f0f921\"]], \"type\": \"surface\"}], \"table\": [{\"cells\": {\"fill\": {\"color\": \"#EBF0F8\"}, \"line\": {\"color\": \"white\"}}, \"header\": {\"fill\": {\"color\": \"#C8D4E3\"}, \"line\": {\"color\": \"white\"}}, \"type\": \"table\"}]}, \"layout\": {\"annotationdefaults\": {\"arrowcolor\": \"#2a3f5f\", \"arrowhead\": 0, \"arrowwidth\": 1}, \"colorscale\": {\"diverging\": [[0, \"#8e0152\"], [0.1, \"#c51b7d\"], [0.2, \"#de77ae\"], [0.3, \"#f1b6da\"], [0.4, \"#fde0ef\"], [0.5, \"#f7f7f7\"], [0.6, \"#e6f5d0\"], [0.7, \"#b8e186\"], [0.8, \"#7fbc41\"], [0.9, \"#4d9221\"], [1, \"#276419\"]], \"sequential\": [[0.0, \"#0d0887\"], [0.1111111111111111, \"#46039f\"], [0.2222222222222222, \"#7201a8\"], [0.3333333333333333, \"#9c179e\"], [0.4444444444444444, \"#bd3786\"], [0.5555555555555556, \"#d8576b\"], [0.6666666666666666, \"#ed7953\"], [0.7777777777777778, \"#fb9f3a\"], [0.8888888888888888, \"#fdca26\"], [1.0, \"#f0f921\"]], \"sequentialminus\": [[0.0, \"#0d0887\"], [0.1111111111111111, \"#46039f\"], [0.2222222222222222, \"#7201a8\"], [0.3333333333333333, \"#9c179e\"], [0.4444444444444444, \"#bd3786\"], [0.5555555555555556, \"#d8576b\"], [0.6666666666666666, \"#ed7953\"], [0.7777777777777778, \"#fb9f3a\"], [0.8888888888888888, \"#fdca26\"], [1.0, \"#f0f921\"]]}, \"colorway\": [\"#636efa\", \"#EF553B\", \"#00cc96\", \"#ab63fa\", \"#FFA15A\", \"#19d3f3\", \"#FF6692\", \"#B6E880\", \"#FF97FF\", \"#FECB52\"], \"font\": {\"color\": \"#2a3f5f\"}, \"geo\": {\"bgcolor\": \"white\", \"lakecolor\": \"white\", \"landcolor\": \"#E5ECF6\", \"showlakes\": true, \"showland\": true, \"subunitcolor\": \"white\"}, \"hoverlabel\": {\"align\": \"left\"}, \"hovermode\": \"closest\", \"mapbox\": {\"style\": \"light\"}, \"paper_bgcolor\": \"white\", \"plot_bgcolor\": \"#E5ECF6\", \"polar\": {\"angularaxis\": {\"gridcolor\": \"white\", \"linecolor\": \"white\", \"ticks\": \"\"}, \"bgcolor\": \"#E5ECF6\", \"radialaxis\": {\"gridcolor\": \"white\", \"linecolor\": \"white\", \"ticks\": \"\"}}, \"scene\": {\"xaxis\": {\"backgroundcolor\": \"#E5ECF6\", \"gridcolor\": \"white\", \"gridwidth\": 2, \"linecolor\": \"white\", \"showbackground\": true, \"ticks\": \"\", \"zerolinecolor\": \"white\"}, \"yaxis\": {\"backgroundcolor\": \"#E5ECF6\", \"gridcolor\": \"white\", \"gridwidth\": 2, \"linecolor\": \"white\", \"showbackground\": true, \"ticks\": \"\", \"zerolinecolor\": \"white\"}, \"zaxis\": {\"backgroundcolor\": \"#E5ECF6\", \"gridcolor\": \"white\", \"gridwidth\": 2, \"linecolor\": \"white\", \"showbackground\": true, \"ticks\": \"\", \"zerolinecolor\": \"white\"}}, \"shapedefaults\": {\"line\": {\"color\": \"#2a3f5f\"}}, \"ternary\": {\"aaxis\": {\"gridcolor\": \"white\", \"linecolor\": \"white\", \"ticks\": \"\"}, \"baxis\": {\"gridcolor\": \"white\", \"linecolor\": \"white\", \"ticks\": \"\"}, \"bgcolor\": \"#E5ECF6\", \"caxis\": {\"gridcolor\": \"white\", \"linecolor\": \"white\", \"ticks\": \"\"}}, \"title\": {\"x\": 0.05}, \"xaxis\": {\"automargin\": true, \"gridcolor\": \"white\", \"linecolor\": \"white\", \"ticks\": \"\", \"zerolinecolor\": \"white\", \"zerolinewidth\": 2}, \"yaxis\": {\"automargin\": true, \"gridcolor\": \"white\", \"linecolor\": \"white\", \"ticks\": \"\", \"zerolinecolor\": \"white\", \"zerolinewidth\": 2}}}, \"title\": {\"text\": \"The Precision of Direct Trust Analysis with Different LIWC Threshold\"}},\n",
       "                        {\"responsive\": true}\n",
       "                    ).then(function(){\n",
       "                            \n",
       "var gd = document.getElementById('e5015869-8fad-4dc8-8388-0fa52f53ce22');\n",
       "var x = new MutationObserver(function (mutations, observer) {{\n",
       "        var display = window.getComputedStyle(gd).display;\n",
       "        if (!display || display === 'none') {{\n",
       "            console.log([gd, 'removed!']);\n",
       "            Plotly.purge(gd);\n",
       "            observer.disconnect();\n",
       "        }}\n",
       "}});\n",
       "\n",
       "// Listen for the removal of the full notebook cells\n",
       "var notebookContainer = gd.closest('#notebook-container');\n",
       "if (notebookContainer) {{\n",
       "    x.observe(notebookContainer, {childList: true});\n",
       "}}\n",
       "\n",
       "// Listen for the clearing of the current output cell\n",
       "var outputEl = gd.closest('.output');\n",
       "if (outputEl) {{\n",
       "    x.observe(outputEl, {childList: true});\n",
       "}}\n",
       "\n",
       "                        })\n",
       "                };\n",
       "                });\n",
       "            </script>\n",
       "        </div>"
      ]
     },
     "metadata": {},
     "output_type": "display_data"
    },
    {
     "data": {
      "application/vnd.plotly.v1+json": {
       "config": {
        "linkText": "Export to plot.ly",
        "plotlyServerURL": "https://plot.ly",
        "showLink": false
       },
       "data": [
        {
         "marker": {
          "symbol": 101
         },
         "mode": "lines+markers",
         "type": "scatter",
         "x": [
          1,
          2,
          3,
          4,
          5,
          6,
          7,
          8,
          9,
          10,
          11,
          12,
          13,
          14,
          15,
          16,
          17,
          18,
          19,
          20,
          21,
          22,
          23,
          24,
          25,
          26,
          27,
          28,
          29,
          30,
          31,
          32,
          33,
          34,
          35,
          36,
          37,
          38,
          39,
          40,
          41,
          42,
          43,
          44,
          45,
          46,
          47,
          48,
          49,
          50
         ],
         "y": [
          0.16065630032471817,
          0.20148367169143852,
          0.23470788563584044,
          0.26642070804403495,
          0.2932297579133557,
          0.3177354206816442,
          0.3386309036669395,
          0.3618495736423876,
          0.38061986852873625,
          0.40099395443385516,
          0.42246363420364846,
          0.4438079146756778,
          0.4602616225349138,
          0.4788075186778954,
          0.493558436072758,
          0.5095765463713403,
          0.5241162649489163,
          0.5384975844135272,
          0.5530703028063043,
          0.5676628210882019,
          0.5800509517146704,
          0.5912114892156604,
          0.6057974075345178,
          0.6195517305103091,
          0.631345864463159,
          0.6418398056970881,
          0.6537725388737823,
          0.6656986720874363,
          0.6764170120647325,
          0.6857625597296655,
          0.6965600992634441,
          0.705866047150136,
          0.7162081892341403,
          0.7254019377491486,
          0.7344570870403125,
          0.7439940336334117,
          0.7529039837376911,
          0.7612199371683519,
          0.7701892869399931,
          0.7778254441775126,
          0.7859961984212889,
          0.7943385517041105,
          0.8014863116766546,
          0.8087594709469627,
          0.8155442329522955,
          0.8229625914094881,
          0.8302225507537158,
          0.8372251115393754,
          0.8427756804561894,
          0.8492172443834315
         ]
        }
       ],
       "layout": {
        "autosize": true,
        "template": {
         "data": {
          "bar": [
           {
            "error_x": {
             "color": "#2a3f5f"
            },
            "error_y": {
             "color": "#2a3f5f"
            },
            "marker": {
             "line": {
              "color": "#E5ECF6",
              "width": 0.5
             }
            },
            "type": "bar"
           }
          ],
          "barpolar": [
           {
            "marker": {
             "line": {
              "color": "#E5ECF6",
              "width": 0.5
             }
            },
            "type": "barpolar"
           }
          ],
          "carpet": [
           {
            "aaxis": {
             "endlinecolor": "#2a3f5f",
             "gridcolor": "white",
             "linecolor": "white",
             "minorgridcolor": "white",
             "startlinecolor": "#2a3f5f"
            },
            "baxis": {
             "endlinecolor": "#2a3f5f",
             "gridcolor": "white",
             "linecolor": "white",
             "minorgridcolor": "white",
             "startlinecolor": "#2a3f5f"
            },
            "type": "carpet"
           }
          ],
          "choropleth": [
           {
            "colorbar": {
             "outlinewidth": 0,
             "ticks": ""
            },
            "type": "choropleth"
           }
          ],
          "contour": [
           {
            "colorbar": {
             "outlinewidth": 0,
             "ticks": ""
            },
            "colorscale": [
             [
              0,
              "#0d0887"
             ],
             [
              0.1111111111111111,
              "#46039f"
             ],
             [
              0.2222222222222222,
              "#7201a8"
             ],
             [
              0.3333333333333333,
              "#9c179e"
             ],
             [
              0.4444444444444444,
              "#bd3786"
             ],
             [
              0.5555555555555556,
              "#d8576b"
             ],
             [
              0.6666666666666666,
              "#ed7953"
             ],
             [
              0.7777777777777778,
              "#fb9f3a"
             ],
             [
              0.8888888888888888,
              "#fdca26"
             ],
             [
              1,
              "#f0f921"
             ]
            ],
            "type": "contour"
           }
          ],
          "contourcarpet": [
           {
            "colorbar": {
             "outlinewidth": 0,
             "ticks": ""
            },
            "type": "contourcarpet"
           }
          ],
          "heatmap": [
           {
            "colorbar": {
             "outlinewidth": 0,
             "ticks": ""
            },
            "colorscale": [
             [
              0,
              "#0d0887"
             ],
             [
              0.1111111111111111,
              "#46039f"
             ],
             [
              0.2222222222222222,
              "#7201a8"
             ],
             [
              0.3333333333333333,
              "#9c179e"
             ],
             [
              0.4444444444444444,
              "#bd3786"
             ],
             [
              0.5555555555555556,
              "#d8576b"
             ],
             [
              0.6666666666666666,
              "#ed7953"
             ],
             [
              0.7777777777777778,
              "#fb9f3a"
             ],
             [
              0.8888888888888888,
              "#fdca26"
             ],
             [
              1,
              "#f0f921"
             ]
            ],
            "type": "heatmap"
           }
          ],
          "heatmapgl": [
           {
            "colorbar": {
             "outlinewidth": 0,
             "ticks": ""
            },
            "colorscale": [
             [
              0,
              "#0d0887"
             ],
             [
              0.1111111111111111,
              "#46039f"
             ],
             [
              0.2222222222222222,
              "#7201a8"
             ],
             [
              0.3333333333333333,
              "#9c179e"
             ],
             [
              0.4444444444444444,
              "#bd3786"
             ],
             [
              0.5555555555555556,
              "#d8576b"
             ],
             [
              0.6666666666666666,
              "#ed7953"
             ],
             [
              0.7777777777777778,
              "#fb9f3a"
             ],
             [
              0.8888888888888888,
              "#fdca26"
             ],
             [
              1,
              "#f0f921"
             ]
            ],
            "type": "heatmapgl"
           }
          ],
          "histogram": [
           {
            "marker": {
             "colorbar": {
              "outlinewidth": 0,
              "ticks": ""
             }
            },
            "type": "histogram"
           }
          ],
          "histogram2d": [
           {
            "colorbar": {
             "outlinewidth": 0,
             "ticks": ""
            },
            "colorscale": [
             [
              0,
              "#0d0887"
             ],
             [
              0.1111111111111111,
              "#46039f"
             ],
             [
              0.2222222222222222,
              "#7201a8"
             ],
             [
              0.3333333333333333,
              "#9c179e"
             ],
             [
              0.4444444444444444,
              "#bd3786"
             ],
             [
              0.5555555555555556,
              "#d8576b"
             ],
             [
              0.6666666666666666,
              "#ed7953"
             ],
             [
              0.7777777777777778,
              "#fb9f3a"
             ],
             [
              0.8888888888888888,
              "#fdca26"
             ],
             [
              1,
              "#f0f921"
             ]
            ],
            "type": "histogram2d"
           }
          ],
          "histogram2dcontour": [
           {
            "colorbar": {
             "outlinewidth": 0,
             "ticks": ""
            },
            "colorscale": [
             [
              0,
              "#0d0887"
             ],
             [
              0.1111111111111111,
              "#46039f"
             ],
             [
              0.2222222222222222,
              "#7201a8"
             ],
             [
              0.3333333333333333,
              "#9c179e"
             ],
             [
              0.4444444444444444,
              "#bd3786"
             ],
             [
              0.5555555555555556,
              "#d8576b"
             ],
             [
              0.6666666666666666,
              "#ed7953"
             ],
             [
              0.7777777777777778,
              "#fb9f3a"
             ],
             [
              0.8888888888888888,
              "#fdca26"
             ],
             [
              1,
              "#f0f921"
             ]
            ],
            "type": "histogram2dcontour"
           }
          ],
          "mesh3d": [
           {
            "colorbar": {
             "outlinewidth": 0,
             "ticks": ""
            },
            "type": "mesh3d"
           }
          ],
          "parcoords": [
           {
            "line": {
             "colorbar": {
              "outlinewidth": 0,
              "ticks": ""
             }
            },
            "type": "parcoords"
           }
          ],
          "scatter": [
           {
            "marker": {
             "colorbar": {
              "outlinewidth": 0,
              "ticks": ""
             }
            },
            "type": "scatter"
           }
          ],
          "scatter3d": [
           {
            "line": {
             "colorbar": {
              "outlinewidth": 0,
              "ticks": ""
             }
            },
            "marker": {
             "colorbar": {
              "outlinewidth": 0,
              "ticks": ""
             }
            },
            "type": "scatter3d"
           }
          ],
          "scattercarpet": [
           {
            "marker": {
             "colorbar": {
              "outlinewidth": 0,
              "ticks": ""
             }
            },
            "type": "scattercarpet"
           }
          ],
          "scattergeo": [
           {
            "marker": {
             "colorbar": {
              "outlinewidth": 0,
              "ticks": ""
             }
            },
            "type": "scattergeo"
           }
          ],
          "scattergl": [
           {
            "marker": {
             "colorbar": {
              "outlinewidth": 0,
              "ticks": ""
             }
            },
            "type": "scattergl"
           }
          ],
          "scattermapbox": [
           {
            "marker": {
             "colorbar": {
              "outlinewidth": 0,
              "ticks": ""
             }
            },
            "type": "scattermapbox"
           }
          ],
          "scatterpolar": [
           {
            "marker": {
             "colorbar": {
              "outlinewidth": 0,
              "ticks": ""
             }
            },
            "type": "scatterpolar"
           }
          ],
          "scatterpolargl": [
           {
            "marker": {
             "colorbar": {
              "outlinewidth": 0,
              "ticks": ""
             }
            },
            "type": "scatterpolargl"
           }
          ],
          "scatterternary": [
           {
            "marker": {
             "colorbar": {
              "outlinewidth": 0,
              "ticks": ""
             }
            },
            "type": "scatterternary"
           }
          ],
          "surface": [
           {
            "colorbar": {
             "outlinewidth": 0,
             "ticks": ""
            },
            "colorscale": [
             [
              0,
              "#0d0887"
             ],
             [
              0.1111111111111111,
              "#46039f"
             ],
             [
              0.2222222222222222,
              "#7201a8"
             ],
             [
              0.3333333333333333,
              "#9c179e"
             ],
             [
              0.4444444444444444,
              "#bd3786"
             ],
             [
              0.5555555555555556,
              "#d8576b"
             ],
             [
              0.6666666666666666,
              "#ed7953"
             ],
             [
              0.7777777777777778,
              "#fb9f3a"
             ],
             [
              0.8888888888888888,
              "#fdca26"
             ],
             [
              1,
              "#f0f921"
             ]
            ],
            "type": "surface"
           }
          ],
          "table": [
           {
            "cells": {
             "fill": {
              "color": "#EBF0F8"
             },
             "line": {
              "color": "white"
             }
            },
            "header": {
             "fill": {
              "color": "#C8D4E3"
             },
             "line": {
              "color": "white"
             }
            },
            "type": "table"
           }
          ]
         },
         "layout": {
          "annotationdefaults": {
           "arrowcolor": "#2a3f5f",
           "arrowhead": 0,
           "arrowwidth": 1
          },
          "colorscale": {
           "diverging": [
            [
             0,
             "#8e0152"
            ],
            [
             0.1,
             "#c51b7d"
            ],
            [
             0.2,
             "#de77ae"
            ],
            [
             0.3,
             "#f1b6da"
            ],
            [
             0.4,
             "#fde0ef"
            ],
            [
             0.5,
             "#f7f7f7"
            ],
            [
             0.6,
             "#e6f5d0"
            ],
            [
             0.7,
             "#b8e186"
            ],
            [
             0.8,
             "#7fbc41"
            ],
            [
             0.9,
             "#4d9221"
            ],
            [
             1,
             "#276419"
            ]
           ],
           "sequential": [
            [
             0,
             "#0d0887"
            ],
            [
             0.1111111111111111,
             "#46039f"
            ],
            [
             0.2222222222222222,
             "#7201a8"
            ],
            [
             0.3333333333333333,
             "#9c179e"
            ],
            [
             0.4444444444444444,
             "#bd3786"
            ],
            [
             0.5555555555555556,
             "#d8576b"
            ],
            [
             0.6666666666666666,
             "#ed7953"
            ],
            [
             0.7777777777777778,
             "#fb9f3a"
            ],
            [
             0.8888888888888888,
             "#fdca26"
            ],
            [
             1,
             "#f0f921"
            ]
           ],
           "sequentialminus": [
            [
             0,
             "#0d0887"
            ],
            [
             0.1111111111111111,
             "#46039f"
            ],
            [
             0.2222222222222222,
             "#7201a8"
            ],
            [
             0.3333333333333333,
             "#9c179e"
            ],
            [
             0.4444444444444444,
             "#bd3786"
            ],
            [
             0.5555555555555556,
             "#d8576b"
            ],
            [
             0.6666666666666666,
             "#ed7953"
            ],
            [
             0.7777777777777778,
             "#fb9f3a"
            ],
            [
             0.8888888888888888,
             "#fdca26"
            ],
            [
             1,
             "#f0f921"
            ]
           ]
          },
          "colorway": [
           "#636efa",
           "#EF553B",
           "#00cc96",
           "#ab63fa",
           "#FFA15A",
           "#19d3f3",
           "#FF6692",
           "#B6E880",
           "#FF97FF",
           "#FECB52"
          ],
          "font": {
           "color": "#2a3f5f"
          },
          "geo": {
           "bgcolor": "white",
           "lakecolor": "white",
           "landcolor": "#E5ECF6",
           "showlakes": true,
           "showland": true,
           "subunitcolor": "white"
          },
          "hoverlabel": {
           "align": "left"
          },
          "hovermode": "closest",
          "mapbox": {
           "style": "light"
          },
          "paper_bgcolor": "white",
          "plot_bgcolor": "#E5ECF6",
          "polar": {
           "angularaxis": {
            "gridcolor": "white",
            "linecolor": "white",
            "ticks": ""
           },
           "bgcolor": "#E5ECF6",
           "radialaxis": {
            "gridcolor": "white",
            "linecolor": "white",
            "ticks": ""
           }
          },
          "scene": {
           "xaxis": {
            "backgroundcolor": "#E5ECF6",
            "gridcolor": "white",
            "gridwidth": 2,
            "linecolor": "white",
            "showbackground": true,
            "ticks": "",
            "zerolinecolor": "white"
           },
           "yaxis": {
            "backgroundcolor": "#E5ECF6",
            "gridcolor": "white",
            "gridwidth": 2,
            "linecolor": "white",
            "showbackground": true,
            "ticks": "",
            "zerolinecolor": "white"
           },
           "zaxis": {
            "backgroundcolor": "#E5ECF6",
            "gridcolor": "white",
            "gridwidth": 2,
            "linecolor": "white",
            "showbackground": true,
            "ticks": "",
            "zerolinecolor": "white"
           }
          },
          "shapedefaults": {
           "line": {
            "color": "#2a3f5f"
           }
          },
          "ternary": {
           "aaxis": {
            "gridcolor": "white",
            "linecolor": "white",
            "ticks": ""
           },
           "baxis": {
            "gridcolor": "white",
            "linecolor": "white",
            "ticks": ""
           },
           "bgcolor": "#E5ECF6",
           "caxis": {
            "gridcolor": "white",
            "linecolor": "white",
            "ticks": ""
           }
          },
          "title": {
           "x": 0.05
          },
          "xaxis": {
           "automargin": true,
           "gridcolor": "white",
           "linecolor": "white",
           "ticks": "",
           "zerolinecolor": "white",
           "zerolinewidth": 2
          },
          "yaxis": {
           "automargin": true,
           "gridcolor": "white",
           "linecolor": "white",
           "ticks": "",
           "zerolinecolor": "white",
           "zerolinewidth": 2
          }
         }
        },
        "title": {
         "text": "The Recall of Direct Trust Analysis with Different LIWC Threshold"
        },
        "xaxis": {
         "autorange": true,
         "range": [
          -2.0268576544315127,
          53.02685765443151
         ],
         "type": "linear"
        },
        "yaxis": {
         "autorange": true,
         "range": [
          0.11022030760704171,
          0.8996532371011079
         ],
         "type": "linear"
        }
       }
      },
      "image/png": "[encoded data removed]",
      "text/html": [
       "<div>\n",
       "        \n",
       "        \n",
       "            <div id=\"d6ef0c88-b557-4200-a004-548d8fd5226c\" class=\"plotly-graph-div\" style=\"height:525px; width:100%;\"></div>\n",
       "            <script type=\"text/javascript\">\n",
       "                require([\"plotly\"], function(Plotly) {\n",
       "                    window.PLOTLYENV=window.PLOTLYENV || {};\n",
       "                    \n",
       "                if (document.getElementById(\"d6ef0c88-b557-4200-a004-548d8fd5226c\")) {\n",
       "                    Plotly.newPlot(\n",
       "                        'd6ef0c88-b557-4200-a004-548d8fd5226c',\n",
       "                        [{\"marker\": {\"symbol\": 101}, \"mode\": \"lines+markers\", \"type\": \"scatter\", \"x\": [1, 2, 3, 4, 5, 6, 7, 8, 9, 10, 11, 12, 13, 14, 15, 16, 17, 18, 19, 20, 21, 22, 23, 24, 25, 26, 27, 28, 29, 30, 31, 32, 33, 34, 35, 36, 37, 38, 39, 40, 41, 42, 43, 44, 45, 46, 47, 48, 49, 50], \"y\": [0.16065630032471817, 0.20148367169143852, 0.23470788563584044, 0.26642070804403495, 0.2932297579133557, 0.3177354206816442, 0.3386309036669395, 0.3618495736423876, 0.38061986852873625, 0.40099395443385516, 0.42246363420364846, 0.4438079146756778, 0.4602616225349138, 0.4788075186778954, 0.493558436072758, 0.5095765463713403, 0.5241162649489163, 0.5384975844135272, 0.5530703028063043, 0.5676628210882019, 0.5800509517146704, 0.5912114892156604, 0.6057974075345178, 0.6195517305103091, 0.631345864463159, 0.6418398056970881, 0.6537725388737823, 0.6656986720874363, 0.6764170120647325, 0.6857625597296655, 0.6965600992634441, 0.705866047150136, 0.7162081892341403, 0.7254019377491486, 0.7344570870403125, 0.7439940336334117, 0.7529039837376911, 0.7612199371683519, 0.7701892869399931, 0.7778254441775126, 0.7859961984212889, 0.7943385517041105, 0.8014863116766546, 0.8087594709469627, 0.8155442329522955, 0.8229625914094881, 0.8302225507537158, 0.8372251115393754, 0.8427756804561894, 0.8492172443834315]}],\n",
       "                        {\"template\": {\"data\": {\"bar\": [{\"error_x\": {\"color\": \"#2a3f5f\"}, \"error_y\": {\"color\": \"#2a3f5f\"}, \"marker\": {\"line\": {\"color\": \"#E5ECF6\", \"width\": 0.5}}, \"type\": \"bar\"}], \"barpolar\": [{\"marker\": {\"line\": {\"color\": \"#E5ECF6\", \"width\": 0.5}}, \"type\": \"barpolar\"}], \"carpet\": [{\"aaxis\": {\"endlinecolor\": \"#2a3f5f\", \"gridcolor\": \"white\", \"linecolor\": \"white\", \"minorgridcolor\": \"white\", \"startlinecolor\": \"#2a3f5f\"}, \"baxis\": {\"endlinecolor\": \"#2a3f5f\", \"gridcolor\": \"white\", \"linecolor\": \"white\", \"minorgridcolor\": \"white\", \"startlinecolor\": \"#2a3f5f\"}, \"type\": \"carpet\"}], \"choropleth\": [{\"colorbar\": {\"outlinewidth\": 0, \"ticks\": \"\"}, \"type\": \"choropleth\"}], \"contour\": [{\"colorbar\": {\"outlinewidth\": 0, \"ticks\": \"\"}, \"colorscale\": [[0.0, \"#0d0887\"], [0.1111111111111111, \"#46039f\"], [0.2222222222222222, \"#7201a8\"], [0.3333333333333333, \"#9c179e\"], [0.4444444444444444, \"#bd3786\"], [0.5555555555555556, \"#d8576b\"], [0.6666666666666666, \"#ed7953\"], [0.7777777777777778, \"#fb9f3a\"], [0.8888888888888888, \"#fdca26\"], [1.0, \"#f0f921\"]], \"type\": \"contour\"}], \"contourcarpet\": [{\"colorbar\": {\"outlinewidth\": 0, \"ticks\": \"\"}, \"type\": \"contourcarpet\"}], \"heatmap\": [{\"colorbar\": {\"outlinewidth\": 0, \"ticks\": \"\"}, \"colorscale\": [[0.0, \"#0d0887\"], [0.1111111111111111, \"#46039f\"], [0.2222222222222222, \"#7201a8\"], [0.3333333333333333, \"#9c179e\"], [0.4444444444444444, \"#bd3786\"], [0.5555555555555556, \"#d8576b\"], [0.6666666666666666, \"#ed7953\"], [0.7777777777777778, \"#fb9f3a\"], [0.8888888888888888, \"#fdca26\"], [1.0, \"#f0f921\"]], \"type\": \"heatmap\"}], \"heatmapgl\": [{\"colorbar\": {\"outlinewidth\": 0, \"ticks\": \"\"}, \"colorscale\": [[0.0, \"#0d0887\"], [0.1111111111111111, \"#46039f\"], [0.2222222222222222, \"#7201a8\"], [0.3333333333333333, \"#9c179e\"], [0.4444444444444444, \"#bd3786\"], [0.5555555555555556, \"#d8576b\"], [0.6666666666666666, \"#ed7953\"], [0.7777777777777778, \"#fb9f3a\"], [0.8888888888888888, \"#fdca26\"], [1.0, \"#f0f921\"]], \"type\": \"heatmapgl\"}], \"histogram\": [{\"marker\": {\"colorbar\": {\"outlinewidth\": 0, \"ticks\": \"\"}}, \"type\": \"histogram\"}], \"histogram2d\": [{\"colorbar\": {\"outlinewidth\": 0, \"ticks\": \"\"}, \"colorscale\": [[0.0, \"#0d0887\"], [0.1111111111111111, \"#46039f\"], [0.2222222222222222, \"#7201a8\"], [0.3333333333333333, \"#9c179e\"], [0.4444444444444444, \"#bd3786\"], [0.5555555555555556, \"#d8576b\"], [0.6666666666666666, \"#ed7953\"], [0.7777777777777778, \"#fb9f3a\"], [0.8888888888888888, \"#fdca26\"], [1.0, \"#f0f921\"]], \"type\": \"histogram2d\"}], \"histogram2dcontour\": [{\"colorbar\": {\"outlinewidth\": 0, \"ticks\": \"\"}, \"colorscale\": [[0.0, \"#0d0887\"], [0.1111111111111111, \"#46039f\"], [0.2222222222222222, \"#7201a8\"], [0.3333333333333333, \"#9c179e\"], [0.4444444444444444, \"#bd3786\"], [0.5555555555555556, \"#d8576b\"], [0.6666666666666666, \"#ed7953\"], [0.7777777777777778, \"#fb9f3a\"], [0.8888888888888888, \"#fdca26\"], [1.0, \"#f0f921\"]], \"type\": \"histogram2dcontour\"}], \"mesh3d\": [{\"colorbar\": {\"outlinewidth\": 0, \"ticks\": \"\"}, \"type\": \"mesh3d\"}], \"parcoords\": [{\"line\": {\"colorbar\": {\"outlinewidth\": 0, \"ticks\": \"\"}}, \"type\": \"parcoords\"}], \"scatter\": [{\"marker\": {\"colorbar\": {\"outlinewidth\": 0, \"ticks\": \"\"}}, \"type\": \"scatter\"}], \"scatter3d\": [{\"line\": {\"colorbar\": {\"outlinewidth\": 0, \"ticks\": \"\"}}, \"marker\": {\"colorbar\": {\"outlinewidth\": 0, \"ticks\": \"\"}}, \"type\": \"scatter3d\"}], \"scattercarpet\": [{\"marker\": {\"colorbar\": {\"outlinewidth\": 0, \"ticks\": \"\"}}, \"type\": \"scattercarpet\"}], \"scattergeo\": [{\"marker\": {\"colorbar\": {\"outlinewidth\": 0, \"ticks\": \"\"}}, \"type\": \"scattergeo\"}], \"scattergl\": [{\"marker\": {\"colorbar\": {\"outlinewidth\": 0, \"ticks\": \"\"}}, \"type\": \"scattergl\"}], \"scattermapbox\": [{\"marker\": {\"colorbar\": {\"outlinewidth\": 0, \"ticks\": \"\"}}, \"type\": \"scattermapbox\"}], \"scatterpolar\": [{\"marker\": {\"colorbar\": {\"outlinewidth\": 0, \"ticks\": \"\"}}, \"type\": \"scatterpolar\"}], \"scatterpolargl\": [{\"marker\": {\"colorbar\": {\"outlinewidth\": 0, \"ticks\": \"\"}}, \"type\": \"scatterpolargl\"}], \"scatterternary\": [{\"marker\": {\"colorbar\": {\"outlinewidth\": 0, \"ticks\": \"\"}}, \"type\": \"scatterternary\"}], \"surface\": [{\"colorbar\": {\"outlinewidth\": 0, \"ticks\": \"\"}, \"colorscale\": [[0.0, \"#0d0887\"], [0.1111111111111111, \"#46039f\"], [0.2222222222222222, \"#7201a8\"], [0.3333333333333333, \"#9c179e\"], [0.4444444444444444, \"#bd3786\"], [0.5555555555555556, \"#d8576b\"], [0.6666666666666666, \"#ed7953\"], [0.7777777777777778, \"#fb9f3a\"], [0.8888888888888888, \"#fdca26\"], [1.0, \"#f0f921\"]], \"type\": \"surface\"}], \"table\": [{\"cells\": {\"fill\": {\"color\": \"#EBF0F8\"}, \"line\": {\"color\": \"white\"}}, \"header\": {\"fill\": {\"color\": \"#C8D4E3\"}, \"line\": {\"color\": \"white\"}}, \"type\": \"table\"}]}, \"layout\": {\"annotationdefaults\": {\"arrowcolor\": \"#2a3f5f\", \"arrowhead\": 0, \"arrowwidth\": 1}, \"colorscale\": {\"diverging\": [[0, \"#8e0152\"], [0.1, \"#c51b7d\"], [0.2, \"#de77ae\"], [0.3, \"#f1b6da\"], [0.4, \"#fde0ef\"], [0.5, \"#f7f7f7\"], [0.6, \"#e6f5d0\"], [0.7, \"#b8e186\"], [0.8, \"#7fbc41\"], [0.9, \"#4d9221\"], [1, \"#276419\"]], \"sequential\": [[0.0, \"#0d0887\"], [0.1111111111111111, \"#46039f\"], [0.2222222222222222, \"#7201a8\"], [0.3333333333333333, \"#9c179e\"], [0.4444444444444444, \"#bd3786\"], [0.5555555555555556, \"#d8576b\"], [0.6666666666666666, \"#ed7953\"], [0.7777777777777778, \"#fb9f3a\"], [0.8888888888888888, \"#fdca26\"], [1.0, \"#f0f921\"]], \"sequentialminus\": [[0.0, \"#0d0887\"], [0.1111111111111111, \"#46039f\"], [0.2222222222222222, \"#7201a8\"], [0.3333333333333333, \"#9c179e\"], [0.4444444444444444, \"#bd3786\"], [0.5555555555555556, \"#d8576b\"], [0.6666666666666666, \"#ed7953\"], [0.7777777777777778, \"#fb9f3a\"], [0.8888888888888888, \"#fdca26\"], [1.0, \"#f0f921\"]]}, \"colorway\": [\"#636efa\", \"#EF553B\", \"#00cc96\", \"#ab63fa\", \"#FFA15A\", \"#19d3f3\", \"#FF6692\", \"#B6E880\", \"#FF97FF\", \"#FECB52\"], \"font\": {\"color\": \"#2a3f5f\"}, \"geo\": {\"bgcolor\": \"white\", \"lakecolor\": \"white\", \"landcolor\": \"#E5ECF6\", \"showlakes\": true, \"showland\": true, \"subunitcolor\": \"white\"}, \"hoverlabel\": {\"align\": \"left\"}, \"hovermode\": \"closest\", \"mapbox\": {\"style\": \"light\"}, \"paper_bgcolor\": \"white\", \"plot_bgcolor\": \"#E5ECF6\", \"polar\": {\"angularaxis\": {\"gridcolor\": \"white\", \"linecolor\": \"white\", \"ticks\": \"\"}, \"bgcolor\": \"#E5ECF6\", \"radialaxis\": {\"gridcolor\": \"white\", \"linecolor\": \"white\", \"ticks\": \"\"}}, \"scene\": {\"xaxis\": {\"backgroundcolor\": \"#E5ECF6\", \"gridcolor\": \"white\", \"gridwidth\": 2, \"linecolor\": \"white\", \"showbackground\": true, \"ticks\": \"\", \"zerolinecolor\": \"white\"}, \"yaxis\": {\"backgroundcolor\": \"#E5ECF6\", \"gridcolor\": \"white\", \"gridwidth\": 2, \"linecolor\": \"white\", \"showbackground\": true, \"ticks\": \"\", \"zerolinecolor\": \"white\"}, \"zaxis\": {\"backgroundcolor\": \"#E5ECF6\", \"gridcolor\": \"white\", \"gridwidth\": 2, \"linecolor\": \"white\", \"showbackground\": true, \"ticks\": \"\", \"zerolinecolor\": \"white\"}}, \"shapedefaults\": {\"line\": {\"color\": \"#2a3f5f\"}}, \"ternary\": {\"aaxis\": {\"gridcolor\": \"white\", \"linecolor\": \"white\", \"ticks\": \"\"}, \"baxis\": {\"gridcolor\": \"white\", \"linecolor\": \"white\", \"ticks\": \"\"}, \"bgcolor\": \"#E5ECF6\", \"caxis\": {\"gridcolor\": \"white\", \"linecolor\": \"white\", \"ticks\": \"\"}}, \"title\": {\"x\": 0.05}, \"xaxis\": {\"automargin\": true, \"gridcolor\": \"white\", \"linecolor\": \"white\", \"ticks\": \"\", \"zerolinecolor\": \"white\", \"zerolinewidth\": 2}, \"yaxis\": {\"automargin\": true, \"gridcolor\": \"white\", \"linecolor\": \"white\", \"ticks\": \"\", \"zerolinecolor\": \"white\", \"zerolinewidth\": 2}}}, \"title\": {\"text\": \"The Recall of Direct Trust Analysis with Different LIWC Threshold\"}},\n",
       "                        {\"responsive\": true}\n",
       "                    ).then(function(){\n",
       "                            \n",
       "var gd = document.getElementById('d6ef0c88-b557-4200-a004-548d8fd5226c');\n",
       "var x = new MutationObserver(function (mutations, observer) {{\n",
       "        var display = window.getComputedStyle(gd).display;\n",
       "        if (!display || display === 'none') {{\n",
       "            console.log([gd, 'removed!']);\n",
       "            Plotly.purge(gd);\n",
       "            observer.disconnect();\n",
       "        }}\n",
       "}});\n",
       "\n",
       "// Listen for the removal of the full notebook cells\n",
       "var notebookContainer = gd.closest('#notebook-container');\n",
       "if (notebookContainer) {{\n",
       "    x.observe(notebookContainer, {childList: true});\n",
       "}}\n",
       "\n",
       "// Listen for the clearing of the current output cell\n",
       "var outputEl = gd.closest('.output');\n",
       "if (outputEl) {{\n",
       "    x.observe(outputEl, {childList: true});\n",
       "}}\n",
       "\n",
       "                        })\n",
       "                };\n",
       "                });\n",
       "            </script>\n",
       "        </div>"
      ]
     },
     "metadata": {},
     "output_type": "display_data"
    },
    {
     "data": {
      "application/vnd.plotly.v1+json": {
       "config": {
        "linkText": "Export to plot.ly",
        "plotlyServerURL": "https://plot.ly",
        "showLink": false
       },
       "data": [
        {
         "marker": {
          "symbol": 201
         },
         "mode": "lines+markers",
         "type": "scatter",
         "x": [
          1,
          2,
          3,
          4,
          5,
          6,
          7,
          8,
          9,
          10,
          11,
          12,
          13,
          14,
          15,
          16,
          17,
          18,
          19,
          20,
          21,
          22,
          23,
          24,
          25,
          26,
          27,
          28,
          29,
          30,
          31,
          32,
          33,
          34,
          35,
          36,
          37,
          38,
          39,
          40,
          41,
          42,
          43,
          44,
          45,
          46,
          47,
          48,
          49,
          50
         ],
         "y": [
          0.22885024890355515,
          0.2619260072757224,
          0.2839032100973168,
          0.30296912292288986,
          0.31595640656390567,
          0.3269894313581656,
          0.33441964751277503,
          0.3427481870467617,
          0.3480806373732497,
          0.35389060070012757,
          0.36048872381585284,
          0.36671011228602124,
          0.3699791499769217,
          0.37413006650043706,
          0.37629950183666283,
          0.3793718491730461,
          0.38171413739151755,
          0.3838068335501109,
          0.38588864815330737,
          0.38838151789846814,
          0.38979378677033133,
          0.39068578705884405,
          0.3928070115375398,
          0.3948481967847499,
          0.39567834976495236,
          0.39655755954541194,
          0.39772902935679255,
          0.39905206144983957,
          0.4001249316779886,
          0.4005088077708823,
          0.40166465910453214,
          0.40238458485160306,
          0.4030889981371662,
          0.40390862720310455,
          0.40457134131821426,
          0.4055599127913252,
          0.40603660761160687,
          0.40637662163781013,
          0.40702606172219435,
          0.40743211942279906,
          0.4079045616150268,
          0.40847391187036625,
          0.40865993744142504,
          0.40894103827106104,
          0.4089475478304612,
          0.40936847496355827,
          0.4097465956784946,
          0.4101817076542268,
          0.4101616954574947,
          0.4106854172684489
         ]
        }
       ],
       "layout": {
        "autosize": true,
        "template": {
         "data": {
          "bar": [
           {
            "error_x": {
             "color": "#2a3f5f"
            },
            "error_y": {
             "color": "#2a3f5f"
            },
            "marker": {
             "line": {
              "color": "#E5ECF6",
              "width": 0.5
             }
            },
            "type": "bar"
           }
          ],
          "barpolar": [
           {
            "marker": {
             "line": {
              "color": "#E5ECF6",
              "width": 0.5
             }
            },
            "type": "barpolar"
           }
          ],
          "carpet": [
           {
            "aaxis": {
             "endlinecolor": "#2a3f5f",
             "gridcolor": "white",
             "linecolor": "white",
             "minorgridcolor": "white",
             "startlinecolor": "#2a3f5f"
            },
            "baxis": {
             "endlinecolor": "#2a3f5f",
             "gridcolor": "white",
             "linecolor": "white",
             "minorgridcolor": "white",
             "startlinecolor": "#2a3f5f"
            },
            "type": "carpet"
           }
          ],
          "choropleth": [
           {
            "colorbar": {
             "outlinewidth": 0,
             "ticks": ""
            },
            "type": "choropleth"
           }
          ],
          "contour": [
           {
            "colorbar": {
             "outlinewidth": 0,
             "ticks": ""
            },
            "colorscale": [
             [
              0,
              "#0d0887"
             ],
             [
              0.1111111111111111,
              "#46039f"
             ],
             [
              0.2222222222222222,
              "#7201a8"
             ],
             [
              0.3333333333333333,
              "#9c179e"
             ],
             [
              0.4444444444444444,
              "#bd3786"
             ],
             [
              0.5555555555555556,
              "#d8576b"
             ],
             [
              0.6666666666666666,
              "#ed7953"
             ],
             [
              0.7777777777777778,
              "#fb9f3a"
             ],
             [
              0.8888888888888888,
              "#fdca26"
             ],
             [
              1,
              "#f0f921"
             ]
            ],
            "type": "contour"
           }
          ],
          "contourcarpet": [
           {
            "colorbar": {
             "outlinewidth": 0,
             "ticks": ""
            },
            "type": "contourcarpet"
           }
          ],
          "heatmap": [
           {
            "colorbar": {
             "outlinewidth": 0,
             "ticks": ""
            },
            "colorscale": [
             [
              0,
              "#0d0887"
             ],
             [
              0.1111111111111111,
              "#46039f"
             ],
             [
              0.2222222222222222,
              "#7201a8"
             ],
             [
              0.3333333333333333,
              "#9c179e"
             ],
             [
              0.4444444444444444,
              "#bd3786"
             ],
             [
              0.5555555555555556,
              "#d8576b"
             ],
             [
              0.6666666666666666,
              "#ed7953"
             ],
             [
              0.7777777777777778,
              "#fb9f3a"
             ],
             [
              0.8888888888888888,
              "#fdca26"
             ],
             [
              1,
              "#f0f921"
             ]
            ],
            "type": "heatmap"
           }
          ],
          "heatmapgl": [
           {
            "colorbar": {
             "outlinewidth": 0,
             "ticks": ""
            },
            "colorscale": [
             [
              0,
              "#0d0887"
             ],
             [
              0.1111111111111111,
              "#46039f"
             ],
             [
              0.2222222222222222,
              "#7201a8"
             ],
             [
              0.3333333333333333,
              "#9c179e"
             ],
             [
              0.4444444444444444,
              "#bd3786"
             ],
             [
              0.5555555555555556,
              "#d8576b"
             ],
             [
              0.6666666666666666,
              "#ed7953"
             ],
             [
              0.7777777777777778,
              "#fb9f3a"
             ],
             [
              0.8888888888888888,
              "#fdca26"
             ],
             [
              1,
              "#f0f921"
             ]
            ],
            "type": "heatmapgl"
           }
          ],
          "histogram": [
           {
            "marker": {
             "colorbar": {
              "outlinewidth": 0,
              "ticks": ""
             }
            },
            "type": "histogram"
           }
          ],
          "histogram2d": [
           {
            "colorbar": {
             "outlinewidth": 0,
             "ticks": ""
            },
            "colorscale": [
             [
              0,
              "#0d0887"
             ],
             [
              0.1111111111111111,
              "#46039f"
             ],
             [
              0.2222222222222222,
              "#7201a8"
             ],
             [
              0.3333333333333333,
              "#9c179e"
             ],
             [
              0.4444444444444444,
              "#bd3786"
             ],
             [
              0.5555555555555556,
              "#d8576b"
             ],
             [
              0.6666666666666666,
              "#ed7953"
             ],
             [
              0.7777777777777778,
              "#fb9f3a"
             ],
             [
              0.8888888888888888,
              "#fdca26"
             ],
             [
              1,
              "#f0f921"
             ]
            ],
            "type": "histogram2d"
           }
          ],
          "histogram2dcontour": [
           {
            "colorbar": {
             "outlinewidth": 0,
             "ticks": ""
            },
            "colorscale": [
             [
              0,
              "#0d0887"
             ],
             [
              0.1111111111111111,
              "#46039f"
             ],
             [
              0.2222222222222222,
              "#7201a8"
             ],
             [
              0.3333333333333333,
              "#9c179e"
             ],
             [
              0.4444444444444444,
              "#bd3786"
             ],
             [
              0.5555555555555556,
              "#d8576b"
             ],
             [
              0.6666666666666666,
              "#ed7953"
             ],
             [
              0.7777777777777778,
              "#fb9f3a"
             ],
             [
              0.8888888888888888,
              "#fdca26"
             ],
             [
              1,
              "#f0f921"
             ]
            ],
            "type": "histogram2dcontour"
           }
          ],
          "mesh3d": [
           {
            "colorbar": {
             "outlinewidth": 0,
             "ticks": ""
            },
            "type": "mesh3d"
           }
          ],
          "parcoords": [
           {
            "line": {
             "colorbar": {
              "outlinewidth": 0,
              "ticks": ""
             }
            },
            "type": "parcoords"
           }
          ],
          "scatter": [
           {
            "marker": {
             "colorbar": {
              "outlinewidth": 0,
              "ticks": ""
             }
            },
            "type": "scatter"
           }
          ],
          "scatter3d": [
           {
            "line": {
             "colorbar": {
              "outlinewidth": 0,
              "ticks": ""
             }
            },
            "marker": {
             "colorbar": {
              "outlinewidth": 0,
              "ticks": ""
             }
            },
            "type": "scatter3d"
           }
          ],
          "scattercarpet": [
           {
            "marker": {
             "colorbar": {
              "outlinewidth": 0,
              "ticks": ""
             }
            },
            "type": "scattercarpet"
           }
          ],
          "scattergeo": [
           {
            "marker": {
             "colorbar": {
              "outlinewidth": 0,
              "ticks": ""
             }
            },
            "type": "scattergeo"
           }
          ],
          "scattergl": [
           {
            "marker": {
             "colorbar": {
              "outlinewidth": 0,
              "ticks": ""
             }
            },
            "type": "scattergl"
           }
          ],
          "scattermapbox": [
           {
            "marker": {
             "colorbar": {
              "outlinewidth": 0,
              "ticks": ""
             }
            },
            "type": "scattermapbox"
           }
          ],
          "scatterpolar": [
           {
            "marker": {
             "colorbar": {
              "outlinewidth": 0,
              "ticks": ""
             }
            },
            "type": "scatterpolar"
           }
          ],
          "scatterpolargl": [
           {
            "marker": {
             "colorbar": {
              "outlinewidth": 0,
              "ticks": ""
             }
            },
            "type": "scatterpolargl"
           }
          ],
          "scatterternary": [
           {
            "marker": {
             "colorbar": {
              "outlinewidth": 0,
              "ticks": ""
             }
            },
            "type": "scatterternary"
           }
          ],
          "surface": [
           {
            "colorbar": {
             "outlinewidth": 0,
             "ticks": ""
            },
            "colorscale": [
             [
              0,
              "#0d0887"
             ],
             [
              0.1111111111111111,
              "#46039f"
             ],
             [
              0.2222222222222222,
              "#7201a8"
             ],
             [
              0.3333333333333333,
              "#9c179e"
             ],
             [
              0.4444444444444444,
              "#bd3786"
             ],
             [
              0.5555555555555556,
              "#d8576b"
             ],
             [
              0.6666666666666666,
              "#ed7953"
             ],
             [
              0.7777777777777778,
              "#fb9f3a"
             ],
             [
              0.8888888888888888,
              "#fdca26"
             ],
             [
              1,
              "#f0f921"
             ]
            ],
            "type": "surface"
           }
          ],
          "table": [
           {
            "cells": {
             "fill": {
              "color": "#EBF0F8"
             },
             "line": {
              "color": "white"
             }
            },
            "header": {
             "fill": {
              "color": "#C8D4E3"
             },
             "line": {
              "color": "white"
             }
            },
            "type": "table"
           }
          ]
         },
         "layout": {
          "annotationdefaults": {
           "arrowcolor": "#2a3f5f",
           "arrowhead": 0,
           "arrowwidth": 1
          },
          "colorscale": {
           "diverging": [
            [
             0,
             "#8e0152"
            ],
            [
             0.1,
             "#c51b7d"
            ],
            [
             0.2,
             "#de77ae"
            ],
            [
             0.3,
             "#f1b6da"
            ],
            [
             0.4,
             "#fde0ef"
            ],
            [
             0.5,
             "#f7f7f7"
            ],
            [
             0.6,
             "#e6f5d0"
            ],
            [
             0.7,
             "#b8e186"
            ],
            [
             0.8,
             "#7fbc41"
            ],
            [
             0.9,
             "#4d9221"
            ],
            [
             1,
             "#276419"
            ]
           ],
           "sequential": [
            [
             0,
             "#0d0887"
            ],
            [
             0.1111111111111111,
             "#46039f"
            ],
            [
             0.2222222222222222,
             "#7201a8"
            ],
            [
             0.3333333333333333,
             "#9c179e"
            ],
            [
             0.4444444444444444,
             "#bd3786"
            ],
            [
             0.5555555555555556,
             "#d8576b"
            ],
            [
             0.6666666666666666,
             "#ed7953"
            ],
            [
             0.7777777777777778,
             "#fb9f3a"
            ],
            [
             0.8888888888888888,
             "#fdca26"
            ],
            [
             1,
             "#f0f921"
            ]
           ],
           "sequentialminus": [
            [
             0,
             "#0d0887"
            ],
            [
             0.1111111111111111,
             "#46039f"
            ],
            [
             0.2222222222222222,
             "#7201a8"
            ],
            [
             0.3333333333333333,
             "#9c179e"
            ],
            [
             0.4444444444444444,
             "#bd3786"
            ],
            [
             0.5555555555555556,
             "#d8576b"
            ],
            [
             0.6666666666666666,
             "#ed7953"
            ],
            [
             0.7777777777777778,
             "#fb9f3a"
            ],
            [
             0.8888888888888888,
             "#fdca26"
            ],
            [
             1,
             "#f0f921"
            ]
           ]
          },
          "colorway": [
           "#636efa",
           "#EF553B",
           "#00cc96",
           "#ab63fa",
           "#FFA15A",
           "#19d3f3",
           "#FF6692",
           "#B6E880",
           "#FF97FF",
           "#FECB52"
          ],
          "font": {
           "color": "#2a3f5f"
          },
          "geo": {
           "bgcolor": "white",
           "lakecolor": "white",
           "landcolor": "#E5ECF6",
           "showlakes": true,
           "showland": true,
           "subunitcolor": "white"
          },
          "hoverlabel": {
           "align": "left"
          },
          "hovermode": "closest",
          "mapbox": {
           "style": "light"
          },
          "paper_bgcolor": "white",
          "plot_bgcolor": "#E5ECF6",
          "polar": {
           "angularaxis": {
            "gridcolor": "white",
            "linecolor": "white",
            "ticks": ""
           },
           "bgcolor": "#E5ECF6",
           "radialaxis": {
            "gridcolor": "white",
            "linecolor": "white",
            "ticks": ""
           }
          },
          "scene": {
           "xaxis": {
            "backgroundcolor": "#E5ECF6",
            "gridcolor": "white",
            "gridwidth": 2,
            "linecolor": "white",
            "showbackground": true,
            "ticks": "",
            "zerolinecolor": "white"
           },
           "yaxis": {
            "backgroundcolor": "#E5ECF6",
            "gridcolor": "white",
            "gridwidth": 2,
            "linecolor": "white",
            "showbackground": true,
            "ticks": "",
            "zerolinecolor": "white"
           },
           "zaxis": {
            "backgroundcolor": "#E5ECF6",
            "gridcolor": "white",
            "gridwidth": 2,
            "linecolor": "white",
            "showbackground": true,
            "ticks": "",
            "zerolinecolor": "white"
           }
          },
          "shapedefaults": {
           "line": {
            "color": "#2a3f5f"
           }
          },
          "ternary": {
           "aaxis": {
            "gridcolor": "white",
            "linecolor": "white",
            "ticks": ""
           },
           "baxis": {
            "gridcolor": "white",
            "linecolor": "white",
            "ticks": ""
           },
           "bgcolor": "#E5ECF6",
           "caxis": {
            "gridcolor": "white",
            "linecolor": "white",
            "ticks": ""
           }
          },
          "title": {
           "x": 0.05
          },
          "xaxis": {
           "automargin": true,
           "gridcolor": "white",
           "linecolor": "white",
           "ticks": "",
           "zerolinecolor": "white",
           "zerolinewidth": 2
          },
          "yaxis": {
           "automargin": true,
           "gridcolor": "white",
           "linecolor": "white",
           "ticks": "",
           "zerolinecolor": "white",
           "zerolinewidth": 2
          }
         }
        },
        "title": {
         "text": "The F-Value of Direct Trust Analysis with Different LIWC Threshold"
        },
        "xaxis": {
         "autorange": true,
         "range": [
          -2.0268576544315127,
          53.02685765443151
         ],
         "type": "linear"
        },
        "yaxis": {
         "autorange": true,
         "range": [
          0.21553111236727313,
          0.42400455380473095
         ],
         "type": "linear"
        }
       }
      },
      "image/png": "[encoded data removed]",
      "text/html": [
       "<div>\n",
       "        \n",
       "        \n",
       "            <div id=\"8761d9bd-cc07-4290-9243-06ef3864674d\" class=\"plotly-graph-div\" style=\"height:525px; width:100%;\"></div>\n",
       "            <script type=\"text/javascript\">\n",
       "                require([\"plotly\"], function(Plotly) {\n",
       "                    window.PLOTLYENV=window.PLOTLYENV || {};\n",
       "                    \n",
       "                if (document.getElementById(\"8761d9bd-cc07-4290-9243-06ef3864674d\")) {\n",
       "                    Plotly.newPlot(\n",
       "                        '8761d9bd-cc07-4290-9243-06ef3864674d',\n",
       "                        [{\"marker\": {\"symbol\": 201}, \"mode\": \"lines+markers\", \"type\": \"scatter\", \"x\": [1, 2, 3, 4, 5, 6, 7, 8, 9, 10, 11, 12, 13, 14, 15, 16, 17, 18, 19, 20, 21, 22, 23, 24, 25, 26, 27, 28, 29, 30, 31, 32, 33, 34, 35, 36, 37, 38, 39, 40, 41, 42, 43, 44, 45, 46, 47, 48, 49, 50], \"y\": [0.22885024890355515, 0.2619260072757224, 0.2839032100973168, 0.30296912292288986, 0.31595640656390567, 0.3269894313581656, 0.33441964751277503, 0.3427481870467617, 0.3480806373732497, 0.35389060070012757, 0.36048872381585284, 0.36671011228602124, 0.3699791499769217, 0.37413006650043706, 0.37629950183666283, 0.3793718491730461, 0.38171413739151755, 0.3838068335501109, 0.38588864815330737, 0.38838151789846814, 0.38979378677033133, 0.39068578705884405, 0.3928070115375398, 0.3948481967847499, 0.39567834976495236, 0.39655755954541194, 0.39772902935679255, 0.39905206144983957, 0.4001249316779886, 0.4005088077708823, 0.40166465910453214, 0.40238458485160306, 0.4030889981371662, 0.40390862720310455, 0.40457134131821426, 0.4055599127913252, 0.40603660761160687, 0.40637662163781013, 0.40702606172219435, 0.40743211942279906, 0.4079045616150268, 0.40847391187036625, 0.40865993744142504, 0.40894103827106104, 0.4089475478304612, 0.40936847496355827, 0.4097465956784946, 0.4101817076542268, 0.4101616954574947, 0.4106854172684489]}],\n",
       "                        {\"template\": {\"data\": {\"bar\": [{\"error_x\": {\"color\": \"#2a3f5f\"}, \"error_y\": {\"color\": \"#2a3f5f\"}, \"marker\": {\"line\": {\"color\": \"#E5ECF6\", \"width\": 0.5}}, \"type\": \"bar\"}], \"barpolar\": [{\"marker\": {\"line\": {\"color\": \"#E5ECF6\", \"width\": 0.5}}, \"type\": \"barpolar\"}], \"carpet\": [{\"aaxis\": {\"endlinecolor\": \"#2a3f5f\", \"gridcolor\": \"white\", \"linecolor\": \"white\", \"minorgridcolor\": \"white\", \"startlinecolor\": \"#2a3f5f\"}, \"baxis\": {\"endlinecolor\": \"#2a3f5f\", \"gridcolor\": \"white\", \"linecolor\": \"white\", \"minorgridcolor\": \"white\", \"startlinecolor\": \"#2a3f5f\"}, \"type\": \"carpet\"}], \"choropleth\": [{\"colorbar\": {\"outlinewidth\": 0, \"ticks\": \"\"}, \"type\": \"choropleth\"}], \"contour\": [{\"colorbar\": {\"outlinewidth\": 0, \"ticks\": \"\"}, \"colorscale\": [[0.0, \"#0d0887\"], [0.1111111111111111, \"#46039f\"], [0.2222222222222222, \"#7201a8\"], [0.3333333333333333, \"#9c179e\"], [0.4444444444444444, \"#bd3786\"], [0.5555555555555556, \"#d8576b\"], [0.6666666666666666, \"#ed7953\"], [0.7777777777777778, \"#fb9f3a\"], [0.8888888888888888, \"#fdca26\"], [1.0, \"#f0f921\"]], \"type\": \"contour\"}], \"contourcarpet\": [{\"colorbar\": {\"outlinewidth\": 0, \"ticks\": \"\"}, \"type\": \"contourcarpet\"}], \"heatmap\": [{\"colorbar\": {\"outlinewidth\": 0, \"ticks\": \"\"}, \"colorscale\": [[0.0, \"#0d0887\"], [0.1111111111111111, \"#46039f\"], [0.2222222222222222, \"#7201a8\"], [0.3333333333333333, \"#9c179e\"], [0.4444444444444444, \"#bd3786\"], [0.5555555555555556, \"#d8576b\"], [0.6666666666666666, \"#ed7953\"], [0.7777777777777778, \"#fb9f3a\"], [0.8888888888888888, \"#fdca26\"], [1.0, \"#f0f921\"]], \"type\": \"heatmap\"}], \"heatmapgl\": [{\"colorbar\": {\"outlinewidth\": 0, \"ticks\": \"\"}, \"colorscale\": [[0.0, \"#0d0887\"], [0.1111111111111111, \"#46039f\"], [0.2222222222222222, \"#7201a8\"], [0.3333333333333333, \"#9c179e\"], [0.4444444444444444, \"#bd3786\"], [0.5555555555555556, \"#d8576b\"], [0.6666666666666666, \"#ed7953\"], [0.7777777777777778, \"#fb9f3a\"], [0.8888888888888888, \"#fdca26\"], [1.0, \"#f0f921\"]], \"type\": \"heatmapgl\"}], \"histogram\": [{\"marker\": {\"colorbar\": {\"outlinewidth\": 0, \"ticks\": \"\"}}, \"type\": \"histogram\"}], \"histogram2d\": [{\"colorbar\": {\"outlinewidth\": 0, \"ticks\": \"\"}, \"colorscale\": [[0.0, \"#0d0887\"], [0.1111111111111111, \"#46039f\"], [0.2222222222222222, \"#7201a8\"], [0.3333333333333333, \"#9c179e\"], [0.4444444444444444, \"#bd3786\"], [0.5555555555555556, \"#d8576b\"], [0.6666666666666666, \"#ed7953\"], [0.7777777777777778, \"#fb9f3a\"], [0.8888888888888888, \"#fdca26\"], [1.0, \"#f0f921\"]], \"type\": \"histogram2d\"}], \"histogram2dcontour\": [{\"colorbar\": {\"outlinewidth\": 0, \"ticks\": \"\"}, \"colorscale\": [[0.0, \"#0d0887\"], [0.1111111111111111, \"#46039f\"], [0.2222222222222222, \"#7201a8\"], [0.3333333333333333, \"#9c179e\"], [0.4444444444444444, \"#bd3786\"], [0.5555555555555556, \"#d8576b\"], [0.6666666666666666, \"#ed7953\"], [0.7777777777777778, \"#fb9f3a\"], [0.8888888888888888, \"#fdca26\"], [1.0, \"#f0f921\"]], \"type\": \"histogram2dcontour\"}], \"mesh3d\": [{\"colorbar\": {\"outlinewidth\": 0, \"ticks\": \"\"}, \"type\": \"mesh3d\"}], \"parcoords\": [{\"line\": {\"colorbar\": {\"outlinewidth\": 0, \"ticks\": \"\"}}, \"type\": \"parcoords\"}], \"scatter\": [{\"marker\": {\"colorbar\": {\"outlinewidth\": 0, \"ticks\": \"\"}}, \"type\": \"scatter\"}], \"scatter3d\": [{\"line\": {\"colorbar\": {\"outlinewidth\": 0, \"ticks\": \"\"}}, \"marker\": {\"colorbar\": {\"outlinewidth\": 0, \"ticks\": \"\"}}, \"type\": \"scatter3d\"}], \"scattercarpet\": [{\"marker\": {\"colorbar\": {\"outlinewidth\": 0, \"ticks\": \"\"}}, \"type\": \"scattercarpet\"}], \"scattergeo\": [{\"marker\": {\"colorbar\": {\"outlinewidth\": 0, \"ticks\": \"\"}}, \"type\": \"scattergeo\"}], \"scattergl\": [{\"marker\": {\"colorbar\": {\"outlinewidth\": 0, \"ticks\": \"\"}}, \"type\": \"scattergl\"}], \"scattermapbox\": [{\"marker\": {\"colorbar\": {\"outlinewidth\": 0, \"ticks\": \"\"}}, \"type\": \"scattermapbox\"}], \"scatterpolar\": [{\"marker\": {\"colorbar\": {\"outlinewidth\": 0, \"ticks\": \"\"}}, \"type\": \"scatterpolar\"}], \"scatterpolargl\": [{\"marker\": {\"colorbar\": {\"outlinewidth\": 0, \"ticks\": \"\"}}, \"type\": \"scatterpolargl\"}], \"scatterternary\": [{\"marker\": {\"colorbar\": {\"outlinewidth\": 0, \"ticks\": \"\"}}, \"type\": \"scatterternary\"}], \"surface\": [{\"colorbar\": {\"outlinewidth\": 0, \"ticks\": \"\"}, \"colorscale\": [[0.0, \"#0d0887\"], [0.1111111111111111, \"#46039f\"], [0.2222222222222222, \"#7201a8\"], [0.3333333333333333, \"#9c179e\"], [0.4444444444444444, \"#bd3786\"], [0.5555555555555556, \"#d8576b\"], [0.6666666666666666, \"#ed7953\"], [0.7777777777777778, \"#fb9f3a\"], [0.8888888888888888, \"#fdca26\"], [1.0, \"#f0f921\"]], \"type\": \"surface\"}], \"table\": [{\"cells\": {\"fill\": {\"color\": \"#EBF0F8\"}, \"line\": {\"color\": \"white\"}}, \"header\": {\"fill\": {\"color\": \"#C8D4E3\"}, \"line\": {\"color\": \"white\"}}, \"type\": \"table\"}]}, \"layout\": {\"annotationdefaults\": {\"arrowcolor\": \"#2a3f5f\", \"arrowhead\": 0, \"arrowwidth\": 1}, \"colorscale\": {\"diverging\": [[0, \"#8e0152\"], [0.1, \"#c51b7d\"], [0.2, \"#de77ae\"], [0.3, \"#f1b6da\"], [0.4, \"#fde0ef\"], [0.5, \"#f7f7f7\"], [0.6, \"#e6f5d0\"], [0.7, \"#b8e186\"], [0.8, \"#7fbc41\"], [0.9, \"#4d9221\"], [1, \"#276419\"]], \"sequential\": [[0.0, \"#0d0887\"], [0.1111111111111111, \"#46039f\"], [0.2222222222222222, \"#7201a8\"], [0.3333333333333333, \"#9c179e\"], [0.4444444444444444, \"#bd3786\"], [0.5555555555555556, \"#d8576b\"], [0.6666666666666666, \"#ed7953\"], [0.7777777777777778, \"#fb9f3a\"], [0.8888888888888888, \"#fdca26\"], [1.0, \"#f0f921\"]], \"sequentialminus\": [[0.0, \"#0d0887\"], [0.1111111111111111, \"#46039f\"], [0.2222222222222222, \"#7201a8\"], [0.3333333333333333, \"#9c179e\"], [0.4444444444444444, \"#bd3786\"], [0.5555555555555556, \"#d8576b\"], [0.6666666666666666, \"#ed7953\"], [0.7777777777777778, \"#fb9f3a\"], [0.8888888888888888, \"#fdca26\"], [1.0, \"#f0f921\"]]}, \"colorway\": [\"#636efa\", \"#EF553B\", \"#00cc96\", \"#ab63fa\", \"#FFA15A\", \"#19d3f3\", \"#FF6692\", \"#B6E880\", \"#FF97FF\", \"#FECB52\"], \"font\": {\"color\": \"#2a3f5f\"}, \"geo\": {\"bgcolor\": \"white\", \"lakecolor\": \"white\", \"landcolor\": \"#E5ECF6\", \"showlakes\": true, \"showland\": true, \"subunitcolor\": \"white\"}, \"hoverlabel\": {\"align\": \"left\"}, \"hovermode\": \"closest\", \"mapbox\": {\"style\": \"light\"}, \"paper_bgcolor\": \"white\", \"plot_bgcolor\": \"#E5ECF6\", \"polar\": {\"angularaxis\": {\"gridcolor\": \"white\", \"linecolor\": \"white\", \"ticks\": \"\"}, \"bgcolor\": \"#E5ECF6\", \"radialaxis\": {\"gridcolor\": \"white\", \"linecolor\": \"white\", \"ticks\": \"\"}}, \"scene\": {\"xaxis\": {\"backgroundcolor\": \"#E5ECF6\", \"gridcolor\": \"white\", \"gridwidth\": 2, \"linecolor\": \"white\", \"showbackground\": true, \"ticks\": \"\", \"zerolinecolor\": \"white\"}, \"yaxis\": {\"backgroundcolor\": \"#E5ECF6\", \"gridcolor\": \"white\", \"gridwidth\": 2, \"linecolor\": \"white\", \"showbackground\": true, \"ticks\": \"\", \"zerolinecolor\": \"white\"}, \"zaxis\": {\"backgroundcolor\": \"#E5ECF6\", \"gridcolor\": \"white\", \"gridwidth\": 2, \"linecolor\": \"white\", \"showbackground\": true, \"ticks\": \"\", \"zerolinecolor\": \"white\"}}, \"shapedefaults\": {\"line\": {\"color\": \"#2a3f5f\"}}, \"ternary\": {\"aaxis\": {\"gridcolor\": \"white\", \"linecolor\": \"white\", \"ticks\": \"\"}, \"baxis\": {\"gridcolor\": \"white\", \"linecolor\": \"white\", \"ticks\": \"\"}, \"bgcolor\": \"#E5ECF6\", \"caxis\": {\"gridcolor\": \"white\", \"linecolor\": \"white\", \"ticks\": \"\"}}, \"title\": {\"x\": 0.05}, \"xaxis\": {\"automargin\": true, \"gridcolor\": \"white\", \"linecolor\": \"white\", \"ticks\": \"\", \"zerolinecolor\": \"white\", \"zerolinewidth\": 2}, \"yaxis\": {\"automargin\": true, \"gridcolor\": \"white\", \"linecolor\": \"white\", \"ticks\": \"\", \"zerolinecolor\": \"white\", \"zerolinewidth\": 2}}}, \"title\": {\"text\": \"The F-Value of Direct Trust Analysis with Different LIWC Threshold\"}},\n",
       "                        {\"responsive\": true}\n",
       "                    ).then(function(){\n",
       "                            \n",
       "var gd = document.getElementById('8761d9bd-cc07-4290-9243-06ef3864674d');\n",
       "var x = new MutationObserver(function (mutations, observer) {{\n",
       "        var display = window.getComputedStyle(gd).display;\n",
       "        if (!display || display === 'none') {{\n",
       "            console.log([gd, 'removed!']);\n",
       "            Plotly.purge(gd);\n",
       "            observer.disconnect();\n",
       "        }}\n",
       "}});\n",
       "\n",
       "// Listen for the removal of the full notebook cells\n",
       "var notebookContainer = gd.closest('#notebook-container');\n",
       "if (notebookContainer) {{\n",
       "    x.observe(notebookContainer, {childList: true});\n",
       "}}\n",
       "\n",
       "// Listen for the clearing of the current output cell\n",
       "var outputEl = gd.closest('.output');\n",
       "if (outputEl) {{\n",
       "    x.observe(outputEl, {childList: true});\n",
       "}}\n",
       "\n",
       "                        })\n",
       "                };\n",
       "                });\n",
       "            </script>\n",
       "        </div>"
      ]
     },
     "metadata": {},
     "output_type": "display_data"
    }
   ],
   "source": [
    "plot_different_threshold()"
   ]
  }
 ],
 "metadata": {
  "kernelspec": {
   "display_name": "Python 3",
   "language": "python",
   "name": "python3"
  },
  "language_info": {
   "codemirror_mode": {
    "name": "ipython",
    "version": 3
   },
   "file_extension": ".py",
   "mimetype": "text/x-python",
   "name": "python",
   "nbconvert_exporter": "python",
   "pygments_lexer": "ipython3",
   "version": "3.7.2"
  },
  "widgets": {
   "application/vnd.jupyter.widget-state+json": {
    "state": {},
    "version_major": 2,
    "version_minor": 0
   }
  }
 },
 "nbformat": 4,
 "nbformat_minor": 4
}
